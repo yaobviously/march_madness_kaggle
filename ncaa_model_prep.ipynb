{
 "cells": [
  {
   "cell_type": "code",
   "execution_count": 1,
   "id": "efc1de40",
   "metadata": {},
   "outputs": [],
   "source": [
    "import os\n",
    "import pandas as pd\n",
    "import numpy as np\n",
    "import seaborn as sns\n",
    "import matplotlib.pyplot as plt\n",
    "\n",
    "from sklearn.preprocessing import StandardScaler, RobustScaler\n",
    "from sklearn.linear_model import RidgeCV, LassoCV, LogisticRegression, HuberRegressor\n",
    "from sklearn.ensemble import (GradientBoostingRegressor, RandomForestRegressor,\n",
    "                              ExtraTreesRegressor, StackingRegressor)\n",
    "\n",
    "from sklearn.ensemble import HistGradientBoostingClassifier, GradientBoostingClassifier, GradientBoostingRegressor\n",
    "from sklearn.model_selection import train_test_split, GridSearchCV, TimeSeriesSplit\n",
    "from sklearn.metrics import (brier_score_loss, accuracy_score,\n",
    "                             log_loss, mean_squared_error, \n",
    "                             mean_absolute_error)\n",
    "from sklearn.calibration import calibration_curve, CalibrationDisplay, CalibratedClassifierCV\n",
    "\n",
    "from utils import get_season_pace, get_season_eff, GameElo, elo_predict, get_season_four_factors, NCAAElo"
   ]
  },
  {
   "cell_type": "code",
   "execution_count": 2,
   "id": "8c0f9981",
   "metadata": {},
   "outputs": [],
   "source": [
    "# the folders containing data files\n",
    "data_folder = './kaggle_data/'\n",
    "pom_folder = './kaggle_data/ken_pom_stats/'"
   ]
  },
  {
   "cell_type": "code",
   "execution_count": 178,
   "id": "2977068d",
   "metadata": {},
   "outputs": [],
   "source": [
    "mens_sp = pd.read_csv(f'{data_folder}MTeamSpellings.csv', encoding='latin-1')\n",
    "mens_teams = pd.read_csv(f'{data_folder}MTeams.csv')\n",
    "mens_reg = pd.read_csv(f'{data_folder}MRegularSeasonCompactResults.csv')\n",
    "mens_det = pd.read_csv(f'{data_folder}MRegularSeasonDetailedResults.csv')\n",
    "mens_seeds = pd.read_csv(f'{data_folder}MNCAATourneySeeds.csv')\n",
    "tourney_df = pd.read_csv(f'{data_folder}MNCAATourneyCompactResults.csv')\n",
    "sec_tourn_df = pd.read_csv(f'{data_folder}MSecondaryTourneyCompactResults.csv')\n",
    "pretourney_odds = pd.read_csv(f'{data_folder}ncaa_mens_odds.csv')\n",
    "this_yr_odds = pd.read_csv(f'{data_folder}this_yr_pretourney.csv')\n",
    "\n",
    "tourney_teams = list(set(pd.concat([tourney_df['WTeamID'], tourney_df['LTeamID']])))\n",
    "mens_team_dict = mens_teams.set_index('TeamID')['TeamName'].to_dict()"
   ]
  },
  {
   "cell_type": "code",
   "execution_count": 4,
   "id": "c5ed774b",
   "metadata": {},
   "outputs": [],
   "source": [
    "# computing ELO for every game from 1985 until the present. \n",
    "# this requires stacking and sorting all of the men's games\n",
    "\n",
    "elo_columns = ['Season', 'DayNum', 'WTeamID', 'LTeamID', 'WLoc']\n",
    "\n",
    "elo_games = (\n",
    "    pd.concat([mens_reg[elo_columns], tourney_df[elo_columns], sec_tourn_df[elo_columns]])\n",
    "    .sort_values(by=['Season', 'DayNum'], ascending=True)\n",
    "    .reset_index(drop=True)\n",
    ")\n",
    "\n",
    "# instantiating the ELO class\n",
    "all_games_elo = NCAAElo(elo_games).process_elo()\n",
    "\n",
    "elo_games['winner_elo_prob'] = all_games_elo.winner_probs\n",
    "elo_games['winner_elo'] = all_games_elo.winner_elo\n",
    "elo_games['loser_elo'] = all_games_elo.loser_elo"
   ]
  },
  {
   "cell_type": "code",
   "execution_count": 33,
   "id": "837e20ff",
   "metadata": {},
   "outputs": [],
   "source": [
    "# the difficulty is that we need the ELO *after* the last game of the season to\n",
    "# use as the ELO throughout the NCAA tournament. it's possible to do conditional\n",
    "# updates, but i haven't implemented it - cost/benefit seems low right now.\n",
    "# in any case, i use shift(-1) to get the nxt and create a dictionary with\n",
    "# that value for each team\n",
    "\n",
    "winners = (\n",
    "    elo_games[['Season', 'DayNum', 'WTeamID', 'winner_elo']]\n",
    "    .rename(columns={'WTeamID' : 'teamid', 'winner_elo' : 'team_elo'})\n",
    ")\n",
    "\n",
    "losers = (\n",
    "    elo_games[['Season', 'DayNum', 'LTeamID', 'loser_elo']]\n",
    "    .rename(columns={'LTeamID' : 'teamid', 'loser_elo' : 'team_elo'})\n",
    ")\n",
    "\n",
    "total_elo = (\n",
    "    pd.concat([winners, losers])\n",
    "    .sort_values(by=['Season', 'DayNum'])\n",
    ")\n",
    "\n",
    "total_elo['next_elo'] = total_elo.groupby('teamid')['team_elo'].transform(lambda x: x.shift(-1))\n",
    "\n",
    "team_elo_dict = total_elo.set_index(['Season', 'DayNum', 'teamid'])['next_elo'].to_dict()"
   ]
  },
  {
   "cell_type": "code",
   "execution_count": 40,
   "id": "cdbfe899",
   "metadata": {},
   "outputs": [],
   "source": [
    "# simple template for grabbing game by game *next game* elos\n",
    "win_ratings = []\n",
    "lose_ratings = []\n",
    "\n",
    "for s, dn, w, l in zip(mens_reg.Season, mens_reg.DayNum, mens_reg.WTeamID, mens_reg.LTeamID):\n",
    "    win_rating_ = team_elo_dict[(s, dn, w)]\n",
    "    lose_rating_ = team_elo_dict[(s, dn, l)]\n",
    "    \n",
    "    win_ratings.append(win_rating_)\n",
    "    lose_ratings.append(lose_rating_)\n",
    "\n",
    "    mens_reg['winner_elo_post_game'] = win_ratings\n",
    "mens_reg['loser_elo_post_game'] = lose_ratings"
   ]
  },
  {
   "cell_type": "code",
   "execution_count": 50,
   "id": "4f1da709",
   "metadata": {},
   "outputs": [],
   "source": [
    "# separating the winners and losers again in order to concat them\n",
    "# with compatible column names\n",
    "\n",
    "mens_reg_winners = (\n",
    "    mens_reg\n",
    "    .groupby(['Season', 'WTeamID'])[['DayNum', 'winner_elo_post_game']]\n",
    "    .last()\n",
    "    .reset_index()\n",
    "    .rename(columns={'WTeamID' : 'teamid', 'winner_elo_post_game' : 'elo_post_game'})\n",
    ")\n",
    "\n",
    "mens_reg_losers = (\n",
    "    mens_reg\n",
    "    .groupby(['Season', 'LTeamID'])[['DayNum', 'loser_elo_post_game']]\n",
    "    .last()\n",
    "    .reset_index()\n",
    "    .rename(columns={'LTeamID' : 'teamid', 'loser_elo_post_game' : 'elo_post_game'})\n",
    ")"
   ]
  },
  {
   "cell_type": "code",
   "execution_count": 59,
   "id": "79ca492f",
   "metadata": {},
   "outputs": [],
   "source": [
    "# getting the final ELO rating for each Season-Team in the dataset and\n",
    "# putting those ratings into a dictionary for easy access \n",
    "\n",
    "season_end_elo = (\n",
    "    pd.concat([mens_reg_winners, mens_reg_losers])\n",
    "    .sort_values(by=['Season', 'teamid', 'DayNum'])\n",
    ")\n",
    "\n",
    "season_end_elo_dict = (\n",
    "    season_end_elo\n",
    "    .groupby(['Season', 'teamid'])['elo_post_game']\n",
    "    .last()\n",
    "    .to_dict()\n",
    ")"
   ]
  },
  {
   "cell_type": "code",
   "execution_count": 60,
   "id": "32ac2d71",
   "metadata": {},
   "outputs": [],
   "source": [
    "# creating an alternate spelling dict and adding seeded teams\n",
    "mens_sp_dict = mens_sp.set_index('TeamNameSpelling')['TeamID'].to_dict()\n",
    "\n",
    "mens_sp_dict['ut rio grande valley'] = 1410\n",
    "mens_sp_dict['liu'] = 1254\n",
    "mens_sp_dict['illinois chicago'] = 1227\n",
    "mens_sp_dict['texas a&m corpus chris'] = 1394\n",
    "mens_sp_dict['louisiana lafayette'] = 1418\n",
    "mens_sp_dict['southeast missouri st.'] = 1369\n",
    "mens_sp_dict['southwest missouri st.'] = 1283\n",
    "mens_sp_dict['cal st. bakersfield'] = 1167\n",
    "mens_sp_dict['tennessee martin'] = 1404\n",
    "mens_sp_dict['louisiana monroe'] = 1419\n",
    "mens_sp_dict['arkansas little rock'] = 1114\n",
    "mens_sp_dict['st. francis ny'] = 1383\n",
    "mens_sp_dict['st. francis pa'] = 1384\n",
    "mens_sp_dict['mississippi valley st.'] = 1290\n",
    "mens_sp_dict['arkansas pine bluff'] = 1115"
   ]
  },
  {
   "cell_type": "code",
   "execution_count": 61,
   "id": "967a22e6",
   "metadata": {},
   "outputs": [],
   "source": [
    "mens_season_ff = get_season_four_factors(df=mens_det)"
   ]
  },
  {
   "cell_type": "code",
   "execution_count": 62,
   "id": "a57bee67",
   "metadata": {},
   "outputs": [],
   "source": [
    "mens_det['WPoss'] = mens_det['WFGA'] - mens_det['WOR'] + mens_det['WTO'] + (0.475 * mens_det['WFTA'])\n",
    "mens_det['LPoss'] = mens_det['LFGA'] - mens_det['LOR'] + mens_det['LTO'] + (0.475 * mens_det['LFTA'])\n",
    "mens_det['WPer100'] = (mens_det['WScore'] / mens_det['WPoss']) * 100\n",
    "mens_det['LPer100'] = (mens_det['LScore'] / mens_det['LPoss']) * 100"
   ]
  },
  {
   "cell_type": "code",
   "execution_count": 22,
   "id": "5044458a",
   "metadata": {},
   "outputs": [],
   "source": [
    "# since i'm computing offensive/defensive efficiency per 100 possesions\n",
    "# i do not need to exclude overtime games. if i were predicting \n",
    "# logodds, or pure team strength, i would\n",
    "\n",
    "# mens_det = mens_det.query(\"NumOT < 1\").copy()"
   ]
  },
  {
   "cell_type": "code",
   "execution_count": 63,
   "id": "7b0d19f0",
   "metadata": {},
   "outputs": [],
   "source": [
    "mens_season_eff_dict = {}\n",
    "\n",
    "for s in mens_det.Season.unique():\n",
    "    df_ = get_season_eff(season=s, df=mens_det, teams_dict=mens_team_dict)\n",
    "    mens_season_eff_dict[s] = df_"
   ]
  },
  {
   "cell_type": "code",
   "execution_count": 64,
   "id": "c0338ae2",
   "metadata": {},
   "outputs": [],
   "source": [
    "mens_season_pace_dict = {}\n",
    "\n",
    "for s in mens_det.Season.unique():\n",
    "    df_ = get_season_pace(season=s, df=mens_det)\n",
    "    mens_season_pace_dict[s] = df_"
   ]
  },
  {
   "cell_type": "code",
   "execution_count": 65,
   "id": "7de79f46",
   "metadata": {},
   "outputs": [],
   "source": [
    "# reformatting the pretourney odds from sportsoddshistory.com so the\n",
    "# implied probabilities can be added to the relevant dataframes\n",
    "\n",
    "pretourney_odds['small_team'] = pretourney_odds.team.str.lower()\n",
    "pretourney_odds['small_team'] = pretourney_odds['small_team'].str.strip()\n",
    "pretourney_odds['teamid'] = [mens_sp_dict[x] if x in mens_sp_dict else -99 for x in pretourney_odds.small_team]\n",
    "pretourney_odds['season'] = pretourney_odds['season'] + 1\n",
    "\n",
    "pretourney_odds['implied_probability'] = (\n",
    "    np.where(\n",
    "        ((pretourney_odds['season'] < 2022) & (pretourney_odds['odds_int'] == 0)),\n",
    "         0.0025,\n",
    "         pretourney_odds['implied_probability']\n",
    "    )\n",
    ")           \n",
    "\n",
    "pretourney_odds = pretourney_odds[['teamid', 'season', 'implied_probability']].copy()"
   ]
  },
  {
   "cell_type": "code",
   "execution_count": 184,
   "id": "6fbe0a26",
   "metadata": {},
   "outputs": [],
   "source": [
    "# doing the same as above to this year's probabilities \n",
    "\n",
    "this_yr_odds['small_team'] = this_yr_odds.team.str.lower()\n",
    "this_yr_odds['small_team'] = this_yr_odds['small_team'].str.strip()\n",
    "this_yr_odds['teamid'] = [mens_sp_dict[x] if x in mens_sp_dict else -99 for x in this_yr_odds.small_team]\n",
    "this_yr_odds['season'] = this_yr_odds['season'] + 1\n",
    "       \n",
    "# note i did not fill in nans with a negligible value because there aren't any\n",
    "# the NaNs appear later on and are filled in there (mens_submission)\n",
    "this_yr_odds = this_yr_odds[['teamid', 'season', 'implied_probability']].copy()"
   ]
  },
  {
   "cell_type": "code",
   "execution_count": 67,
   "id": "fb1c8db6",
   "metadata": {},
   "outputs": [
    {
     "name": "stdout",
     "output_type": "stream",
     "text": [
      "null teamid where seed >16: 0\n"
     ]
    }
   ],
   "source": [
    "# kpom's summary statistics for each season (2003-2023)\n",
    "\n",
    "pomdf = pd.DataFrame()\n",
    "\n",
    "for file in os.listdir(f'{pom_folder}'):\n",
    "    \n",
    "    if 'roster' not in file:\n",
    "        df_ = pd.read_csv(f'{pom_folder}{file}')\n",
    "        pomdf = pd.concat([pomdf, df_], axis=0)\n",
    "\n",
    "pomdf.reset_index(inplace=True, drop=True)\n",
    "pomdf.columns = pomdf.columns.str.lower()\n",
    "pomdf['teamname'] = pomdf['teamname'].str.lower().str.strip()\n",
    "pomdf['teamid'] = pomdf['teamname'].map(mens_sp_dict)\n",
    "\n",
    "pomdf = pomdf[pomdf['teamid'].isin(tourney_teams)].copy()\n",
    "\n",
    "print('null teamid where seed >16:', pomdf[pomdf['seed'] >= 16]['teamid'].isnull().sum())"
   ]
  },
  {
   "cell_type": "code",
   "execution_count": 68,
   "id": "397d2c60",
   "metadata": {},
   "outputs": [],
   "source": [
    "# adding my estimates of pace, oeff, and deff (ridge regression on each season)\n",
    "# to the pomdf dataframe \n",
    "\n",
    "my_paces = []\n",
    "\n",
    "for x, y in zip(pomdf.season, pomdf.teamid):\n",
    "    \n",
    "    try:\n",
    "        value = mens_season_pace_dict[x].loc[y]['pace']\n",
    "        my_paces.append(value)\n",
    "    except:\n",
    "        my_paces.append(-99)\n",
    "        \n",
    "my_off_eff = []\n",
    "\n",
    "for x, y in zip(pomdf.season, pomdf.teamid):\n",
    "    \n",
    "    try:\n",
    "        value_ = mens_season_eff_dict[x].loc[y]['coef']\n",
    "        my_off_eff.append(value_)\n",
    "    except:\n",
    "        my_off_eff.append(-99)\n",
    "        \n",
    "my_def_eff = []\n",
    "\n",
    "for x, y in zip(pomdf.season, pomdf.teamid):\n",
    "    \n",
    "    try:\n",
    "        value_ = mens_season_eff_dict[x].loc[y]['coef_def']\n",
    "        my_def_eff.append(value_)\n",
    "    except:\n",
    "        my_def_eff.append(-99)"
   ]
  },
  {
   "cell_type": "code",
   "execution_count": 69,
   "id": "bc2a4238",
   "metadata": {},
   "outputs": [],
   "source": [
    "pomdf['my_pace'] = np.array(my_paces).round(1)\n",
    "pomdf['my_off'] = np.array(my_off_eff)\n",
    "pomdf['my_def'] = np.array(my_def_eff)\n",
    "pomdf['my_total'] = pomdf['my_off'] + (-1 * pomdf['my_def'])"
   ]
  },
  {
   "cell_type": "code",
   "execution_count": 71,
   "id": "e0a741fa",
   "metadata": {},
   "outputs": [],
   "source": [
    "team_filter = (mens_det['WTeamID'].isin(tourney_teams)) & (mens_det['LTeamID'].isin(tourney_teams))\n",
    "\n",
    "mens_det = mens_det[team_filter].copy()"
   ]
  },
  {
   "cell_type": "code",
   "execution_count": 72,
   "id": "793d3058",
   "metadata": {},
   "outputs": [],
   "source": [
    "# reorganizing tourney data\n",
    "\n",
    "team_pairs = tourney_df[['WTeamID', 'LTeamID']].values\n",
    "idx = np.random.randint(0, team_pairs.shape[1], team_pairs.shape[0])\n",
    "\n",
    "tourney_df['team_one'] = [x[0] for x in np.take_along_axis(team_pairs, idx[:, None], 1)]\n",
    "tourney_df['team_two'] = (\n",
    "    np.where(tourney_df['team_one'] == tourney_df['WTeamID'],\n",
    "             tourney_df['LTeamID'],\n",
    "             tourney_df['WTeamID']\n",
    "            )\n",
    ")\n",
    "\n",
    "tourney_df['team_one_score'] = (\n",
    "    np.where(tourney_df['team_one'] == tourney_df['WTeamID'],\n",
    "             tourney_df['WScore'],\n",
    "             tourney_df['LScore']\n",
    "            )\n",
    ")\n",
    "\n",
    "tourney_df['team_two_score'] = (\n",
    "    np.where(tourney_df['team_two'] == tourney_df['WTeamID'],\n",
    "             tourney_df['WScore'],\n",
    "             tourney_df['LScore']\n",
    "            )\n",
    ")\n",
    "\n",
    "\n",
    "tourney_df['score_diff'] = tourney_df['team_one_score'].sub(tourney_df['team_two_score'])\n",
    "tourney_df['team_one_win'] = (\n",
    "    np.where(tourney_df['team_one_score'] > tourney_df['team_two_score'],\n",
    "             1,\n",
    "             0)\n",
    ")\n",
    "\n",
    "tourney_df = (\n",
    "    tourney_df\n",
    "    .merge(pomdf,\n",
    "           how='left',\n",
    "           left_on=['Season', 'team_one'],\n",
    "           right_on=['season', 'teamid'],)\n",
    "    .drop(columns=['teamid'])\n",
    ")\n",
    "\n",
    "tourney_df.columns = ['team_one_' + x if x in pomdf.columns else x for x in tourney_df.columns]\n",
    "\n",
    "\n",
    "m_tourney_df = (\n",
    "    tourney_df\n",
    "    .merge(pomdf,\n",
    "           how='left',\n",
    "           left_on=['Season', 'team_two'],\n",
    "           right_on=['season', 'teamid'])\n",
    "    .drop(columns=['teamid'])\n",
    ")\n",
    "\n",
    "m_tourney_df.columns = ['team_two_' + x if x in pomdf.columns else x for x in m_tourney_df.columns]\n",
    "\n",
    "m_tourney_df['team_one_win'] = (\n",
    "    np.where(m_tourney_df['team_one_score'] > m_tourney_df['team_two_score'],\n",
    "             1,\n",
    "             0)\n",
    ")"
   ]
  },
  {
   "cell_type": "code",
   "execution_count": 73,
   "id": "97ef960c",
   "metadata": {},
   "outputs": [],
   "source": [
    "# selecting a column w/efficiency stats to use to drop the others\n",
    "m_tourney_df.dropna(subset=['team_two_my_off'], inplace=True)"
   ]
  },
  {
   "cell_type": "code",
   "execution_count": 74,
   "id": "b722e43c",
   "metadata": {},
   "outputs": [],
   "source": [
    "m_tourney_df = (\n",
    "    m_tourney_df\n",
    "    .merge(pretourney_odds,\n",
    "           how='left',\n",
    "           left_on=['Season', 'team_one'],\n",
    "           right_on=['season', 'teamid'])\n",
    "    .drop(columns=['season', 'teamid'])\n",
    "    .rename(columns={'implied_probability' : 'team_one_implied_proba'})\n",
    ")"
   ]
  },
  {
   "cell_type": "code",
   "execution_count": 75,
   "id": "0357f76e",
   "metadata": {},
   "outputs": [],
   "source": [
    "m_tourney_df = (\n",
    "    m_tourney_df\n",
    "    .merge(pretourney_odds,\n",
    "           how='left',\n",
    "           left_on=['Season', 'team_two'],\n",
    "           right_on=['season', 'teamid'])\n",
    "    .drop(columns=['season', 'teamid'])\n",
    "    .rename(columns={'implied_probability' : 'team_two_implied_proba'})\n",
    ")"
   ]
  },
  {
   "cell_type": "code",
   "execution_count": 114,
   "id": "720eed6b",
   "metadata": {},
   "outputs": [],
   "source": [
    "t1_ratings = []\n",
    "t2_ratings = []\n",
    "grand_elo_pred = []\n",
    "\n",
    "for s, t1, t2 in zip(m_tourney_df['Season'], m_tourney_df['team_one'], m_tourney_df['team_two']):\n",
    "    t1_elo = season_end_elo_dict[(s, t1)]\n",
    "    t2_elo = season_end_elo_dict[(s, t2)]\n",
    "    \n",
    "    elo_pred_ = elo_predict(t1_elo, t2_elo)\n",
    "    \n",
    "    t1_ratings.append(t1_elo)\n",
    "    t2_ratings.append(t2_elo)\n",
    "    grand_elo_pred.append(elo_pred_)\n",
    "    \n",
    "m_tourney_df['t1_grand_elo'] = t1_ratings\n",
    "m_tourney_df['t2_grand_elo'] = t2_ratings\n",
    "m_tourney_df['grand_elo_pred'] = grand_elo_pred"
   ]
  },
  {
   "cell_type": "code",
   "execution_count": 81,
   "id": "acd1f91a",
   "metadata": {},
   "outputs": [],
   "source": [
    "m_tourney_df[['team_one_implied_proba', 'team_two_implied_proba']] =(\n",
    "    m_tourney_df[['team_one_implied_proba', 'team_two_implied_proba']].fillna(0.0025)\n",
    ")"
   ]
  },
  {
   "cell_type": "code",
   "execution_count": 101,
   "id": "18905eba",
   "metadata": {},
   "outputs": [],
   "source": [
    "linear_model = ['team_one_adjem','team_one_rankadjem', 'team_two_adjem', \n",
    "              'team_two_rankadjem', 'team_one_my_total', 'team_two_my_total',\n",
    "               'team_one_seed', 'team_two_seed', 'grand_elo_pred']"
   ]
  },
  {
   "cell_type": "code",
   "execution_count": 129,
   "id": "3070b557",
   "metadata": {},
   "outputs": [
    {
     "name": "stdout",
     "output_type": "stream",
     "text": [
      "lasso MAE: 8.809117525519946\n",
      "ridge MAE: 8.812483521639965\n",
      "gbm MAE: 8.868442099558576\n"
     ]
    }
   ],
   "source": [
    "reg_target = 'score_diff'\n",
    "\n",
    "ridge_model = RidgeCV(alphas=[100, 500, 700], cv=10)\n",
    "lasso_model = LassoCV(alphas=[0.1, 0.2, 0.5, 1], cv=10)\n",
    "gbm_model = GradientBoostingRegressor(loss='absolute_error')\n",
    "                              \n",
    "X = m_tourney_df[linear_model]\n",
    "y = m_tourney_df[reg_target]\n",
    "\n",
    "X_train, X_test, y_train, y_test = train_test_split(X, y, test_size=0.2)\n",
    "\n",
    "\n",
    "gbm_model.fit(X_train, y_train)\n",
    "ridge_model.fit(X_train, y_train)\n",
    "lasso_model.fit(X_train, y_train)\n",
    "\n",
    "\n",
    "print('lasso MAE:', mean_absolute_error(y_test, lasso_model.predict(X_test)))\n",
    "print('ridge MAE:', mean_absolute_error(y_test, ridge_model.predict(X_test)))\n",
    "print('gbm MAE:', mean_absolute_error(y_test, gbm_model.predict(X_test)))"
   ]
  },
  {
   "cell_type": "code",
   "execution_count": 103,
   "id": "bba613b6",
   "metadata": {},
   "outputs": [
    {
     "data": {
      "text/plain": [
       "<Axes: ylabel='score_diff'>"
      ]
     },
     "execution_count": 103,
     "metadata": {},
     "output_type": "execute_result"
    },
    {
     "data": {
      "image/png": "[encoded data removed]",
      "text/plain": [
       "<Figure size 640x480 with 1 Axes>"
      ]
     },
     "metadata": {},
     "output_type": "display_data"
    }
   ],
   "source": [
    "sns.residplot(x=ridge_model.predict(X), y=y)"
   ]
  },
  {
   "cell_type": "code",
   "execution_count": 130,
   "id": "a22fc917",
   "metadata": {},
   "outputs": [
    {
     "data": {
      "text/html": [
       "<style>#sk-container-id-1 {color: black;background-color: white;}#sk-container-id-1 pre{padding: 0;}#sk-container-id-1 div.sk-toggleable {background-color: white;}#sk-container-id-1 label.sk-toggleable__label {cursor: pointer;display: block;width: 100%;margin-bottom: 0;padding: 0.3em;box-sizing: border-box;text-align: center;}#sk-container-id-1 label.sk-toggleable__label-arrow:before {content: \"▸\";float: left;margin-right: 0.25em;color: #696969;}#sk-container-id-1 label.sk-toggleable__label-arrow:hover:before {color: black;}#sk-container-id-1 div.sk-estimator:hover label.sk-toggleable__label-arrow:before {color: black;}#sk-container-id-1 div.sk-toggleable__content {max-height: 0;max-width: 0;overflow: hidden;text-align: left;background-color: #f0f8ff;}#sk-container-id-1 div.sk-toggleable__content pre {margin: 0.2em;color: black;border-radius: 0.25em;background-color: #f0f8ff;}#sk-container-id-1 input.sk-toggleable__control:checked~div.sk-toggleable__content {max-height: 200px;max-width: 100%;overflow: auto;}#sk-container-id-1 input.sk-toggleable__control:checked~label.sk-toggleable__label-arrow:before {content: \"▾\";}#sk-container-id-1 div.sk-estimator input.sk-toggleable__control:checked~label.sk-toggleable__label {background-color: #d4ebff;}#sk-container-id-1 div.sk-label input.sk-toggleable__control:checked~label.sk-toggleable__label {background-color: #d4ebff;}#sk-container-id-1 input.sk-hidden--visually {border: 0;clip: rect(1px 1px 1px 1px);clip: rect(1px, 1px, 1px, 1px);height: 1px;margin: -1px;overflow: hidden;padding: 0;position: absolute;width: 1px;}#sk-container-id-1 div.sk-estimator {font-family: monospace;background-color: #f0f8ff;border: 1px dotted black;border-radius: 0.25em;box-sizing: border-box;margin-bottom: 0.5em;}#sk-container-id-1 div.sk-estimator:hover {background-color: #d4ebff;}#sk-container-id-1 div.sk-parallel-item::after {content: \"\";width: 100%;border-bottom: 1px solid gray;flex-grow: 1;}#sk-container-id-1 div.sk-label:hover label.sk-toggleable__label {background-color: #d4ebff;}#sk-container-id-1 div.sk-serial::before {content: \"\";position: absolute;border-left: 1px solid gray;box-sizing: border-box;top: 0;bottom: 0;left: 50%;z-index: 0;}#sk-container-id-1 div.sk-serial {display: flex;flex-direction: column;align-items: center;background-color: white;padding-right: 0.2em;padding-left: 0.2em;position: relative;}#sk-container-id-1 div.sk-item {position: relative;z-index: 1;}#sk-container-id-1 div.sk-parallel {display: flex;align-items: stretch;justify-content: center;background-color: white;position: relative;}#sk-container-id-1 div.sk-item::before, #sk-container-id-1 div.sk-parallel-item::before {content: \"\";position: absolute;border-left: 1px solid gray;box-sizing: border-box;top: 0;bottom: 0;left: 50%;z-index: -1;}#sk-container-id-1 div.sk-parallel-item {display: flex;flex-direction: column;z-index: 1;position: relative;background-color: white;}#sk-container-id-1 div.sk-parallel-item:first-child::after {align-self: flex-end;width: 50%;}#sk-container-id-1 div.sk-parallel-item:last-child::after {align-self: flex-start;width: 50%;}#sk-container-id-1 div.sk-parallel-item:only-child::after {width: 0;}#sk-container-id-1 div.sk-dashed-wrapped {border: 1px dashed gray;margin: 0 0.4em 0.5em 0.4em;box-sizing: border-box;padding-bottom: 0.4em;background-color: white;}#sk-container-id-1 div.sk-label label {font-family: monospace;font-weight: bold;display: inline-block;line-height: 1.2em;}#sk-container-id-1 div.sk-label-container {text-align: center;}#sk-container-id-1 div.sk-container {/* jupyter's `normalize.less` sets `[hidden] { display: none; }` but bootstrap.min.css set `[hidden] { display: none !important; }` so we also need the `!important` here to be able to override the default hidden behavior on the sphinx rendered scikit-learn.org. See: https://github.com/scikit-learn/scikit-learn/issues/21755 */display: inline-block !important;position: relative;}#sk-container-id-1 div.sk-text-repr-fallback {display: none;}</style><div id=\"sk-container-id-1\" class=\"sk-top-container\"><div class=\"sk-text-repr-fallback\"><pre>RidgeCV(alphas=[100, 500, 700], cv=10)</pre><b>In a Jupyter environment, please rerun this cell to show the HTML representation or trust the notebook. <br />On GitHub, the HTML representation is unable to render, please try loading this page with nbviewer.org.</b></div><div class=\"sk-container\" hidden><div class=\"sk-item\"><div class=\"sk-estimator sk-toggleable\"><input class=\"sk-toggleable__control sk-hidden--visually\" id=\"sk-estimator-id-1\" type=\"checkbox\" checked><label for=\"sk-estimator-id-1\" class=\"sk-toggleable__label sk-toggleable__label-arrow\">RidgeCV</label><div class=\"sk-toggleable__content\"><pre>RidgeCV(alphas=[100, 500, 700], cv=10)</pre></div></div></div></div></div>"
      ],
      "text/plain": [
       "RidgeCV(alphas=[100, 500, 700], cv=10)"
      ]
     },
     "execution_count": 130,
     "metadata": {},
     "output_type": "execute_result"
    }
   ],
   "source": [
    "ridge_model.fit(X, y)"
   ]
  },
  {
   "cell_type": "code",
   "execution_count": 165,
   "id": "2822db7a",
   "metadata": {},
   "outputs": [],
   "source": [
    "model_cols = ['team_one_rankadjtempo','team_one_adjoe',\n",
    "              'team_one_implied_proba', 'team_two_adjoe','team_two_adjde',\n",
    "              'team_two_implied_proba', 'pred_diff', 'grand_elo_pred']\n",
    "\n",
    "target = 'team_one_win'"
   ]
  },
  {
   "cell_type": "code",
   "execution_count": 166,
   "id": "f11bb5e6",
   "metadata": {},
   "outputs": [],
   "source": [
    "# identifying rank columns and converting them to categories\n",
    "# the goal was to take advantage of native cat handling\n",
    "rank_cols = [x for x in tourney_df.columns if 'rank' in x]\n",
    "m_tourney_df[rank_cols] = m_tourney_df[rank_cols].astype('category')\n",
    "\n",
    "# predicting the game spread to use as an input to the win probability\n",
    "# model\n",
    "m_tourney_df['pred_diff'] = ridge_model.predict(m_tourney_df[linear_model])\n",
    "model_cols.extend(['pred_diff'])"
   ]
  },
  {
   "cell_type": "code",
   "execution_count": 167,
   "id": "bf3c5a6c",
   "metadata": {},
   "outputs": [
    {
     "name": "stdout",
     "output_type": "stream",
     "text": [
      "gbm log loss: 0.5266270684783125\n",
      "gridsearch loss: -0.5485896456339184\n"
     ]
    }
   ],
   "source": [
    "gbm_cl_model = GradientBoostingClassifier(random_state=35,\n",
    "                                          max_depth=3,\n",
    "                                          n_estimators=45,\n",
    "                                          min_samples_leaf=40,\n",
    "                                          n_iter_no_change=5)\n",
    "\n",
    "X = m_tourney_df[model_cols].copy()\n",
    "y = m_tourney_df[target].values\n",
    "\n",
    "X_train, X_test, y_train, y_test = train_test_split(X, y, test_size=0.2, random_state=94)\n",
    "\n",
    "gbm_cl_model.fit(X_train, y_train)\n",
    "\n",
    "params = {\n",
    "    'max_depth' : [2, 3],\n",
    "    'n_estimators' : [40, 45],\n",
    "    'min_samples_leaf' : [25, 28, 31, 40, 50]\n",
    "}\n",
    "\n",
    "gridsearch_model = GridSearchCV(estimator=gbm_cl_model, cv=15, param_grid=params, scoring='neg_log_loss')\n",
    "gridsearch_model.fit(X, y)\n",
    "\n",
    "print(\"gbm log loss:\", log_loss(y_test, gbm_cl_model.predict_proba(X_test)[:,1]))\n",
    "print(\"gridsearch loss:\", gridsearch_model.best_score_)"
   ]
  },
  {
   "cell_type": "code",
   "execution_count": 168,
   "id": "da24b93c",
   "metadata": {},
   "outputs": [
    {
     "name": "stdout",
     "output_type": "stream",
     "text": [
      "calibrated log loss: 0.5325301480097498\n",
      "calibrated brier loss: 0.17730715537848604\n"
     ]
    }
   ],
   "source": [
    "# creating a calibrated classifier\n",
    "cal_model = CalibratedClassifierCV(estimator=gbm_cl_model, cv=12)\n",
    "cal_model.fit(X_train, y_train)\n",
    "\n",
    "print(\"calibrated log loss:\", log_loss(y_test, cal_model.predict_proba(X_test)[:,1]))\n",
    "print(\"calibrated brier loss:\", brier_score_loss(y_test, cal_model.predict_proba(X_test).round(3)[:,1]))"
   ]
  },
  {
   "cell_type": "code",
   "execution_count": 144,
   "id": "10227ee6",
   "metadata": {},
   "outputs": [
    {
     "data": {
      "text/plain": [
       "<sklearn.calibration.CalibrationDisplay at 0x201001b7370>"
      ]
     },
     "execution_count": 144,
     "metadata": {},
     "output_type": "execute_result"
    },
    {
     "data": {
      "image/png": "[encoded data removed]",
      "text/plain": [
       "<Figure size 640x480 with 1 Axes>"
      ]
     },
     "metadata": {},
     "output_type": "display_data"
    }
   ],
   "source": [
    "y_probs = gbm_cl_model.predict_proba(X_test).round(3)[:,1]\n",
    "\n",
    "prob_true, prob_pred = calibration_curve(y_test, y_probs, n_bins=22)\n",
    "\n",
    "disp = CalibrationDisplay(prob_true, prob_pred, y_probs)\n",
    "\n",
    "disp.plot()"
   ]
  },
  {
   "cell_type": "code",
   "execution_count": 169,
   "id": "3fe5ce2d",
   "metadata": {},
   "outputs": [
    {
     "data": {
      "text/html": [
       "<style>#sk-container-id-2 {color: black;background-color: white;}#sk-container-id-2 pre{padding: 0;}#sk-container-id-2 div.sk-toggleable {background-color: white;}#sk-container-id-2 label.sk-toggleable__label {cursor: pointer;display: block;width: 100%;margin-bottom: 0;padding: 0.3em;box-sizing: border-box;text-align: center;}#sk-container-id-2 label.sk-toggleable__label-arrow:before {content: \"▸\";float: left;margin-right: 0.25em;color: #696969;}#sk-container-id-2 label.sk-toggleable__label-arrow:hover:before {color: black;}#sk-container-id-2 div.sk-estimator:hover label.sk-toggleable__label-arrow:before {color: black;}#sk-container-id-2 div.sk-toggleable__content {max-height: 0;max-width: 0;overflow: hidden;text-align: left;background-color: #f0f8ff;}#sk-container-id-2 div.sk-toggleable__content pre {margin: 0.2em;color: black;border-radius: 0.25em;background-color: #f0f8ff;}#sk-container-id-2 input.sk-toggleable__control:checked~div.sk-toggleable__content {max-height: 200px;max-width: 100%;overflow: auto;}#sk-container-id-2 input.sk-toggleable__control:checked~label.sk-toggleable__label-arrow:before {content: \"▾\";}#sk-container-id-2 div.sk-estimator input.sk-toggleable__control:checked~label.sk-toggleable__label {background-color: #d4ebff;}#sk-container-id-2 div.sk-label input.sk-toggleable__control:checked~label.sk-toggleable__label {background-color: #d4ebff;}#sk-container-id-2 input.sk-hidden--visually {border: 0;clip: rect(1px 1px 1px 1px);clip: rect(1px, 1px, 1px, 1px);height: 1px;margin: -1px;overflow: hidden;padding: 0;position: absolute;width: 1px;}#sk-container-id-2 div.sk-estimator {font-family: monospace;background-color: #f0f8ff;border: 1px dotted black;border-radius: 0.25em;box-sizing: border-box;margin-bottom: 0.5em;}#sk-container-id-2 div.sk-estimator:hover {background-color: #d4ebff;}#sk-container-id-2 div.sk-parallel-item::after {content: \"\";width: 100%;border-bottom: 1px solid gray;flex-grow: 1;}#sk-container-id-2 div.sk-label:hover label.sk-toggleable__label {background-color: #d4ebff;}#sk-container-id-2 div.sk-serial::before {content: \"\";position: absolute;border-left: 1px solid gray;box-sizing: border-box;top: 0;bottom: 0;left: 50%;z-index: 0;}#sk-container-id-2 div.sk-serial {display: flex;flex-direction: column;align-items: center;background-color: white;padding-right: 0.2em;padding-left: 0.2em;position: relative;}#sk-container-id-2 div.sk-item {position: relative;z-index: 1;}#sk-container-id-2 div.sk-parallel {display: flex;align-items: stretch;justify-content: center;background-color: white;position: relative;}#sk-container-id-2 div.sk-item::before, #sk-container-id-2 div.sk-parallel-item::before {content: \"\";position: absolute;border-left: 1px solid gray;box-sizing: border-box;top: 0;bottom: 0;left: 50%;z-index: -1;}#sk-container-id-2 div.sk-parallel-item {display: flex;flex-direction: column;z-index: 1;position: relative;background-color: white;}#sk-container-id-2 div.sk-parallel-item:first-child::after {align-self: flex-end;width: 50%;}#sk-container-id-2 div.sk-parallel-item:last-child::after {align-self: flex-start;width: 50%;}#sk-container-id-2 div.sk-parallel-item:only-child::after {width: 0;}#sk-container-id-2 div.sk-dashed-wrapped {border: 1px dashed gray;margin: 0 0.4em 0.5em 0.4em;box-sizing: border-box;padding-bottom: 0.4em;background-color: white;}#sk-container-id-2 div.sk-label label {font-family: monospace;font-weight: bold;display: inline-block;line-height: 1.2em;}#sk-container-id-2 div.sk-label-container {text-align: center;}#sk-container-id-2 div.sk-container {/* jupyter's `normalize.less` sets `[hidden] { display: none; }` but bootstrap.min.css set `[hidden] { display: none !important; }` so we also need the `!important` here to be able to override the default hidden behavior on the sphinx rendered scikit-learn.org. See: https://github.com/scikit-learn/scikit-learn/issues/21755 */display: inline-block !important;position: relative;}#sk-container-id-2 div.sk-text-repr-fallback {display: none;}</style><div id=\"sk-container-id-2\" class=\"sk-top-container\"><div class=\"sk-text-repr-fallback\"><pre>GradientBoostingClassifier(min_samples_leaf=40, n_estimators=45,\n",
       "                           n_iter_no_change=5, random_state=35)</pre><b>In a Jupyter environment, please rerun this cell to show the HTML representation or trust the notebook. <br />On GitHub, the HTML representation is unable to render, please try loading this page with nbviewer.org.</b></div><div class=\"sk-container\" hidden><div class=\"sk-item\"><div class=\"sk-estimator sk-toggleable\"><input class=\"sk-toggleable__control sk-hidden--visually\" id=\"sk-estimator-id-2\" type=\"checkbox\" checked><label for=\"sk-estimator-id-2\" class=\"sk-toggleable__label sk-toggleable__label-arrow\">GradientBoostingClassifier</label><div class=\"sk-toggleable__content\"><pre>GradientBoostingClassifier(min_samples_leaf=40, n_estimators=45,\n",
       "                           n_iter_no_change=5, random_state=35)</pre></div></div></div></div></div>"
      ],
      "text/plain": [
       "GradientBoostingClassifier(min_samples_leaf=40, n_estimators=45,\n",
       "                           n_iter_no_change=5, random_state=35)"
      ]
     },
     "execution_count": 169,
     "metadata": {},
     "output_type": "execute_result"
    }
   ],
   "source": [
    "# fitting the chosen model on the entire dataset \n",
    "\n",
    "gbm_cl_model.fit(X, y)"
   ]
  },
  {
   "cell_type": "code",
   "execution_count": 154,
   "id": "b1559c54",
   "metadata": {},
   "outputs": [],
   "source": [
    "X_test['preds'] = gbm_cl_model.predict_proba(X_test).round(3)[:,1]\n",
    "X_test['result'] = y_test"
   ]
  },
  {
   "cell_type": "code",
   "execution_count": 116,
   "id": "9c5d84ee",
   "metadata": {},
   "outputs": [],
   "source": [
    "# from sklearn.inspection import permutation_importance\n",
    "\n",
    "# pi = permutation_importance(gbm_cl_model, X_test[model_cols], y_test, scoring=['neg_log_loss', 'neg_brier_score'], n_repeats=8)\n",
    "\n",
    "# useful_features = []\n",
    "\n",
    "# for f, i in zip(model_cols, pi['neg_log_loss']['importances_mean']):\n",
    "#     if i.round(3) >= 0.001:\n",
    "#         useful_features.append(f)\n",
    "#     print(f, i.round(3))"
   ]
  },
  {
   "cell_type": "code",
   "execution_count": 182,
   "id": "cbbef821",
   "metadata": {},
   "outputs": [],
   "source": [
    "mens_submission = pd.read_csv(f'{data_folder}SampleSubmission2023.csv')\n",
    "\n",
    "mens_submission['team_one'] = [int(x[5:9]) for x in mens_submission.ID]\n",
    "mens_submission['team_two'] = [int(x[10:15]) for x in mens_submission.ID]\n",
    "mens_submission['season'] = 2023\n",
    "\n",
    "# creating a dict of this year's seeds\n",
    "mens_seeds = mens_seeds.query(\"Season == 2023\").copy()\n",
    "mens_seed['Seed'] = [int(x[1:3]) for x in mens_seeds['Seed']]\n",
    "\n",
    "mens_seeds_dict = mens_seed.set_index('TeamID')['Seed'].to_dict()\n",
    "\n",
    "# limiting the pool to this year's teams\n",
    "condition = ((mens_submission['team_one'].isin(mens_seeds_dict.keys())) & \n",
    "             (mens_submission['team_two'].isin(mens_seeds_dict.keys()))\n",
    "            )\n",
    "\n",
    "mens_submission = mens_submission[condition].copy()\n",
    "\n",
    "# getting Elo predictions\n",
    "\n",
    "grand_elo_sub_preds = []\n",
    "\n",
    "for t1, t2 in zip(mens_submission['team_one'], mens_submission['team_two']):\n",
    "\n",
    "        proba_ = elo_predict(season_end_elo_dict[(2023, t1)], season_end_elo_dict[(2023, t2)])\n",
    "        grand_elo_sub_preds.append(proba_)\n",
    "        \n",
    "mens_submission['grand_elo_pred'] = grand_elo_sub_preds\n",
    "\n",
    "# getting seeds\n",
    "\n",
    "mens_submission['team_one_seed'] = [mens_seeds_dict[team] for team in mens_submission['team_one']]\n",
    "mens_submission['team_two_seed'] = [mens_seeds_dict[team] for team in mens_submission['team_two']]"
   ]
  },
  {
   "cell_type": "code",
   "execution_count": 187,
   "id": "432c3896",
   "metadata": {},
   "outputs": [],
   "source": [
    "# creating a dictionary of teamid -> implied probs. note that if a team does not appear\n",
    "# i assign a negligible probability. teams without vegas odds won't be contenders\n",
    "\n",
    "thisyr_oddsdict = this_yr_odds.set_index('teamid')['implied_probability'].to_dict()\n",
    "\n",
    "mens_submission['team_one_implied_proba'] = (\n",
    "    [thisyr_oddsdict[x] if x in thisyr_oddsdict else 0.0025 for x in mens_submission['team_one']]\n",
    ")\n",
    "\n",
    "mens_submission['team_two_implied_proba'] = (\n",
    "    [thisyr_oddsdict[x] if x in thisyr_oddsdict else 0.0025 for x in mens_submission['team_two']]\n",
    ")"
   ]
  },
  {
   "cell_type": "code",
   "execution_count": 188,
   "id": "74a72b73",
   "metadata": {},
   "outputs": [],
   "source": [
    "# lists of columns from ken pom's df and my own stats that were used\n",
    "# to train the model\n",
    "\n",
    "pom_cols = ['season', 'teamid', 'ranktempo', 'adjtempo', 'rankadjtempo', 'rankoe', \n",
    "            'adjoe', 'adjde', 'rankadjde', 'adjem', 'rankadjem', 'adjtempo',\n",
    "            'rankadjtempo', 'rankadjoe']\n",
    "\n",
    "my_cols = ['team_one_my_total', 'team_two_my_total']"
   ]
  },
  {
   "cell_type": "code",
   "execution_count": 189,
   "id": "83658dbc",
   "metadata": {},
   "outputs": [],
   "source": [
    "# limiting the pom_cols to non-duplicates because i made an error earlier\n",
    "\n",
    "pom_cols = list(set(pom_cols))\n",
    "pom_model_df = pomdf[pom_cols].copy()\n",
    "\n",
    "mens_submission = (\n",
    "    mens_submission\n",
    "    .merge(pom_model_df,\n",
    "           how='left',\n",
    "           left_on=['season', 'team_one'],\n",
    "           right_on=['season', 'teamid'],)\n",
    "    .drop(columns=['teamid'])\n",
    ")\n",
    "\n",
    "mens_submission.columns = ['team_one_' + x if x in pom_model_df.columns else x for x in mens_submission.columns]\n",
    "mens_submission.rename(columns={'team_one_season' : 'season'}, inplace=True)\n",
    "\n",
    "mens_submission = (\n",
    "    mens_submission\n",
    "    .merge(pom_model_df,\n",
    "           how='left',\n",
    "           left_on=['season', 'team_two'],\n",
    "           right_on=['season', 'teamid'])\n",
    "    .drop(columns=['teamid'])\n",
    ")\n",
    "\n",
    "mens_submission.columns = ['team_two_' + x if x in pom_model_df.columns else x for x in mens_submission.columns]\n",
    "mens_submission.rename(columns={'team_two_season' : 'season'}, inplace=True)"
   ]
  },
  {
   "cell_type": "code",
   "execution_count": 190,
   "id": "53ba2770",
   "metadata": {},
   "outputs": [],
   "source": [
    "my_season_stats = mens_season_eff_dict[2023].reset_index()\n",
    "my_season_stats['my_total'] = my_season_stats['coef'] + (-1 * my_season_stats['coef_def'])\n",
    "my_season_stats.drop(columns=['coef', 'coef_def'], inplace=True)"
   ]
  },
  {
   "cell_type": "code",
   "execution_count": 191,
   "id": "69996114",
   "metadata": {},
   "outputs": [],
   "source": [
    "mens_submission = (\n",
    "    mens_submission\n",
    "    .merge(my_season_stats,\n",
    "           how='left',\n",
    "           left_on=['season', 'team_one'],\n",
    "           right_on=['season', 'teamid'])\n",
    "    .drop(columns=['teamid'])\n",
    ")\n",
    "\n",
    "mens_submission.columns = ['team_one_' + x if x in my_season_stats.columns else x for x in mens_submission.columns]\n",
    "mens_submission.rename(columns={'team_one_season' : 'season'}, inplace=True)\n",
    "\n",
    "mens_submission = (\n",
    "    mens_submission\n",
    "    .merge(my_season_stats,\n",
    "           how='left',\n",
    "           left_on=['season', 'team_two'],\n",
    "           right_on=['season', 'teamid'])\n",
    "    .drop(columns=['teamid'])\n",
    ")\n",
    "\n",
    "mens_submission.columns = ['team_two_' + x if x in my_season_stats.columns else x for x in mens_submission.columns]\n",
    "mens_submission.rename(columns={'team_two_season' : 'season'}, inplace=True)"
   ]
  },
  {
   "cell_type": "code",
   "execution_count": 192,
   "id": "d4336360",
   "metadata": {},
   "outputs": [
    {
     "name": "stderr",
     "output_type": "stream",
     "text": [
      "C:\\Users\\yaobv\\AppData\\Local\\Temp\\ipykernel_9652\\1700174904.py:8: FutureWarning: The default value of numeric_only in DataFrame.quantile is deprecated. In a future version, it will default to False. Select only valid columns or specify the value of numeric_only to silence this warning.\n",
      "  non_ranked_quan_vals = mens_submission[not_ranked_cols].quantile(0.2)\n"
     ]
    }
   ],
   "source": [
    "# filling in nan values using column quantiles. in the rank columns \n",
    "# i use 0.8, and in the numeric columns 0.2\n",
    "\n",
    "ranked_cols = [x for x in mens_submission.columns if 'rank' in x]\n",
    "not_ranked_cols = [x for x in mens_submission.columns if x not in ranked_cols]\n",
    "\n",
    "quan_vals = mens_submission[ranked_cols].quantile(0.8)\n",
    "non_ranked_quan_vals = mens_submission[not_ranked_cols].quantile(0.2)\n",
    "\n",
    "mens_submission[ranked_cols] = mens_submission[ranked_cols].fillna(quan_vals)\n",
    "mens_submission[not_ranked_cols] = mens_submission[not_ranked_cols].fillna(non_ranked_quan_vals)"
   ]
  },
  {
   "cell_type": "code",
   "execution_count": 193,
   "id": "09b14e6a",
   "metadata": {},
   "outputs": [],
   "source": [
    "mens_submission['pred_diff'] = ridge_model.predict(mens_submission[linear_model])\n",
    "mens_submission['model_pred'] = gbm_cl_model.predict_proba(mens_submission[model_cols])[:,1]\n",
    "\n",
    "mens_submission['Pred'] = mens_submission['model_pred']"
   ]
  },
  {
   "cell_type": "code",
   "execution_count": 73,
   "id": "c7f8ba3f",
   "metadata": {},
   "outputs": [],
   "source": [
    "# getting this year's sixteenth seed to artificially change the first round \n",
    "# win probability. if i'd had more time i would have incorporated this information\n",
    "# directly into the model\n",
    "\n",
    "mens_seeds_2023 = mens_seed[mens_seed['Season'] == 2023].copy()\n",
    "men_Wsixteen_seeds = mens_seeds_2023[mens_seeds_2023['Seed'].str.contains('16')]['TeamID'].to_list()\n",
    "\n",
    "mens_submission['Pred'] = (\n",
    "    np.where(mens_submission['team_one'].isin(men_Wsixteen_seeds),\n",
    "             0,\n",
    "             mens_submission['Pred'])\n",
    ")\n",
    "\n",
    "mens_submission['Pred'] = (\n",
    "    np.where(mens_submission['team_two'].isin(men_Wsixteen_seeds),\n",
    "             1,\n",
    "             mens_submission['Pred'])\n",
    ")"
   ]
  },
  {
   "cell_type": "code",
   "execution_count": 74,
   "id": "df4e50f5",
   "metadata": {},
   "outputs": [],
   "source": [
    "womens_teams = pd.read_csv(f'{data_folder}WTeams.csv')\n",
    "womens_conf = pd.read_csv(f'{data_folder}WTeamConferences.csv')\n",
    "womens_reg = pd.read_csv(f'{data_folder}WRegularSeasonCompactResults.csv')\n",
    "womens_det = pd.read_csv(f'{data_folder}WRegularSeasonDetailedResults.csv')\n",
    "womens_seed = pd.read_csv(f'{data_folder}WNCAATourneySeeds.csv')\n",
    "womens_tourn = pd.read_csv(f'{data_folder}WNCAATourneyCompactResults.csv')\n",
    "\n",
    "# creating a dictionary of womens team ids to be used later\n",
    "womens_tourn_teams = list(set(pd.concat([womens_tourn['WTeamID'], womens_tourn['LTeamID']])))\n",
    "womens_team_dict = womens_teams.set_index('TeamID')['TeamName'].to_dict()"
   ]
  },
  {
   "cell_type": "code",
   "execution_count": 75,
   "id": "0aaa2853",
   "metadata": {},
   "outputs": [],
   "source": [
    "womens_season_ff = get_season_four_factors(df=womens_det)"
   ]
  },
  {
   "cell_type": "markdown",
   "id": "b328225d",
   "metadata": {},
   "source": [
    "Possessions = FGA-OR+TO+.475*FTA"
   ]
  },
  {
   "cell_type": "code",
   "execution_count": 77,
   "id": "a85b0612",
   "metadata": {},
   "outputs": [],
   "source": [
    "womens_det['WPoss'] = womens_det['WFGA'] - womens_det['WOR'] + womens_det['WTO'] + (0.475 * womens_det['WFTA'])\n",
    "womens_det['LPoss'] = womens_det['LFGA'] - womens_det['LOR'] + womens_det['LTO'] + (0.475 * womens_det['LFTA'])\n",
    "womens_det['WPer100'] = (womens_det['WScore'] / womens_det['WPoss']) * 100\n",
    "womens_det['LPer100'] = (womens_det['LScore'] / womens_det['LPoss']) * 100"
   ]
  },
  {
   "cell_type": "code",
   "execution_count": 78,
   "id": "982c8618",
   "metadata": {},
   "outputs": [],
   "source": [
    "# filtering out overtime games to build season-team level models\n",
    "womens_det = womens_det[womens_det['NumOT'] == 0].copy()"
   ]
  },
  {
   "cell_type": "code",
   "execution_count": 79,
   "id": "aa278d31",
   "metadata": {},
   "outputs": [],
   "source": [
    "womens_team_filter = ((womens_det['WTeamID'].isin(womens_tourn_teams) & \n",
    "                       (womens_det['LTeamID'].isin(womens_tourn_teams)))\n",
    "                     )\n",
    "\n",
    "womens_det = womens_det[womens_team_filter].copy()"
   ]
  },
  {
   "cell_type": "code",
   "execution_count": 80,
   "id": "567a2978",
   "metadata": {},
   "outputs": [],
   "source": [
    "womens_reg_filter = (\n",
    "    ((womens_reg['WTeamID'].isin(womens_tourn_teams)) & (womens_reg['LTeamID'].isin(womens_tourn_teams)))\n",
    ")\n",
    "\n",
    "womens_reg_filtered = womens_reg[womens_reg_filter].copy()\n",
    "womens_reg_filtered.reset_index(inplace=True, drop=True)"
   ]
  },
  {
   "cell_type": "code",
   "execution_count": 81,
   "id": "5aceb703",
   "metadata": {},
   "outputs": [],
   "source": [
    "womens_season_eff_dict = {}\n",
    "\n",
    "for s in womens_det.Season.unique():\n",
    "    df_ = get_season_eff(season=s, df=womens_det, teams_dict=womens_team_dict)\n",
    "    df_['off_eff_rank'] = df_['coef'].rank(ascending=False)\n",
    "    df_['def_eff_rank'] = df_['coef_def'].rank(ascending=False)\n",
    "    df_['my_total'] = df_['coef'] + (-1 * df_['coef_def'])\n",
    "    womens_season_eff_dict[s] = df_"
   ]
  },
  {
   "cell_type": "code",
   "execution_count": 82,
   "id": "29b038e5",
   "metadata": {},
   "outputs": [],
   "source": [
    "womens_season_pace_dict = {}\n",
    "\n",
    "for s in womens_det.Season.unique():\n",
    "    df_ = get_season_pace(season=s, df=womens_det)\n",
    "    df_['pace_rank'] = df_['pace'].rank(ascending=False)\n",
    "    womens_season_pace_dict[s] = df_"
   ]
  },
  {
   "cell_type": "code",
   "execution_count": 83,
   "id": "b59421af",
   "metadata": {},
   "outputs": [],
   "source": [
    "wteam_pairs = womens_reg_filtered[['WTeamID', 'LTeamID']].values\n",
    "idx = np.random.randint(0, wteam_pairs.shape[1], wteam_pairs.shape[0])\n",
    "\n",
    "womens_reg_filtered['team_one'] = [x[0] for x in np.take_along_axis(wteam_pairs, idx[:, None], 1)]\n",
    "\n",
    "\n",
    "womens_reg_filtered['team_two'] = (\n",
    "    np.where(womens_reg_filtered['WTeamID'] == womens_reg_filtered['team_one'],\n",
    "             womens_reg_filtered['LTeamID'],\n",
    "             womens_reg_filtered['WTeamID']\n",
    "            )\n",
    ")\n",
    "\n",
    "\n",
    "\n",
    "womens_reg_filtered['team_one_score'] = (\n",
    "    np.where(womens_reg_filtered['WTeamID'] == womens_reg_filtered['team_one'],\n",
    "             womens_reg_filtered['WScore'],\n",
    "             womens_reg_filtered['LScore']\n",
    "            )\n",
    ")\n",
    "\n",
    "womens_reg_filtered['team_two_score'] = (\n",
    "    np.where(womens_reg_filtered['WTeamID'] == womens_reg_filtered['team_one'],\n",
    "             womens_reg_filtered['LScore'],\n",
    "             womens_reg_filtered['WScore']\n",
    "            )\n",
    ")\n",
    "\n",
    "womens_reg_filtered['team_one_win'] = (\n",
    "    np.where(womens_reg_filtered['team_one_score'] > womens_reg_filtered['team_two_score'],\n",
    "             1,\n",
    "             0)\n",
    ")"
   ]
  },
  {
   "cell_type": "code",
   "execution_count": 84,
   "id": "c7829d23",
   "metadata": {},
   "outputs": [
    {
     "name": "stdout",
     "output_type": "stream",
     "text": [
      "elo ratings processed successfully\n",
      "elo ratings processed successfully\n",
      "elo ratings processed successfully\n",
      "elo ratings processed successfully\n",
      "elo ratings processed successfully\n",
      "elo ratings processed successfully\n",
      "elo ratings processed successfully\n",
      "elo ratings processed successfully\n",
      "elo ratings processed successfully\n",
      "elo ratings processed successfully\n",
      "elo ratings processed successfully\n",
      "elo ratings processed successfully\n",
      "elo ratings processed successfully\n",
      "elo ratings processed successfully\n",
      "elo ratings processed successfully\n",
      "elo ratings processed successfully\n",
      "elo ratings processed successfully\n",
      "elo ratings processed successfully\n",
      "elo ratings processed successfully\n",
      "elo ratings processed successfully\n",
      "elo ratings processed successfully\n",
      "elo ratings processed successfully\n",
      "elo ratings processed successfully\n",
      "elo ratings processed successfully\n",
      "elo ratings processed successfully\n",
      "elo ratings processed successfully\n"
     ]
    }
   ],
   "source": [
    "womens_elo_dicts = {}\n",
    "\n",
    "for s in womens_reg.Season.unique():\n",
    "    \n",
    "    df_ = womens_reg[womens_reg['Season'] == s].copy()\n",
    "    elo_season = GameElo(df=df_, base_k=82)\n",
    "    elo_season.process_elo()\n",
    "    womens_elo_dicts[s] = [elo_season.elo_dict, elo_season.winner_probs]  "
   ]
  },
  {
   "cell_type": "code",
   "execution_count": 85,
   "id": "1d51411c",
   "metadata": {},
   "outputs": [],
   "source": [
    "# reorganizing womens tourney data\n",
    "\n",
    "team_pairs = womens_tourn[['WTeamID', 'LTeamID']].values\n",
    "idx = np.random.randint(0, team_pairs.shape[1], team_pairs.shape[0])\n",
    "\n",
    "womens_tourn['team_one'] = [x[0] for x in np.take_along_axis(team_pairs, idx[:, None], 1)]\n",
    "womens_tourn['team_two'] = (\n",
    "    np.where(womens_tourn['team_one'] == womens_tourn['WTeamID'],\n",
    "             womens_tourn['LTeamID'],\n",
    "             womens_tourn['WTeamID']\n",
    "            )\n",
    ")\n",
    "\n",
    "womens_tourn['team_one_score'] = (\n",
    "    np.where(womens_tourn['team_one'] == womens_tourn['WTeamID'],\n",
    "             womens_tourn['WScore'],\n",
    "             womens_tourn['LScore']\n",
    "            )\n",
    ")\n",
    "\n",
    "womens_tourn['team_two_score'] = (\n",
    "    np.where(womens_tourn['team_two'] == womens_tourn['WTeamID'],\n",
    "             womens_tourn['WScore'],\n",
    "             womens_tourn['LScore']\n",
    "            )\n",
    ")\n",
    "\n",
    "\n",
    "womens_tourn['score_diff'] = womens_tourn['team_one_score'].sub(womens_tourn['team_two_score'])\n",
    "womens_tourn['team_one_win'] = (\n",
    "    np.where(womens_tourn['team_one_score'] > womens_tourn['team_two_score'],\n",
    "             1,\n",
    "             0)\n",
    ")"
   ]
  },
  {
   "cell_type": "code",
   "execution_count": 86,
   "id": "8fd23482",
   "metadata": {},
   "outputs": [],
   "source": [
    "womens_preds = []\n",
    "\n",
    "for s, o, t in zip(womens_tourn['Season'], womens_tourn['team_one'], womens_tourn['team_two']):\n",
    "\n",
    "    t1_elo = womens_elo_dicts[s][0][o]\n",
    "    t2_elo = womens_elo_dicts[s][0][t]\n",
    "    pred = elo_predict(t1_elo, t2_elo)\n",
    "    womens_preds.append(pred)\n",
    "    \n",
    "womens_tourn['elo_preds'] = womens_preds"
   ]
  },
  {
   "cell_type": "code",
   "execution_count": 112,
   "id": "b0c9c6dd",
   "metadata": {},
   "outputs": [],
   "source": [
    "def get_paces_and_eff(df=None, eff_dict=None, pace_dict=None):\n",
    "    \n",
    "    team_1_paces = []    \n",
    "    team_2_paces = []\n",
    "\n",
    "    team_1_totals = []\n",
    "    team_2_totals = []\n",
    "\n",
    "    for s, o, t in zip(df['Season'], df['team_one'], df['team_two']):\n",
    "\n",
    "        try:\n",
    "            team_1_pace = pace_dict[s].loc[o]['pace']    \n",
    "            team_2_pace = pace_dict[s].loc[t]['pace']           \n",
    "\n",
    "            team_1_my_total = eff_dict[s].loc[o]['my_total']\n",
    "            team_2_my_total = eff_dict[s].loc[t]['my_total']\n",
    "\n",
    "            team_1_paces.append(team_1_pace)         \n",
    "            team_2_paces.append(team_2_pace)\n",
    "           \n",
    "            team_1_totals.append(team_1_my_total)\n",
    "            team_2_totals.append(team_2_my_total)\n",
    "\n",
    "        except:\n",
    "            team_1_paces.append(np.nan)            \n",
    "            team_2_paces.append(np.nan)            \n",
    "            team_1_totals.append(np.nan)\n",
    "            team_2_totals.append(np.nan)\n",
    "            \n",
    "    return team_1_paces, team_2_paces, team_1_totals, team_2_totals   "
   ]
  },
  {
   "cell_type": "code",
   "execution_count": 90,
   "id": "81b8022a",
   "metadata": {},
   "outputs": [],
   "source": [
    "womens_tourn['team_one_pace'] = team_1_paces\n",
    "womens_tourn['team_one_pace_rank'] = team_1_paceranks\n",
    "womens_tourn['team_one_my_total'] = team_1_totals\n",
    "\n",
    "womens_tourn['team_two_pace'] = team_2_paces\n",
    "womens_tourn['team_two_pace_rank'] = team_2_paceranks\n",
    "womens_tourn['team_two_my_total'] = team_2_totals"
   ]
  },
  {
   "cell_type": "code",
   "execution_count": 95,
   "id": "6eabc47f",
   "metadata": {},
   "outputs": [],
   "source": [
    "womens_tourn.dropna(subset=['team_one_my_total'], inplace=True)"
   ]
  },
  {
   "cell_type": "code",
   "execution_count": 106,
   "id": "bc1be5a0",
   "metadata": {},
   "outputs": [
    {
     "name": "stdout",
     "output_type": "stream",
     "text": [
      "alpha of model: 1000\n",
      "mae of womens diff model: 10.09518779066981\n"
     ]
    }
   ],
   "source": [
    "w_linear_model = ['team_one_my_total', 'team_two_my_total', 'team_one_pace', 'team_two_pace']\n",
    "\n",
    "womens_diff_model = RidgeCV(alphas=[100, 500, 1000])\n",
    "\n",
    "X = womens_tourn[w_linear_model]\n",
    "y = womens_tourn['score_diff']\n",
    "\n",
    "X_train, X_test, y_train, y_test = train_test_split(X, y, test_size=0.2, random_state=32)\n",
    "\n",
    "womens_diff_model.fit(X_train, y_train)\n",
    "\n",
    "print('alpha of model:', womens_diff_model.alpha_)\n",
    "print('mae of womens diff model:', mean_absolute_error(y_test, womens_diff_model.predict(X_test)))"
   ]
  },
  {
   "cell_type": "code",
   "execution_count": 99,
   "id": "63bbee03",
   "metadata": {},
   "outputs": [],
   "source": [
    "womens_tourn['pred_diff'] = womens_diff_model.predict(womens_tourn[w_linear_model])"
   ]
  },
  {
   "cell_type": "code",
   "execution_count": 108,
   "id": "e9f98383",
   "metadata": {},
   "outputs": [],
   "source": [
    "womens_model_cols = ['elo_preds', 'team_one_pace', \n",
    "                     'team_one_my_total', 'team_two_pace', \n",
    "                     'team_two_my_total', 'pred_diff']"
   ]
  },
  {
   "cell_type": "code",
   "execution_count": 109,
   "id": "ec6d96d8",
   "metadata": {},
   "outputs": [
    {
     "data": {
      "text/html": [
       "<style>#sk-container-id-4 {color: black;background-color: white;}#sk-container-id-4 pre{padding: 0;}#sk-container-id-4 div.sk-toggleable {background-color: white;}#sk-container-id-4 label.sk-toggleable__label {cursor: pointer;display: block;width: 100%;margin-bottom: 0;padding: 0.3em;box-sizing: border-box;text-align: center;}#sk-container-id-4 label.sk-toggleable__label-arrow:before {content: \"▸\";float: left;margin-right: 0.25em;color: #696969;}#sk-container-id-4 label.sk-toggleable__label-arrow:hover:before {color: black;}#sk-container-id-4 div.sk-estimator:hover label.sk-toggleable__label-arrow:before {color: black;}#sk-container-id-4 div.sk-toggleable__content {max-height: 0;max-width: 0;overflow: hidden;text-align: left;background-color: #f0f8ff;}#sk-container-id-4 div.sk-toggleable__content pre {margin: 0.2em;color: black;border-radius: 0.25em;background-color: #f0f8ff;}#sk-container-id-4 input.sk-toggleable__control:checked~div.sk-toggleable__content {max-height: 200px;max-width: 100%;overflow: auto;}#sk-container-id-4 input.sk-toggleable__control:checked~label.sk-toggleable__label-arrow:before {content: \"▾\";}#sk-container-id-4 div.sk-estimator input.sk-toggleable__control:checked~label.sk-toggleable__label {background-color: #d4ebff;}#sk-container-id-4 div.sk-label input.sk-toggleable__control:checked~label.sk-toggleable__label {background-color: #d4ebff;}#sk-container-id-4 input.sk-hidden--visually {border: 0;clip: rect(1px 1px 1px 1px);clip: rect(1px, 1px, 1px, 1px);height: 1px;margin: -1px;overflow: hidden;padding: 0;position: absolute;width: 1px;}#sk-container-id-4 div.sk-estimator {font-family: monospace;background-color: #f0f8ff;border: 1px dotted black;border-radius: 0.25em;box-sizing: border-box;margin-bottom: 0.5em;}#sk-container-id-4 div.sk-estimator:hover {background-color: #d4ebff;}#sk-container-id-4 div.sk-parallel-item::after {content: \"\";width: 100%;border-bottom: 1px solid gray;flex-grow: 1;}#sk-container-id-4 div.sk-label:hover label.sk-toggleable__label {background-color: #d4ebff;}#sk-container-id-4 div.sk-serial::before {content: \"\";position: absolute;border-left: 1px solid gray;box-sizing: border-box;top: 0;bottom: 0;left: 50%;z-index: 0;}#sk-container-id-4 div.sk-serial {display: flex;flex-direction: column;align-items: center;background-color: white;padding-right: 0.2em;padding-left: 0.2em;position: relative;}#sk-container-id-4 div.sk-item {position: relative;z-index: 1;}#sk-container-id-4 div.sk-parallel {display: flex;align-items: stretch;justify-content: center;background-color: white;position: relative;}#sk-container-id-4 div.sk-item::before, #sk-container-id-4 div.sk-parallel-item::before {content: \"\";position: absolute;border-left: 1px solid gray;box-sizing: border-box;top: 0;bottom: 0;left: 50%;z-index: -1;}#sk-container-id-4 div.sk-parallel-item {display: flex;flex-direction: column;z-index: 1;position: relative;background-color: white;}#sk-container-id-4 div.sk-parallel-item:first-child::after {align-self: flex-end;width: 50%;}#sk-container-id-4 div.sk-parallel-item:last-child::after {align-self: flex-start;width: 50%;}#sk-container-id-4 div.sk-parallel-item:only-child::after {width: 0;}#sk-container-id-4 div.sk-dashed-wrapped {border: 1px dashed gray;margin: 0 0.4em 0.5em 0.4em;box-sizing: border-box;padding-bottom: 0.4em;background-color: white;}#sk-container-id-4 div.sk-label label {font-family: monospace;font-weight: bold;display: inline-block;line-height: 1.2em;}#sk-container-id-4 div.sk-label-container {text-align: center;}#sk-container-id-4 div.sk-container {/* jupyter's `normalize.less` sets `[hidden] { display: none; }` but bootstrap.min.css set `[hidden] { display: none !important; }` so we also need the `!important` here to be able to override the default hidden behavior on the sphinx rendered scikit-learn.org. See: https://github.com/scikit-learn/scikit-learn/issues/21755 */display: inline-block !important;position: relative;}#sk-container-id-4 div.sk-text-repr-fallback {display: none;}</style><div id=\"sk-container-id-4\" class=\"sk-top-container\"><div class=\"sk-text-repr-fallback\"><pre>GradientBoostingClassifier()</pre><b>In a Jupyter environment, please rerun this cell to show the HTML representation or trust the notebook. <br />On GitHub, the HTML representation is unable to render, please try loading this page with nbviewer.org.</b></div><div class=\"sk-container\" hidden><div class=\"sk-item\"><div class=\"sk-estimator sk-toggleable\"><input class=\"sk-toggleable__control sk-hidden--visually\" id=\"sk-estimator-id-4\" type=\"checkbox\" checked><label for=\"sk-estimator-id-4\" class=\"sk-toggleable__label sk-toggleable__label-arrow\">GradientBoostingClassifier</label><div class=\"sk-toggleable__content\"><pre>GradientBoostingClassifier()</pre></div></div></div></div></div>"
      ],
      "text/plain": [
       "GradientBoostingClassifier()"
      ]
     },
     "execution_count": 109,
     "metadata": {},
     "output_type": "execute_result"
    }
   ],
   "source": [
    "womens_model = GradientBoostingClassifier()\n",
    "\n",
    "womens_X = womens_tourn[womens_model_cols].copy()\n",
    "womens_y = womens_tourn['team_one_win'].values\n",
    "\n",
    "X_train, X_test, y_train, y_test = train_test_split(womens_X, womens_y, test_size=0.2, random_state=34)\n",
    "\n",
    "womens_model.fit(X_train, y_train)"
   ]
  },
  {
   "cell_type": "code",
   "execution_count": 110,
   "id": "121237c2",
   "metadata": {},
   "outputs": [
    {
     "data": {
      "text/plain": [
       "0.14820578305694787"
      ]
     },
     "execution_count": 110,
     "metadata": {},
     "output_type": "execute_result"
    }
   ],
   "source": [
    "log_loss(y_test, womens_model.predict_proba(X_test)[:,1])\n",
    "brier_score_loss(y_test, womens_model.predict_proba(X_test)[:,1])"
   ]
  },
  {
   "cell_type": "code",
   "execution_count": 111,
   "id": "03438344",
   "metadata": {},
   "outputs": [],
   "source": [
    "womens_submission = pd.read_csv(f'{data_folder}SampleSubmission2023.csv')\n",
    "womens_seeds = pd.read_csv(f'{data_folder}WNCAATourneySeeds.csv')\n",
    "\n",
    "# getting a list of this year's teams\n",
    "womens_teams_thisyr = list(womens_seed[womens_seed['Season'] == 2023]['TeamID'].unique())\n",
    "\n",
    "womens_submission['team_one'] = [int(x[5:9]) for x in womens_submission.ID]\n",
    "womens_submission['team_two'] = [int(x[10:15]) for x in womens_submission.ID]\n",
    "womens_submission['season'] = 2023\n",
    "\n",
    "# limiting the pool to this year's teams\n",
    "condition = ((womens_submission['team_one'].isin(womens_teams_thisyr)) & \n",
    "             (womens_submission['team_two'].isin(womens_teams_thisyr))\n",
    "            )\n",
    "\n",
    "womens_submission = womens_submission[condition].copy()"
   ]
  },
  {
   "cell_type": "code",
   "execution_count": 127,
   "id": "7ae2233b",
   "metadata": {},
   "outputs": [],
   "source": [
    "womens_elo_preds = []\n",
    "\n",
    "for o, t in zip(womens_submission['team_one'], womens_submission['team_two']):\n",
    "    \n",
    "    try:\n",
    "\n",
    "        proba_ = elo_predict(womens_elo_dicts[2023][0][o], womens_elo_dicts[2023][0][t])\n",
    "        womens_elo_preds.append(proba_)\n",
    "        \n",
    "    except:\n",
    "        womens_elo_preds.append(0.5)\n",
    "        \n",
    "womens_submission['elo_preds'] = womens_elo_preds\n",
    "womens_submission['Pred'] = womens_submission['elo_preds']"
   ]
  },
  {
   "cell_type": "code",
   "execution_count": 123,
   "id": "19f84dca",
   "metadata": {},
   "outputs": [],
   "source": [
    "t1_pace = []\n",
    "t2_pace = []\n",
    "t1_eff = []\n",
    "t2_eff = []\n",
    "\n",
    "\n",
    "\n",
    "for t1, t2 in zip(womens_submission['team_one'], womens_submission['team_two']):\n",
    "    \n",
    "    try:\n",
    "    \n",
    "        t1_pace_ = womens_season_pace_dict[2023].loc[t1]['pace']\n",
    "        t2_pace_ = womens_season_pace_dict[2023].loc[t2]['pace']\n",
    "        t1_eff_ = womens_season_eff_dict[2023].loc[t1]['my_total']\n",
    "        t2_eff_ = womens_season_eff_dict[2023].loc[t2]['my_total']\n",
    "\n",
    "        t1_pace.append(t1_pace_)\n",
    "        t2_pace.append(t2_pace_)\n",
    "        t1_eff.append(t1_eff_)\n",
    "        t2_eff.append(t2_eff_)\n",
    "        \n",
    "    except:\n",
    "        \n",
    "        t1_pace.append(55)\n",
    "        t2_pace.append(55)\n",
    "        t1_eff.append(-5)\n",
    "        t2_eff.append(-5)\n",
    "\n",
    "womens_submission['team_one_pace'] = t1_pace\n",
    "womens_submission['team_two_pace'] = t2_pace\n",
    "womens_submission['team_one_my_total'] = t1_eff\n",
    "womens_submission['team_two_my_total'] = t2_eff"
   ]
  },
  {
   "cell_type": "code",
   "execution_count": 124,
   "id": "528bb006",
   "metadata": {},
   "outputs": [],
   "source": [
    "womens_submission['pred_diff'] = womens_diff_model.predict(womens_submission[w_linear_model])"
   ]
  },
  {
   "cell_type": "code",
   "execution_count": 132,
   "id": "8f675c2f",
   "metadata": {},
   "outputs": [],
   "source": [
    "womens_submission['model_pred'] = womens_model.predict_proba(womens_submission[womens_model_cols])[:,1]"
   ]
  },
  {
   "cell_type": "code",
   "execution_count": 133,
   "id": "87c762a1",
   "metadata": {},
   "outputs": [],
   "source": [
    "womens_submission['Pred'] = womens_submission['model_pred']"
   ]
  },
  {
   "cell_type": "code",
   "execution_count": 82,
   "id": "d4b63a3d",
   "metadata": {},
   "outputs": [
    {
     "name": "stderr",
     "output_type": "stream",
     "text": [
      "C:\\Users\\yaobv\\AppData\\Local\\Temp\\ipykernel_10572\\3358348523.py:3: UserWarning: Boolean Series key will be reindexed to match DataFrame index.\n",
      "  Wone_seeds = womens_seeds_2023[womens_seeds['Seed'].str.contains('01')]['TeamID'].to_list()\n",
      "C:\\Users\\yaobv\\AppData\\Local\\Temp\\ipykernel_10572\\3358348523.py:4: UserWarning: Boolean Series key will be reindexed to match DataFrame index.\n",
      "  Wsixteen_seeds = womens_seeds_2023[womens_seeds['Seed'].str.contains('16')]['TeamID'].to_list()\n"
     ]
    }
   ],
   "source": [
    "womens_seeds_2023 = womens_seeds[womens_seeds['Season'] == 2023].copy()\n",
    "\n",
    "Wone_seeds = womens_seeds_2023[womens_seeds['Seed'].str.contains('01')]['TeamID'].to_list()\n",
    "Wsixteen_seeds = womens_seeds_2023[womens_seeds['Seed'].str.contains('16')]['TeamID'].to_list()\n",
    "\n",
    "womens_submission['Pred'] = (\n",
    "    np.where(womens_submission['team_one'].isin(Wsixteen_seeds),\n",
    "             0,\n",
    "             womens_submission['Pred'])\n",
    ")\n",
    "\n",
    "womens_submission['Pred'] = (\n",
    "    np.where(womens_submission['team_two'].isin(Wsixteen_seeds),\n",
    "             1,\n",
    "             womens_submission['Pred'])\n",
    ")"
   ]
  },
  {
   "cell_type": "code",
   "execution_count": 134,
   "id": "1dd2ebbf",
   "metadata": {},
   "outputs": [
    {
     "data": {
      "text/plain": [
       "<Axes: >"
      ]
     },
     "execution_count": 134,
     "metadata": {},
     "output_type": "execute_result"
    },
    {
     "data": {
      "image/png": "[encoded data removed]",
      "text/plain": [
       "<Figure size 640x480 with 1 Axes>"
      ]
     },
     "metadata": {},
     "output_type": "display_data"
    }
   ],
   "source": [
    "womens_submission['Pred'].hist()"
   ]
  },
  {
   "cell_type": "code",
   "execution_count": 135,
   "id": "1d1c37e5",
   "metadata": {},
   "outputs": [],
   "source": [
    "# loading the sample to populate it \n",
    "\n",
    "full_submission = pd.read_csv(f'{data_folder}SampleSubmission2023.csv')\n",
    "\n",
    "# limiting men's and women's submission df's\n",
    "mens_submission_compact = mens_submission[['ID', 'Pred']].copy()\n",
    "womens_submission_compact = womens_submission[['ID', 'Pred']].copy()"
   ]
  },
  {
   "cell_type": "code",
   "execution_count": 136,
   "id": "f0a3c0c1",
   "metadata": {},
   "outputs": [],
   "source": [
    "men_women_sub = pd.concat([mens_submission_compact, womens_submission_compact])\n",
    "\n",
    "mwsubdict = men_women_sub.set_index('ID')['Pred'].to_dict()\n",
    "\n",
    "full_submission['Pred'] = [mwsubdict[x] if x in mwsubdict else 0.5 for x in full_submission['ID']]"
   ]
  },
  {
   "cell_type": "code",
   "execution_count": 138,
   "id": "4bd21f98",
   "metadata": {},
   "outputs": [],
   "source": [
    "full_submission.to_csv('late_sub5.csv', index=False)"
   ]
  },
  {
   "cell_type": "code",
   "execution_count": 137,
   "id": "4fc56a6b",
   "metadata": {},
   "outputs": [
    {
     "data": {
      "text/plain": [
       "array([[<Axes: title={'center': 'Pred'}>]], dtype=object)"
      ]
     },
     "execution_count": 137,
     "metadata": {},
     "output_type": "execute_result"
    },
    {
     "data": {
      "image/png": "[encoded data removed]",
      "text/plain": [
       "<Figure size 640x480 with 1 Axes>"
      ]
     },
     "metadata": {},
     "output_type": "display_data"
    }
   ],
   "source": [
    "full_submission[full_submission['Pred'] != 0.5].hist(bins=25)"
   ]
  },
  {
   "cell_type": "code",
   "execution_count": 139,
   "id": "76fa0daf",
   "metadata": {},
   "outputs": [],
   "source": [
    "full_submission['team_a'] = [int(x[5:9]) for x in full_submission['ID']]\n",
    "full_submission['team_b'] = [int(x[10:14]) for x in full_submission['ID']]"
   ]
  },
  {
   "cell_type": "code",
   "execution_count": 140,
   "id": "36591449",
   "metadata": {},
   "outputs": [],
   "source": [
    "full_submission['team_a_name'] = (\n",
    "    [mens_team_dict[x] if x in mens_team_dict else womens_team_dict[x] for x in full_submission.team_a]\n",
    ")"
   ]
  },
  {
   "cell_type": "code",
   "execution_count": 141,
   "id": "99117572",
   "metadata": {},
   "outputs": [],
   "source": [
    "full_submission['team_b_name'] = (\n",
    "    [mens_team_dict[x] if x in mens_team_dict else womens_team_dict[x] for x in full_submission.team_b]\n",
    ")"
   ]
  },
  {
   "cell_type": "code",
   "execution_count": 144,
   "id": "3e528d5a",
   "metadata": {
    "scrolled": true
   },
   "outputs": [
    {
     "data": {
      "text/html": [
       "<div>\n",
       "<style scoped>\n",
       "    .dataframe tbody tr th:only-of-type {\n",
       "        vertical-align: middle;\n",
       "    }\n",
       "\n",
       "    .dataframe tbody tr th {\n",
       "        vertical-align: top;\n",
       "    }\n",
       "\n",
       "    .dataframe thead th {\n",
       "        text-align: right;\n",
       "    }\n",
       "</style>\n",
       "<table border=\"1\" class=\"dataframe\">\n",
       "  <thead>\n",
       "    <tr style=\"text-align: right;\">\n",
       "      <th></th>\n",
       "      <th>ID</th>\n",
       "      <th>Pred</th>\n",
       "      <th>team_a</th>\n",
       "      <th>team_b</th>\n",
       "      <th>team_a_name</th>\n",
       "      <th>team_b_name</th>\n",
       "    </tr>\n",
       "  </thead>\n",
       "  <tbody>\n",
       "    <tr>\n",
       "      <th>60919</th>\n",
       "      <td>2023_1376_1447</td>\n",
       "      <td>0.500000</td>\n",
       "      <td>1376</td>\n",
       "      <td>1447</td>\n",
       "      <td>South Carolina</td>\n",
       "      <td>Wagner</td>\n",
       "    </tr>\n",
       "    <tr>\n",
       "      <th>60920</th>\n",
       "      <td>2023_1376_1448</td>\n",
       "      <td>0.500000</td>\n",
       "      <td>1376</td>\n",
       "      <td>1448</td>\n",
       "      <td>South Carolina</td>\n",
       "      <td>Wake Forest</td>\n",
       "    </tr>\n",
       "    <tr>\n",
       "      <th>60921</th>\n",
       "      <td>2023_1376_1449</td>\n",
       "      <td>0.500000</td>\n",
       "      <td>1376</td>\n",
       "      <td>1449</td>\n",
       "      <td>South Carolina</td>\n",
       "      <td>Washington</td>\n",
       "    </tr>\n",
       "    <tr>\n",
       "      <th>60922</th>\n",
       "      <td>2023_1376_1450</td>\n",
       "      <td>0.500000</td>\n",
       "      <td>1376</td>\n",
       "      <td>1450</td>\n",
       "      <td>South Carolina</td>\n",
       "      <td>Washington St</td>\n",
       "    </tr>\n",
       "    <tr>\n",
       "      <th>60923</th>\n",
       "      <td>2023_1376_1451</td>\n",
       "      <td>0.500000</td>\n",
       "      <td>1376</td>\n",
       "      <td>1451</td>\n",
       "      <td>South Carolina</td>\n",
       "      <td>Weber St</td>\n",
       "    </tr>\n",
       "    <tr>\n",
       "      <th>60924</th>\n",
       "      <td>2023_1376_1452</td>\n",
       "      <td>0.500000</td>\n",
       "      <td>1376</td>\n",
       "      <td>1452</td>\n",
       "      <td>South Carolina</td>\n",
       "      <td>West Virginia</td>\n",
       "    </tr>\n",
       "    <tr>\n",
       "      <th>60925</th>\n",
       "      <td>2023_1376_1453</td>\n",
       "      <td>0.500000</td>\n",
       "      <td>1376</td>\n",
       "      <td>1453</td>\n",
       "      <td>South Carolina</td>\n",
       "      <td>WI Green Bay</td>\n",
       "    </tr>\n",
       "    <tr>\n",
       "      <th>60926</th>\n",
       "      <td>2023_1376_1454</td>\n",
       "      <td>0.500000</td>\n",
       "      <td>1376</td>\n",
       "      <td>1454</td>\n",
       "      <td>South Carolina</td>\n",
       "      <td>WI Milwaukee</td>\n",
       "    </tr>\n",
       "    <tr>\n",
       "      <th>60927</th>\n",
       "      <td>2023_1376_1455</td>\n",
       "      <td>0.500000</td>\n",
       "      <td>1376</td>\n",
       "      <td>1455</td>\n",
       "      <td>South Carolina</td>\n",
       "      <td>Wichita St</td>\n",
       "    </tr>\n",
       "    <tr>\n",
       "      <th>60928</th>\n",
       "      <td>2023_1376_1456</td>\n",
       "      <td>0.500000</td>\n",
       "      <td>1376</td>\n",
       "      <td>1456</td>\n",
       "      <td>South Carolina</td>\n",
       "      <td>William &amp; Mary</td>\n",
       "    </tr>\n",
       "    <tr>\n",
       "      <th>60929</th>\n",
       "      <td>2023_1376_1457</td>\n",
       "      <td>0.500000</td>\n",
       "      <td>1376</td>\n",
       "      <td>1457</td>\n",
       "      <td>South Carolina</td>\n",
       "      <td>Winthrop</td>\n",
       "    </tr>\n",
       "    <tr>\n",
       "      <th>60930</th>\n",
       "      <td>2023_1376_1458</td>\n",
       "      <td>0.500000</td>\n",
       "      <td>1376</td>\n",
       "      <td>1458</td>\n",
       "      <td>South Carolina</td>\n",
       "      <td>Wisconsin</td>\n",
       "    </tr>\n",
       "    <tr>\n",
       "      <th>60931</th>\n",
       "      <td>2023_1376_1459</td>\n",
       "      <td>0.500000</td>\n",
       "      <td>1376</td>\n",
       "      <td>1459</td>\n",
       "      <td>South Carolina</td>\n",
       "      <td>Wofford</td>\n",
       "    </tr>\n",
       "    <tr>\n",
       "      <th>60932</th>\n",
       "      <td>2023_1376_1460</td>\n",
       "      <td>0.500000</td>\n",
       "      <td>1376</td>\n",
       "      <td>1460</td>\n",
       "      <td>South Carolina</td>\n",
       "      <td>Wright St</td>\n",
       "    </tr>\n",
       "    <tr>\n",
       "      <th>60933</th>\n",
       "      <td>2023_1376_1461</td>\n",
       "      <td>0.500000</td>\n",
       "      <td>1376</td>\n",
       "      <td>1461</td>\n",
       "      <td>South Carolina</td>\n",
       "      <td>Wyoming</td>\n",
       "    </tr>\n",
       "    <tr>\n",
       "      <th>60934</th>\n",
       "      <td>2023_1376_1462</td>\n",
       "      <td>0.500000</td>\n",
       "      <td>1376</td>\n",
       "      <td>1462</td>\n",
       "      <td>South Carolina</td>\n",
       "      <td>Xavier</td>\n",
       "    </tr>\n",
       "    <tr>\n",
       "      <th>60935</th>\n",
       "      <td>2023_1376_1463</td>\n",
       "      <td>0.500000</td>\n",
       "      <td>1376</td>\n",
       "      <td>1463</td>\n",
       "      <td>South Carolina</td>\n",
       "      <td>Yale</td>\n",
       "    </tr>\n",
       "    <tr>\n",
       "      <th>60936</th>\n",
       "      <td>2023_1376_1464</td>\n",
       "      <td>0.500000</td>\n",
       "      <td>1376</td>\n",
       "      <td>1464</td>\n",
       "      <td>South Carolina</td>\n",
       "      <td>Youngstown St</td>\n",
       "    </tr>\n",
       "    <tr>\n",
       "      <th>60937</th>\n",
       "      <td>2023_1376_1465</td>\n",
       "      <td>0.500000</td>\n",
       "      <td>1376</td>\n",
       "      <td>1465</td>\n",
       "      <td>South Carolina</td>\n",
       "      <td>Cal Baptist</td>\n",
       "    </tr>\n",
       "    <tr>\n",
       "      <th>60916</th>\n",
       "      <td>2023_1376_1442</td>\n",
       "      <td>0.500000</td>\n",
       "      <td>1376</td>\n",
       "      <td>1442</td>\n",
       "      <td>South Carolina</td>\n",
       "      <td>W Illinois</td>\n",
       "    </tr>\n",
       "    <tr>\n",
       "      <th>60915</th>\n",
       "      <td>2023_1376_1441</td>\n",
       "      <td>0.500000</td>\n",
       "      <td>1376</td>\n",
       "      <td>1441</td>\n",
       "      <td>South Carolina</td>\n",
       "      <td>W Carolina</td>\n",
       "    </tr>\n",
       "    <tr>\n",
       "      <th>60918</th>\n",
       "      <td>2023_1376_1444</td>\n",
       "      <td>0.500000</td>\n",
       "      <td>1376</td>\n",
       "      <td>1444</td>\n",
       "      <td>South Carolina</td>\n",
       "      <td>W Michigan</td>\n",
       "    </tr>\n",
       "    <tr>\n",
       "      <th>60914</th>\n",
       "      <td>2023_1376_1440</td>\n",
       "      <td>0.500000</td>\n",
       "      <td>1376</td>\n",
       "      <td>1440</td>\n",
       "      <td>South Carolina</td>\n",
       "      <td>VMI</td>\n",
       "    </tr>\n",
       "    <tr>\n",
       "      <th>60902</th>\n",
       "      <td>2023_1376_1427</td>\n",
       "      <td>0.500000</td>\n",
       "      <td>1376</td>\n",
       "      <td>1427</td>\n",
       "      <td>South Carolina</td>\n",
       "      <td>UT San Antonio</td>\n",
       "    </tr>\n",
       "    <tr>\n",
       "      <th>60903</th>\n",
       "      <td>2023_1376_1428</td>\n",
       "      <td>0.500000</td>\n",
       "      <td>1376</td>\n",
       "      <td>1428</td>\n",
       "      <td>South Carolina</td>\n",
       "      <td>Utah</td>\n",
       "    </tr>\n",
       "    <tr>\n",
       "      <th>60904</th>\n",
       "      <td>2023_1376_1429</td>\n",
       "      <td>0.500000</td>\n",
       "      <td>1376</td>\n",
       "      <td>1429</td>\n",
       "      <td>South Carolina</td>\n",
       "      <td>Utah St</td>\n",
       "    </tr>\n",
       "    <tr>\n",
       "      <th>60905</th>\n",
       "      <td>2023_1376_1430</td>\n",
       "      <td>0.500000</td>\n",
       "      <td>1376</td>\n",
       "      <td>1430</td>\n",
       "      <td>South Carolina</td>\n",
       "      <td>Utah Valley</td>\n",
       "    </tr>\n",
       "    <tr>\n",
       "      <th>60906</th>\n",
       "      <td>2023_1376_1431</td>\n",
       "      <td>0.500000</td>\n",
       "      <td>1376</td>\n",
       "      <td>1431</td>\n",
       "      <td>South Carolina</td>\n",
       "      <td>UTEP</td>\n",
       "    </tr>\n",
       "    <tr>\n",
       "      <th>60907</th>\n",
       "      <td>2023_1376_1433</td>\n",
       "      <td>0.500000</td>\n",
       "      <td>1376</td>\n",
       "      <td>1433</td>\n",
       "      <td>South Carolina</td>\n",
       "      <td>VCU</td>\n",
       "    </tr>\n",
       "    <tr>\n",
       "      <th>60908</th>\n",
       "      <td>2023_1376_1434</td>\n",
       "      <td>0.500000</td>\n",
       "      <td>1376</td>\n",
       "      <td>1434</td>\n",
       "      <td>South Carolina</td>\n",
       "      <td>Valparaiso</td>\n",
       "    </tr>\n",
       "    <tr>\n",
       "      <th>60909</th>\n",
       "      <td>2023_1376_1435</td>\n",
       "      <td>0.500000</td>\n",
       "      <td>1376</td>\n",
       "      <td>1435</td>\n",
       "      <td>South Carolina</td>\n",
       "      <td>Vanderbilt</td>\n",
       "    </tr>\n",
       "    <tr>\n",
       "      <th>60910</th>\n",
       "      <td>2023_1376_1436</td>\n",
       "      <td>0.500000</td>\n",
       "      <td>1376</td>\n",
       "      <td>1436</td>\n",
       "      <td>South Carolina</td>\n",
       "      <td>Vermont</td>\n",
       "    </tr>\n",
       "    <tr>\n",
       "      <th>60911</th>\n",
       "      <td>2023_1376_1437</td>\n",
       "      <td>0.500000</td>\n",
       "      <td>1376</td>\n",
       "      <td>1437</td>\n",
       "      <td>South Carolina</td>\n",
       "      <td>Villanova</td>\n",
       "    </tr>\n",
       "    <tr>\n",
       "      <th>126026</th>\n",
       "      <td>2023_3376_3477</td>\n",
       "      <td>0.500000</td>\n",
       "      <td>3376</td>\n",
       "      <td>3477</td>\n",
       "      <td>South Carolina</td>\n",
       "      <td>TX A&amp;M Commerce</td>\n",
       "    </tr>\n",
       "    <tr>\n",
       "      <th>60912</th>\n",
       "      <td>2023_1376_1438</td>\n",
       "      <td>0.500000</td>\n",
       "      <td>1376</td>\n",
       "      <td>1438</td>\n",
       "      <td>South Carolina</td>\n",
       "      <td>Virginia</td>\n",
       "    </tr>\n",
       "    <tr>\n",
       "      <th>60913</th>\n",
       "      <td>2023_1376_1439</td>\n",
       "      <td>0.500000</td>\n",
       "      <td>1376</td>\n",
       "      <td>1439</td>\n",
       "      <td>South Carolina</td>\n",
       "      <td>Virginia Tech</td>\n",
       "    </tr>\n",
       "    <tr>\n",
       "      <th>125934</th>\n",
       "      <td>2023_3376_3381</td>\n",
       "      <td>0.630968</td>\n",
       "      <td>3376</td>\n",
       "      <td>3381</td>\n",
       "      <td>South Carolina</td>\n",
       "      <td>Southern Utah</td>\n",
       "    </tr>\n",
       "    <tr>\n",
       "      <th>125940</th>\n",
       "      <td>2023_3376_3387</td>\n",
       "      <td>0.630968</td>\n",
       "      <td>3376</td>\n",
       "      <td>3387</td>\n",
       "      <td>South Carolina</td>\n",
       "      <td>St Louis</td>\n",
       "    </tr>\n",
       "    <tr>\n",
       "      <th>125931</th>\n",
       "      <td>2023_3376_3378</td>\n",
       "      <td>0.910911</td>\n",
       "      <td>3376</td>\n",
       "      <td>3378</td>\n",
       "      <td>South Carolina</td>\n",
       "      <td>South Florida</td>\n",
       "    </tr>\n",
       "    <tr>\n",
       "      <th>125943</th>\n",
       "      <td>2023_3376_3390</td>\n",
       "      <td>0.924506</td>\n",
       "      <td>3376</td>\n",
       "      <td>3390</td>\n",
       "      <td>South Carolina</td>\n",
       "      <td>Stanford</td>\n",
       "    </tr>\n",
       "    <tr>\n",
       "      <th>125970</th>\n",
       "      <td>2023_3376_3417</td>\n",
       "      <td>0.965004</td>\n",
       "      <td>3376</td>\n",
       "      <td>3417</td>\n",
       "      <td>South Carolina</td>\n",
       "      <td>UCLA</td>\n",
       "    </tr>\n",
       "    <tr>\n",
       "      <th>125953</th>\n",
       "      <td>2023_3376_3400</td>\n",
       "      <td>0.968748</td>\n",
       "      <td>3376</td>\n",
       "      <td>3400</td>\n",
       "      <td>South Carolina</td>\n",
       "      <td>Texas</td>\n",
       "    </tr>\n",
       "    <tr>\n",
       "      <th>125938</th>\n",
       "      <td>2023_3376_3385</td>\n",
       "      <td>0.970649</td>\n",
       "      <td>3376</td>\n",
       "      <td>3385</td>\n",
       "      <td>South Carolina</td>\n",
       "      <td>St John's</td>\n",
       "    </tr>\n",
       "    <tr>\n",
       "      <th>125999</th>\n",
       "      <td>2023_3376_3450</td>\n",
       "      <td>0.972460</td>\n",
       "      <td>3376</td>\n",
       "      <td>3450</td>\n",
       "      <td>South Carolina</td>\n",
       "      <td>Washington St</td>\n",
       "    </tr>\n",
       "    <tr>\n",
       "      <th>125978</th>\n",
       "      <td>2023_3376_3425</td>\n",
       "      <td>0.972460</td>\n",
       "      <td>3376</td>\n",
       "      <td>3425</td>\n",
       "      <td>South Carolina</td>\n",
       "      <td>USC</td>\n",
       "    </tr>\n",
       "    <tr>\n",
       "      <th>125950</th>\n",
       "      <td>2023_3376_3397</td>\n",
       "      <td>0.972825</td>\n",
       "      <td>3376</td>\n",
       "      <td>3397</td>\n",
       "      <td>South Carolina</td>\n",
       "      <td>Tennessee</td>\n",
       "    </tr>\n",
       "    <tr>\n",
       "      <th>125958</th>\n",
       "      <td>2023_3376_3405</td>\n",
       "      <td>0.974797</td>\n",
       "      <td>3376</td>\n",
       "      <td>3405</td>\n",
       "      <td>South Carolina</td>\n",
       "      <td>Toledo</td>\n",
       "    </tr>\n",
       "    <tr>\n",
       "      <th>126001</th>\n",
       "      <td>2023_3376_3452</td>\n",
       "      <td>0.975590</td>\n",
       "      <td>3376</td>\n",
       "      <td>3452</td>\n",
       "      <td>South Carolina</td>\n",
       "      <td>West Virginia</td>\n",
       "    </tr>\n",
       "    <tr>\n",
       "      <th>125981</th>\n",
       "      <td>2023_3376_3428</td>\n",
       "      <td>0.975643</td>\n",
       "      <td>3376</td>\n",
       "      <td>3428</td>\n",
       "      <td>South Carolina</td>\n",
       "      <td>Utah</td>\n",
       "    </tr>\n",
       "    <tr>\n",
       "      <th>125977</th>\n",
       "      <td>2023_3376_3424</td>\n",
       "      <td>0.977443</td>\n",
       "      <td>3376</td>\n",
       "      <td>3424</td>\n",
       "      <td>South Carolina</td>\n",
       "      <td>UNLV</td>\n",
       "    </tr>\n",
       "    <tr>\n",
       "      <th>125989</th>\n",
       "      <td>2023_3376_3437</td>\n",
       "      <td>0.980852</td>\n",
       "      <td>3376</td>\n",
       "      <td>3437</td>\n",
       "      <td>South Carolina</td>\n",
       "      <td>Villanova</td>\n",
       "    </tr>\n",
       "    <tr>\n",
       "      <th>125991</th>\n",
       "      <td>2023_3376_3439</td>\n",
       "      <td>0.981056</td>\n",
       "      <td>3376</td>\n",
       "      <td>3439</td>\n",
       "      <td>South Carolina</td>\n",
       "      <td>Virginia Tech</td>\n",
       "    </tr>\n",
       "    <tr>\n",
       "      <th>125988</th>\n",
       "      <td>2023_3376_3436</td>\n",
       "      <td>0.989249</td>\n",
       "      <td>3376</td>\n",
       "      <td>3436</td>\n",
       "      <td>South Carolina</td>\n",
       "      <td>Vermont</td>\n",
       "    </tr>\n",
       "    <tr>\n",
       "      <th>125933</th>\n",
       "      <td>2023_3376_3380</td>\n",
       "      <td>0.991110</td>\n",
       "      <td>3376</td>\n",
       "      <td>3380</td>\n",
       "      <td>South Carolina</td>\n",
       "      <td>Southern Univ</td>\n",
       "    </tr>\n",
       "    <tr>\n",
       "      <th>125952</th>\n",
       "      <td>2023_3376_3399</td>\n",
       "      <td>0.991110</td>\n",
       "      <td>3376</td>\n",
       "      <td>3399</td>\n",
       "      <td>South Carolina</td>\n",
       "      <td>Tennessee Tech</td>\n",
       "    </tr>\n",
       "  </tbody>\n",
       "</table>\n",
       "</div>"
      ],
      "text/plain": [
       "                    ID      Pred  team_a  team_b     team_a_name  \\\n",
       "60919   2023_1376_1447  0.500000    1376    1447  South Carolina   \n",
       "60920   2023_1376_1448  0.500000    1376    1448  South Carolina   \n",
       "60921   2023_1376_1449  0.500000    1376    1449  South Carolina   \n",
       "60922   2023_1376_1450  0.500000    1376    1450  South Carolina   \n",
       "60923   2023_1376_1451  0.500000    1376    1451  South Carolina   \n",
       "60924   2023_1376_1452  0.500000    1376    1452  South Carolina   \n",
       "60925   2023_1376_1453  0.500000    1376    1453  South Carolina   \n",
       "60926   2023_1376_1454  0.500000    1376    1454  South Carolina   \n",
       "60927   2023_1376_1455  0.500000    1376    1455  South Carolina   \n",
       "60928   2023_1376_1456  0.500000    1376    1456  South Carolina   \n",
       "60929   2023_1376_1457  0.500000    1376    1457  South Carolina   \n",
       "60930   2023_1376_1458  0.500000    1376    1458  South Carolina   \n",
       "60931   2023_1376_1459  0.500000    1376    1459  South Carolina   \n",
       "60932   2023_1376_1460  0.500000    1376    1460  South Carolina   \n",
       "60933   2023_1376_1461  0.500000    1376    1461  South Carolina   \n",
       "60934   2023_1376_1462  0.500000    1376    1462  South Carolina   \n",
       "60935   2023_1376_1463  0.500000    1376    1463  South Carolina   \n",
       "60936   2023_1376_1464  0.500000    1376    1464  South Carolina   \n",
       "60937   2023_1376_1465  0.500000    1376    1465  South Carolina   \n",
       "60916   2023_1376_1442  0.500000    1376    1442  South Carolina   \n",
       "60915   2023_1376_1441  0.500000    1376    1441  South Carolina   \n",
       "60918   2023_1376_1444  0.500000    1376    1444  South Carolina   \n",
       "60914   2023_1376_1440  0.500000    1376    1440  South Carolina   \n",
       "60902   2023_1376_1427  0.500000    1376    1427  South Carolina   \n",
       "60903   2023_1376_1428  0.500000    1376    1428  South Carolina   \n",
       "60904   2023_1376_1429  0.500000    1376    1429  South Carolina   \n",
       "60905   2023_1376_1430  0.500000    1376    1430  South Carolina   \n",
       "60906   2023_1376_1431  0.500000    1376    1431  South Carolina   \n",
       "60907   2023_1376_1433  0.500000    1376    1433  South Carolina   \n",
       "60908   2023_1376_1434  0.500000    1376    1434  South Carolina   \n",
       "60909   2023_1376_1435  0.500000    1376    1435  South Carolina   \n",
       "60910   2023_1376_1436  0.500000    1376    1436  South Carolina   \n",
       "60911   2023_1376_1437  0.500000    1376    1437  South Carolina   \n",
       "126026  2023_3376_3477  0.500000    3376    3477  South Carolina   \n",
       "60912   2023_1376_1438  0.500000    1376    1438  South Carolina   \n",
       "60913   2023_1376_1439  0.500000    1376    1439  South Carolina   \n",
       "125934  2023_3376_3381  0.630968    3376    3381  South Carolina   \n",
       "125940  2023_3376_3387  0.630968    3376    3387  South Carolina   \n",
       "125931  2023_3376_3378  0.910911    3376    3378  South Carolina   \n",
       "125943  2023_3376_3390  0.924506    3376    3390  South Carolina   \n",
       "125970  2023_3376_3417  0.965004    3376    3417  South Carolina   \n",
       "125953  2023_3376_3400  0.968748    3376    3400  South Carolina   \n",
       "125938  2023_3376_3385  0.970649    3376    3385  South Carolina   \n",
       "125999  2023_3376_3450  0.972460    3376    3450  South Carolina   \n",
       "125978  2023_3376_3425  0.972460    3376    3425  South Carolina   \n",
       "125950  2023_3376_3397  0.972825    3376    3397  South Carolina   \n",
       "125958  2023_3376_3405  0.974797    3376    3405  South Carolina   \n",
       "126001  2023_3376_3452  0.975590    3376    3452  South Carolina   \n",
       "125981  2023_3376_3428  0.975643    3376    3428  South Carolina   \n",
       "125977  2023_3376_3424  0.977443    3376    3424  South Carolina   \n",
       "125989  2023_3376_3437  0.980852    3376    3437  South Carolina   \n",
       "125991  2023_3376_3439  0.981056    3376    3439  South Carolina   \n",
       "125988  2023_3376_3436  0.989249    3376    3436  South Carolina   \n",
       "125933  2023_3376_3380  0.991110    3376    3380  South Carolina   \n",
       "125952  2023_3376_3399  0.991110    3376    3399  South Carolina   \n",
       "\n",
       "            team_b_name  \n",
       "60919            Wagner  \n",
       "60920       Wake Forest  \n",
       "60921        Washington  \n",
       "60922     Washington St  \n",
       "60923          Weber St  \n",
       "60924     West Virginia  \n",
       "60925      WI Green Bay  \n",
       "60926      WI Milwaukee  \n",
       "60927        Wichita St  \n",
       "60928    William & Mary  \n",
       "60929          Winthrop  \n",
       "60930         Wisconsin  \n",
       "60931           Wofford  \n",
       "60932         Wright St  \n",
       "60933           Wyoming  \n",
       "60934            Xavier  \n",
       "60935              Yale  \n",
       "60936     Youngstown St  \n",
       "60937       Cal Baptist  \n",
       "60916        W Illinois  \n",
       "60915        W Carolina  \n",
       "60918        W Michigan  \n",
       "60914               VMI  \n",
       "60902    UT San Antonio  \n",
       "60903              Utah  \n",
       "60904           Utah St  \n",
       "60905       Utah Valley  \n",
       "60906              UTEP  \n",
       "60907               VCU  \n",
       "60908        Valparaiso  \n",
       "60909        Vanderbilt  \n",
       "60910           Vermont  \n",
       "60911         Villanova  \n",
       "126026  TX A&M Commerce  \n",
       "60912          Virginia  \n",
       "60913     Virginia Tech  \n",
       "125934    Southern Utah  \n",
       "125940         St Louis  \n",
       "125931    South Florida  \n",
       "125943         Stanford  \n",
       "125970             UCLA  \n",
       "125953            Texas  \n",
       "125938        St John's  \n",
       "125999    Washington St  \n",
       "125978              USC  \n",
       "125950        Tennessee  \n",
       "125958           Toledo  \n",
       "126001    West Virginia  \n",
       "125981             Utah  \n",
       "125977             UNLV  \n",
       "125989        Villanova  \n",
       "125991    Virginia Tech  \n",
       "125988          Vermont  \n",
       "125933    Southern Univ  \n",
       "125952   Tennessee Tech  "
      ]
     },
     "execution_count": 144,
     "metadata": {},
     "output_type": "execute_result"
    }
   ],
   "source": [
    "full_submission.query(\"team_a_name == 'South Carolina'\").sort_values(by='Pred').tail(55)"
   ]
  },
  {
   "cell_type": "code",
   "execution_count": 153,
   "id": "c02349b2",
   "metadata": {},
   "outputs": [],
   "source": [
    "results_so_far = r\"C:\\Users\\yaobv\\Downloads\\2023_03_26_20.18.36  scoring 116 games total.csv\"\n",
    "\n",
    "rsf_df = pd.read_csv(results_so_far)\n",
    "\n",
    "so_far = rsf_df[rsf_df['Usage'] == 'Public'].copy()"
   ]
  },
  {
   "cell_type": "code",
   "execution_count": 156,
   "id": "c149747e",
   "metadata": {},
   "outputs": [],
   "source": [
    "latest_sub_compare = full_submission[full_submission.index.isin(so_far.index)]"
   ]
  },
  {
   "cell_type": "code",
   "execution_count": 158,
   "id": "f9ee9039",
   "metadata": {},
   "outputs": [
    {
     "name": "stderr",
     "output_type": "stream",
     "text": [
      "C:\\Users\\yaobv\\AppData\\Local\\Temp\\ipykernel_17476\\1985151377.py:1: SettingWithCopyWarning: \n",
      "A value is trying to be set on a copy of a slice from a DataFrame.\n",
      "Try using .loc[row_indexer,col_indexer] = value instead\n",
      "\n",
      "See the caveats in the documentation: https://pandas.pydata.org/pandas-docs/stable/user_guide/indexing.html#returning-a-view-versus-a-copy\n",
      "  latest_sub_compare['result'] = so_far['Pred']\n"
     ]
    }
   ],
   "source": [
    "latest_sub_compare['result'] = so_far['Pred']"
   ]
  },
  {
   "cell_type": "code",
   "execution_count": 160,
   "id": "40551450",
   "metadata": {},
   "outputs": [
    {
     "data": {
      "text/plain": [
       "0.21049058399667497"
      ]
     },
     "execution_count": 160,
     "metadata": {},
     "output_type": "execute_result"
    }
   ],
   "source": [
    "brier_score_loss(latest_sub_compare['result'], latest_sub_compare['Pred'])"
   ]
  },
  {
   "cell_type": "code",
   "execution_count": 161,
   "id": "1f587dcf",
   "metadata": {},
   "outputs": [
    {
     "data": {
      "text/plain": [
       "1239      1\n",
       "1329      0\n",
       "1361      1\n",
       "3796      0\n",
       "4198      0\n",
       "         ..\n",
       "125931    1\n",
       "125970    1\n",
       "126951    0\n",
       "127764    1\n",
       "127797    0\n",
       "Name: result, Length: 116, dtype: int64"
      ]
     },
     "execution_count": 161,
     "metadata": {},
     "output_type": "execute_result"
    }
   ],
   "source": [
    "latest_sub_compare['result']"
   ]
  },
  {
   "cell_type": "code",
   "execution_count": null,
   "id": "9ea45acb",
   "metadata": {},
   "outputs": [],
   "source": []
  }
 ],
 "metadata": {
  "kernelspec": {
   "display_name": "Python 3 (ipykernel)",
   "language": "python",
   "name": "python3"
  },
  "language_info": {
   "codemirror_mode": {
    "name": "ipython",
    "version": 3
   },
   "file_extension": ".py",
   "mimetype": "text/x-python",
   "name": "python",
   "nbconvert_exporter": "python",
   "pygments_lexer": "ipython3",
   "version": "3.9.16"
  }
 },
 "nbformat": 4,
 "nbformat_minor": 5
}
