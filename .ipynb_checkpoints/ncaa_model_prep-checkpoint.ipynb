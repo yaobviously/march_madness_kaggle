{
 "cells": [
  {
   "cell_type": "code",
   "execution_count": 3,
   "id": "efc1de40",
   "metadata": {},
   "outputs": [],
   "source": [
    "import os\n",
    "import pandas as pd\n",
    "import numpy as np\n",
    "import seaborn as sns\n",
    "import matplotlib.pyplot as plt\n",
    "\n",
    "from sklearn.preprocessing import StandardScaler, RobustScaler\n",
    "from sklearn.linear_model import RidgeCV, LassoCV, LogisticRegression, HuberRegressor\n",
    "from sklearn.ensemble import (GradientBoostingRegressor, RandomForestRegressor,\n",
    "                              ExtraTreesRegressor, StackingRegressor)\n",
    "\n",
    "from sklearn.ensemble import HistGradientBoostingClassifier, GradientBoostingClassifier, GradientBoostingRegressor\n",
    "from sklearn.model_selection import train_test_split, GridSearchCV, TimeSeriesSplit\n",
    "from sklearn.metrics import (brier_score_loss, accuracy_score,\n",
    "                             log_loss, mean_squared_error, \n",
    "                             mean_absolute_error)\n",
    "from sklearn.calibration import calibration_curve, CalibrationDisplay, CalibratedClassifierCV\n",
    "\n",
    "from utils import get_season_pace, get_season_eff, GameElo, elo_predict, get_season_four_factors, NCAAElo"
   ]
  },
  {
   "cell_type": "code",
   "execution_count": 4,
   "id": "8c0f9981",
   "metadata": {},
   "outputs": [],
   "source": [
    "# the folders containing data files\n",
    "data_folder = './kaggle_data/'\n",
    "pom_folder = './kaggle_data/ken_pom_stats/'"
   ]
  },
  {
   "cell_type": "code",
   "execution_count": 50,
   "id": "2977068d",
   "metadata": {},
   "outputs": [],
   "source": [
    "mens_sp = pd.read_csv(f'{data_folder}MTeamSpellings.csv', encoding='latin-1')\n",
    "mens_teams = pd.read_csv(f'{data_folder}MTeams.csv')\n",
    "mens_reg = pd.read_csv(f'{data_folder}MRegularSeasonCompactResults.csv')\n",
    "mens_det = pd.read_csv(f'{data_folder}MRegularSeasonDetailedResults.csv')\n",
    "mens_seeds = pd.read_csv(f'{data_folder}MNCAATourneySeeds.csv')\n",
    "tourney_df = pd.read_csv(f'{data_folder}MNCAATourneyCompactResults.csv')\n",
    "sec_tourn_df = pd.read_csv(f'{data_folder}MSecondaryTourneyCompactResults.csv')\n",
    "pretourney_odds = pd.read_csv(f'{data_folder}ncaa_mens_odds.csv')\n",
    "this_yr_odds = pd.read_csv(f'{data_folder}this_yr_pretourney.csv')\n",
    "\n",
    "tourney_teams = list(set(pd.concat([tourney_df['WTeamID'], tourney_df['LTeamID']])))\n",
    "mens_team_dict = mens_teams.set_index('TeamID')['TeamName'].to_dict()"
   ]
  },
  {
   "cell_type": "code",
   "execution_count": 6,
   "id": "c5ed774b",
   "metadata": {},
   "outputs": [],
   "source": [
    "# computing ELO for every game from 1985 until the present. \n",
    "# this requires stacking and sorting all of the men's games\n",
    "\n",
    "elo_columns = ['Season', 'DayNum', 'WTeamID', 'LTeamID', 'WLoc']\n",
    "\n",
    "elo_games = (\n",
    "    pd.concat([mens_reg[elo_columns], tourney_df[elo_columns], sec_tourn_df[elo_columns]])\n",
    "    .sort_values(by=['Season', 'DayNum'], ascending=True)\n",
    "    .reset_index(drop=True)\n",
    ")\n",
    "\n",
    "# instantiating the ELO class\n",
    "all_games_elo = NCAAElo(elo_games).process_elo()\n",
    "\n",
    "elo_games['winner_elo_prob'] = all_games_elo.winner_probs\n",
    "elo_games['winner_elo'] = all_games_elo.winner_elo\n",
    "elo_games['loser_elo'] = all_games_elo.loser_elo"
   ]
  },
  {
   "cell_type": "code",
   "execution_count": 7,
   "id": "837e20ff",
   "metadata": {},
   "outputs": [],
   "source": [
    "# the difficulty is that we need the ELO *after* the last game of the season to\n",
    "# use as the ELO throughout the NCAA tournament. it's possible to do conditional\n",
    "# updates, but i haven't implemented it - cost/benefit seems low right now.\n",
    "# in any case, i use shift(-1) to get the nxt and create a dictionary with\n",
    "# that value for each team\n",
    "\n",
    "winners = (\n",
    "    elo_games[['Season', 'DayNum', 'WTeamID', 'winner_elo']]\n",
    "    .rename(columns={'WTeamID' : 'teamid', 'winner_elo' : 'team_elo'})\n",
    ")\n",
    "\n",
    "losers = (\n",
    "    elo_games[['Season', 'DayNum', 'LTeamID', 'loser_elo']]\n",
    "    .rename(columns={'LTeamID' : 'teamid', 'loser_elo' : 'team_elo'})\n",
    ")\n",
    "\n",
    "total_elo = (\n",
    "    pd.concat([winners, losers])\n",
    "    .sort_values(by=['Season', 'DayNum'])\n",
    ")\n",
    "\n",
    "total_elo['next_elo'] = total_elo.groupby('teamid')['team_elo'].transform(lambda x: x.shift(-1))\n",
    "\n",
    "team_elo_dict = total_elo.set_index(['Season', 'DayNum', 'teamid'])['next_elo'].to_dict()"
   ]
  },
  {
   "cell_type": "code",
   "execution_count": 10,
   "id": "cdbfe899",
   "metadata": {},
   "outputs": [],
   "source": [
    "# simple template for grabbing game by game *next game* elos\n",
    "win_ratings = []\n",
    "lose_ratings = []\n",
    "\n",
    "for s, dn, w, l in zip(mens_reg.Season, mens_reg.DayNum, mens_reg.WTeamID, mens_reg.LTeamID):\n",
    "    win_rating_ = team_elo_dict[(s, dn, w)]\n",
    "    lose_rating_ = team_elo_dict[(s, dn, l)]\n",
    "    \n",
    "    win_ratings.append(win_rating_)\n",
    "    lose_ratings.append(lose_rating_)\n",
    "\n",
    "\n",
    "    \n",
    "mens_reg['winner_elo_post_game'] = win_ratings\n",
    "mens_reg['loser_elo_post_game'] = lose_ratings"
   ]
  },
  {
   "cell_type": "code",
   "execution_count": 11,
   "id": "4f1da709",
   "metadata": {},
   "outputs": [],
   "source": [
    "# separating the winners and losers again in order to concat them\n",
    "# with compatible column names\n",
    "\n",
    "mens_reg_winners = (\n",
    "    mens_reg\n",
    "    .groupby(['Season', 'WTeamID'])[['DayNum', 'winner_elo_post_game']]\n",
    "    .last()\n",
    "    .reset_index()\n",
    "    .rename(columns={'WTeamID' : 'teamid', 'winner_elo_post_game' : 'elo_post_game'})\n",
    ")\n",
    "\n",
    "mens_reg_losers = (\n",
    "    mens_reg\n",
    "    .groupby(['Season', 'LTeamID'])[['DayNum', 'loser_elo_post_game']]\n",
    "    .last()\n",
    "    .reset_index()\n",
    "    .rename(columns={'LTeamID' : 'teamid', 'loser_elo_post_game' : 'elo_post_game'})\n",
    ")"
   ]
  },
  {
   "cell_type": "code",
   "execution_count": 12,
   "id": "79ca492f",
   "metadata": {},
   "outputs": [],
   "source": [
    "# getting the final ELO rating for each Season-Team in the dataset and\n",
    "# putting those ratings into a dictionary for easy access \n",
    "\n",
    "season_end_elo = (\n",
    "    pd.concat([mens_reg_winners, mens_reg_losers])\n",
    "    .sort_values(by=['Season', 'teamid', 'DayNum'])\n",
    ")\n",
    "\n",
    "season_end_elo_dict = (\n",
    "    season_end_elo\n",
    "    .groupby(['Season', 'teamid'])['elo_post_game']\n",
    "    .last()\n",
    "    .to_dict()\n",
    ")"
   ]
  },
  {
   "cell_type": "code",
   "execution_count": 13,
   "id": "32ac2d71",
   "metadata": {},
   "outputs": [],
   "source": [
    "# creating an alternate spelling dict and adding seeded teams\n",
    "mens_sp_dict = mens_sp.set_index('TeamNameSpelling')['TeamID'].to_dict()\n",
    "\n",
    "mens_sp_dict['ut rio grande valley'] = 1410\n",
    "mens_sp_dict['liu'] = 1254\n",
    "mens_sp_dict['illinois chicago'] = 1227\n",
    "mens_sp_dict['texas a&m corpus chris'] = 1394\n",
    "mens_sp_dict['louisiana lafayette'] = 1418\n",
    "mens_sp_dict['southeast missouri st.'] = 1369\n",
    "mens_sp_dict['southwest missouri st.'] = 1283\n",
    "mens_sp_dict['cal st. bakersfield'] = 1167\n",
    "mens_sp_dict['tennessee martin'] = 1404\n",
    "mens_sp_dict['louisiana monroe'] = 1419\n",
    "mens_sp_dict['arkansas little rock'] = 1114\n",
    "mens_sp_dict['st. francis ny'] = 1383\n",
    "mens_sp_dict['st. francis pa'] = 1384\n",
    "mens_sp_dict['mississippi valley st.'] = 1290\n",
    "mens_sp_dict['arkansas pine bluff'] = 1115"
   ]
  },
  {
   "cell_type": "code",
   "execution_count": 14,
   "id": "967a22e6",
   "metadata": {},
   "outputs": [],
   "source": [
    "mens_season_ff = get_season_four_factors(df=mens_det)"
   ]
  },
  {
   "cell_type": "code",
   "execution_count": 15,
   "id": "a57bee67",
   "metadata": {},
   "outputs": [],
   "source": [
    "mens_det['WPoss'] = mens_det['WFGA'] - mens_det['WOR'] + mens_det['WTO'] + (0.475 * mens_det['WFTA'])\n",
    "mens_det['LPoss'] = mens_det['LFGA'] - mens_det['LOR'] + mens_det['LTO'] + (0.475 * mens_det['LFTA'])\n",
    "mens_det['WPer100'] = (mens_det['WScore'] / mens_det['WPoss']) * 100\n",
    "mens_det['LPer100'] = (mens_det['LScore'] / mens_det['LPoss']) * 100"
   ]
  },
  {
   "cell_type": "code",
   "execution_count": 16,
   "id": "5044458a",
   "metadata": {},
   "outputs": [],
   "source": [
    "# since i'm computing offensive/defensive efficiency per 100 possesions\n",
    "# i do not need to exclude overtime games. if i were predicting \n",
    "# logodds, or pure team strength, i would. i tried raddar's solution\n",
    "# hence the mention, but since he included HCA i thought there has\n",
    "# to be a better way!\n",
    "\n",
    "# mens_det = mens_det.query(\"NumOT < 1\").copy()"
   ]
  },
  {
   "cell_type": "code",
   "execution_count": 17,
   "id": "7b0d19f0",
   "metadata": {},
   "outputs": [],
   "source": [
    "mens_season_eff_dict = {}\n",
    "\n",
    "for s in mens_det.Season.unique():\n",
    "    df_ = get_season_eff(season=s, df=mens_det, teams_dict=mens_team_dict)\n",
    "    mens_season_eff_dict[s] = df_"
   ]
  },
  {
   "cell_type": "code",
   "execution_count": 18,
   "id": "c0338ae2",
   "metadata": {},
   "outputs": [],
   "source": [
    "mens_season_pace_dict = {}\n",
    "\n",
    "for s in mens_det.Season.unique():\n",
    "    df_ = get_season_pace(season=s, df=mens_det)\n",
    "    mens_season_pace_dict[s] = df_"
   ]
  },
  {
   "cell_type": "code",
   "execution_count": 19,
   "id": "7de79f46",
   "metadata": {},
   "outputs": [],
   "source": [
    "# reformatting the pretourney odds from sportsoddshistory.com so the\n",
    "# implied probabilities can be added to the relevant dataframes\n",
    "\n",
    "pretourney_odds['small_team'] = pretourney_odds.team.str.lower()\n",
    "pretourney_odds['small_team'] = pretourney_odds['small_team'].str.strip()\n",
    "pretourney_odds['teamid'] = [mens_sp_dict[x] if x in mens_sp_dict else -99 for x in pretourney_odds.small_team]\n",
    "pretourney_odds['season'] = pretourney_odds['season'] + 1\n",
    "\n",
    "pretourney_odds['implied_probability'] = (\n",
    "    np.where(\n",
    "        ((pretourney_odds['season'] < 2022) & (pretourney_odds['odds_int'] == 0)),\n",
    "         0.0025,\n",
    "         pretourney_odds['implied_probability']\n",
    "    )\n",
    ")           \n",
    "\n",
    "pretourney_odds = pretourney_odds[['teamid', 'season', 'implied_probability']].copy()"
   ]
  },
  {
   "cell_type": "code",
   "execution_count": 51,
   "id": "6fbe0a26",
   "metadata": {},
   "outputs": [],
   "source": [
    "# doing the same as above to this year's probabilities \n",
    "\n",
    "this_yr_odds['small_team'] = this_yr_odds.team.str.lower()\n",
    "this_yr_odds['small_team'] = this_yr_odds['small_team'].str.strip()\n",
    "this_yr_odds['teamid'] = [mens_sp_dict[x] if x in mens_sp_dict else -99 for x in this_yr_odds.small_team]\n",
    "this_yr_odds['season'] = this_yr_odds['season'] + 1\n",
    "       \n",
    "# note i did not fill in nans with a negligible value because there aren't any\n",
    "# the NaNs appear later on and are filled in there (mens_submission)\n",
    "this_yr_odds = this_yr_odds[['teamid', 'season', 'implied_probability']].copy()"
   ]
  },
  {
   "cell_type": "code",
   "execution_count": 21,
   "id": "fb1c8db6",
   "metadata": {},
   "outputs": [
    {
     "name": "stdout",
     "output_type": "stream",
     "text": [
      "null teamid where seed >16: 0\n"
     ]
    }
   ],
   "source": [
    "# kpom's summary statistics for each season (2003-2023)\n",
    "\n",
    "pomdf = pd.DataFrame()\n",
    "\n",
    "for file in os.listdir(f'{pom_folder}'):\n",
    "    \n",
    "    if 'roster' not in file:\n",
    "        df_ = pd.read_csv(f'{pom_folder}{file}')\n",
    "        pomdf = pd.concat([pomdf, df_], axis=0)\n",
    "\n",
    "pomdf.reset_index(inplace=True, drop=True)\n",
    "pomdf.columns = pomdf.columns.str.lower()\n",
    "pomdf['teamname'] = pomdf['teamname'].str.lower().str.strip()\n",
    "pomdf['teamid'] = pomdf['teamname'].map(mens_sp_dict)\n",
    "\n",
    "pomdf = pomdf[pomdf['teamid'].isin(tourney_teams)].copy()\n",
    "\n",
    "print('null teamid where seed >16:', pomdf[pomdf['seed'] >= 16]['teamid'].isnull().sum())"
   ]
  },
  {
   "cell_type": "code",
   "execution_count": 22,
   "id": "397d2c60",
   "metadata": {},
   "outputs": [],
   "source": [
    "# adding my estimates of pace, oeff, and deff (ridge regression on each season)\n",
    "# to the pomdf dataframe \n",
    "\n",
    "my_paces = []\n",
    "\n",
    "for x, y in zip(pomdf.season, pomdf.teamid):\n",
    "    \n",
    "    try:\n",
    "        value = mens_season_pace_dict[x].loc[y]['pace']\n",
    "        my_paces.append(value)\n",
    "    except:\n",
    "        my_paces.append(-99)\n",
    "        \n",
    "my_off_eff = []\n",
    "\n",
    "for x, y in zip(pomdf.season, pomdf.teamid):\n",
    "    \n",
    "    try:\n",
    "        value_ = mens_season_eff_dict[x].loc[y]['coef']\n",
    "        my_off_eff.append(value_)\n",
    "    except:\n",
    "        my_off_eff.append(-99)\n",
    "        \n",
    "my_def_eff = []\n",
    "\n",
    "for x, y in zip(pomdf.season, pomdf.teamid):\n",
    "    \n",
    "    try:\n",
    "        value_ = mens_season_eff_dict[x].loc[y]['coef_def']\n",
    "        my_def_eff.append(value_)\n",
    "    except:\n",
    "        my_def_eff.append(-99)"
   ]
  },
  {
   "cell_type": "code",
   "execution_count": 23,
   "id": "bc2a4238",
   "metadata": {},
   "outputs": [],
   "source": [
    "pomdf['my_pace'] = np.array(my_paces).round(1)\n",
    "pomdf['my_off'] = np.array(my_off_eff)\n",
    "pomdf['my_def'] = np.array(my_def_eff)\n",
    "pomdf['my_total'] = pomdf['my_off'] + (-1 * pomdf['my_def'])"
   ]
  },
  {
   "cell_type": "code",
   "execution_count": 24,
   "id": "e0a741fa",
   "metadata": {},
   "outputs": [],
   "source": [
    "team_filter = (mens_det['WTeamID'].isin(tourney_teams)) & (mens_det['LTeamID'].isin(tourney_teams))\n",
    "\n",
    "mens_det = mens_det[team_filter].copy()"
   ]
  },
  {
   "cell_type": "code",
   "execution_count": 25,
   "id": "793d3058",
   "metadata": {},
   "outputs": [],
   "source": [
    "# reorganizing tourney data\n",
    "\n",
    "team_pairs = tourney_df[['WTeamID', 'LTeamID']].values\n",
    "idx = np.random.randint(0, team_pairs.shape[1], team_pairs.shape[0])\n",
    "\n",
    "tourney_df['team_one'] = [x[0] for x in np.take_along_axis(team_pairs, idx[:, None], 1)]\n",
    "tourney_df['team_two'] = (\n",
    "    np.where(tourney_df['team_one'] == tourney_df['WTeamID'],\n",
    "             tourney_df['LTeamID'],\n",
    "             tourney_df['WTeamID']\n",
    "            )\n",
    ")\n",
    "\n",
    "tourney_df['team_one_score'] = (\n",
    "    np.where(tourney_df['team_one'] == tourney_df['WTeamID'],\n",
    "             tourney_df['WScore'],\n",
    "             tourney_df['LScore']\n",
    "            )\n",
    ")\n",
    "\n",
    "tourney_df['team_two_score'] = (\n",
    "    np.where(tourney_df['team_two'] == tourney_df['WTeamID'],\n",
    "             tourney_df['WScore'],\n",
    "             tourney_df['LScore']\n",
    "            )\n",
    ")\n",
    "\n",
    "\n",
    "tourney_df['score_diff'] = tourney_df['team_one_score'].sub(tourney_df['team_two_score'])\n",
    "tourney_df['team_one_win'] = (\n",
    "    np.where(tourney_df['team_one_score'] > tourney_df['team_two_score'],\n",
    "             1,\n",
    "             0)\n",
    ")\n",
    "\n",
    "tourney_df = (\n",
    "    tourney_df\n",
    "    .merge(pomdf,\n",
    "           how='left',\n",
    "           left_on=['Season', 'team_one'],\n",
    "           right_on=['season', 'teamid'],)\n",
    "    .drop(columns=['teamid'])\n",
    ")\n",
    "\n",
    "tourney_df.columns = ['team_one_' + x if x in pomdf.columns else x for x in tourney_df.columns]\n",
    "\n",
    "\n",
    "m_tourney_df = (\n",
    "    tourney_df\n",
    "    .merge(pomdf,\n",
    "           how='left',\n",
    "           left_on=['Season', 'team_two'],\n",
    "           right_on=['season', 'teamid'])\n",
    "    .drop(columns=['teamid'])\n",
    ")\n",
    "\n",
    "m_tourney_df.columns = ['team_two_' + x if x in pomdf.columns else x for x in m_tourney_df.columns]\n",
    "\n",
    "m_tourney_df['team_one_win'] = (\n",
    "    np.where(m_tourney_df['team_one_score'] > m_tourney_df['team_two_score'],\n",
    "             1,\n",
    "             0)\n",
    ")"
   ]
  },
  {
   "cell_type": "code",
   "execution_count": 26,
   "id": "97ef960c",
   "metadata": {},
   "outputs": [],
   "source": [
    "# selecting a column w/efficiency stats to use to drop the others\n",
    "m_tourney_df.dropna(subset=['team_two_my_off'], inplace=True)"
   ]
  },
  {
   "cell_type": "code",
   "execution_count": 27,
   "id": "b722e43c",
   "metadata": {},
   "outputs": [],
   "source": [
    "m_tourney_df = (\n",
    "    m_tourney_df\n",
    "    .merge(pretourney_odds,\n",
    "           how='left',\n",
    "           left_on=['Season', 'team_one'],\n",
    "           right_on=['season', 'teamid'])\n",
    "    .drop(columns=['season', 'teamid'])\n",
    "    .rename(columns={'implied_probability' : 'team_one_implied_proba'})\n",
    ")"
   ]
  },
  {
   "cell_type": "code",
   "execution_count": 28,
   "id": "0357f76e",
   "metadata": {},
   "outputs": [],
   "source": [
    "m_tourney_df = (\n",
    "    m_tourney_df\n",
    "    .merge(pretourney_odds,\n",
    "           how='left',\n",
    "           left_on=['Season', 'team_two'],\n",
    "           right_on=['season', 'teamid'])\n",
    "    .drop(columns=['season', 'teamid'])\n",
    "    .rename(columns={'implied_probability' : 'team_two_implied_proba'})\n",
    ")"
   ]
  },
  {
   "cell_type": "code",
   "execution_count": 29,
   "id": "720eed6b",
   "metadata": {},
   "outputs": [],
   "source": [
    "t1_ratings = []\n",
    "t2_ratings = []\n",
    "grand_elo_pred = []\n",
    "\n",
    "for s, t1, t2 in zip(m_tourney_df['Season'], m_tourney_df['team_one'], m_tourney_df['team_two']):\n",
    "    t1_elo = season_end_elo_dict[(s, t1)]\n",
    "    t2_elo = season_end_elo_dict[(s, t2)]\n",
    "    \n",
    "    elo_pred_ = elo_predict(t1_elo, t2_elo)\n",
    "    \n",
    "    t1_ratings.append(t1_elo)\n",
    "    t2_ratings.append(t2_elo)\n",
    "    grand_elo_pred.append(elo_pred_)\n",
    "    \n",
    "m_tourney_df['t1_grand_elo'] = t1_ratings\n",
    "m_tourney_df['t2_grand_elo'] = t2_ratings\n",
    "m_tourney_df['grand_elo_pred'] = grand_elo_pred"
   ]
  },
  {
   "cell_type": "code",
   "execution_count": 30,
   "id": "acd1f91a",
   "metadata": {},
   "outputs": [],
   "source": [
    "m_tourney_df[['team_one_implied_proba', 'team_two_implied_proba']] =(\n",
    "    m_tourney_df[['team_one_implied_proba', 'team_two_implied_proba']].fillna(0.0025)\n",
    ")"
   ]
  },
  {
   "cell_type": "code",
   "execution_count": 31,
   "id": "18905eba",
   "metadata": {},
   "outputs": [],
   "source": [
    "linear_model = ['team_one_adjem','team_one_rankadjem', 'team_two_adjem', \n",
    "              'team_two_rankadjem', 'team_one_my_total', 'team_two_my_total',\n",
    "               'team_one_seed', 'team_two_seed', 'grand_elo_pred']"
   ]
  },
  {
   "cell_type": "code",
   "execution_count": 35,
   "id": "3070b557",
   "metadata": {},
   "outputs": [
    {
     "name": "stdout",
     "output_type": "stream",
     "text": [
      "lasso MAE: 8.769091351615465\n",
      "ridge MAE: 8.787945647017313\n",
      "gbm MAE: 8.882676943174886\n"
     ]
    }
   ],
   "source": [
    "reg_target = 'score_diff'\n",
    "\n",
    "ridge_model = RidgeCV(alphas=[100, 500, 700], cv=10)\n",
    "lasso_model = LassoCV(alphas=[0.1, 0.2, 0.5, 1], cv=10)\n",
    "gbm_model = GradientBoostingRegressor(loss='absolute_error')\n",
    "                              \n",
    "X = m_tourney_df[linear_model]\n",
    "y = m_tourney_df[reg_target]\n",
    "\n",
    "X_train, X_test, y_train, y_test = train_test_split(X, y, test_size=0.2)\n",
    "\n",
    "\n",
    "gbm_model.fit(X_train, y_train)\n",
    "ridge_model.fit(X_train, y_train)\n",
    "lasso_model.fit(X_train, y_train)\n",
    "\n",
    "\n",
    "print('lasso MAE:', mean_absolute_error(y_test, lasso_model.predict(X_test)))\n",
    "print('ridge MAE:', mean_absolute_error(y_test, ridge_model.predict(X_test)))\n",
    "print('gbm MAE:', mean_absolute_error(y_test, gbm_model.predict(X_test)))"
   ]
  },
  {
   "cell_type": "code",
   "execution_count": 103,
   "id": "bba613b6",
   "metadata": {},
   "outputs": [
    {
     "data": {
      "text/plain": [
       "<Axes: ylabel='score_diff'>"
      ]
     },
     "execution_count": 103,
     "metadata": {},
     "output_type": "execute_result"
    },
    {
     "data": {
      "image/png": "[encoded data removed]",
      "text/plain": [
       "<Figure size 640x480 with 1 Axes>"
      ]
     },
     "metadata": {},
     "output_type": "display_data"
    }
   ],
   "source": [
    "sns.residplot(x=ridge_model.predict(X), y=y)"
   ]
  },
  {
   "cell_type": "code",
   "execution_count": 36,
   "id": "a22fc917",
   "metadata": {},
   "outputs": [
    {
     "data": {
      "text/html": [
       "<style>#sk-container-id-1 {color: black;background-color: white;}#sk-container-id-1 pre{padding: 0;}#sk-container-id-1 div.sk-toggleable {background-color: white;}#sk-container-id-1 label.sk-toggleable__label {cursor: pointer;display: block;width: 100%;margin-bottom: 0;padding: 0.3em;box-sizing: border-box;text-align: center;}#sk-container-id-1 label.sk-toggleable__label-arrow:before {content: \"▸\";float: left;margin-right: 0.25em;color: #696969;}#sk-container-id-1 label.sk-toggleable__label-arrow:hover:before {color: black;}#sk-container-id-1 div.sk-estimator:hover label.sk-toggleable__label-arrow:before {color: black;}#sk-container-id-1 div.sk-toggleable__content {max-height: 0;max-width: 0;overflow: hidden;text-align: left;background-color: #f0f8ff;}#sk-container-id-1 div.sk-toggleable__content pre {margin: 0.2em;color: black;border-radius: 0.25em;background-color: #f0f8ff;}#sk-container-id-1 input.sk-toggleable__control:checked~div.sk-toggleable__content {max-height: 200px;max-width: 100%;overflow: auto;}#sk-container-id-1 input.sk-toggleable__control:checked~label.sk-toggleable__label-arrow:before {content: \"▾\";}#sk-container-id-1 div.sk-estimator input.sk-toggleable__control:checked~label.sk-toggleable__label {background-color: #d4ebff;}#sk-container-id-1 div.sk-label input.sk-toggleable__control:checked~label.sk-toggleable__label {background-color: #d4ebff;}#sk-container-id-1 input.sk-hidden--visually {border: 0;clip: rect(1px 1px 1px 1px);clip: rect(1px, 1px, 1px, 1px);height: 1px;margin: -1px;overflow: hidden;padding: 0;position: absolute;width: 1px;}#sk-container-id-1 div.sk-estimator {font-family: monospace;background-color: #f0f8ff;border: 1px dotted black;border-radius: 0.25em;box-sizing: border-box;margin-bottom: 0.5em;}#sk-container-id-1 div.sk-estimator:hover {background-color: #d4ebff;}#sk-container-id-1 div.sk-parallel-item::after {content: \"\";width: 100%;border-bottom: 1px solid gray;flex-grow: 1;}#sk-container-id-1 div.sk-label:hover label.sk-toggleable__label {background-color: #d4ebff;}#sk-container-id-1 div.sk-serial::before {content: \"\";position: absolute;border-left: 1px solid gray;box-sizing: border-box;top: 0;bottom: 0;left: 50%;z-index: 0;}#sk-container-id-1 div.sk-serial {display: flex;flex-direction: column;align-items: center;background-color: white;padding-right: 0.2em;padding-left: 0.2em;position: relative;}#sk-container-id-1 div.sk-item {position: relative;z-index: 1;}#sk-container-id-1 div.sk-parallel {display: flex;align-items: stretch;justify-content: center;background-color: white;position: relative;}#sk-container-id-1 div.sk-item::before, #sk-container-id-1 div.sk-parallel-item::before {content: \"\";position: absolute;border-left: 1px solid gray;box-sizing: border-box;top: 0;bottom: 0;left: 50%;z-index: -1;}#sk-container-id-1 div.sk-parallel-item {display: flex;flex-direction: column;z-index: 1;position: relative;background-color: white;}#sk-container-id-1 div.sk-parallel-item:first-child::after {align-self: flex-end;width: 50%;}#sk-container-id-1 div.sk-parallel-item:last-child::after {align-self: flex-start;width: 50%;}#sk-container-id-1 div.sk-parallel-item:only-child::after {width: 0;}#sk-container-id-1 div.sk-dashed-wrapped {border: 1px dashed gray;margin: 0 0.4em 0.5em 0.4em;box-sizing: border-box;padding-bottom: 0.4em;background-color: white;}#sk-container-id-1 div.sk-label label {font-family: monospace;font-weight: bold;display: inline-block;line-height: 1.2em;}#sk-container-id-1 div.sk-label-container {text-align: center;}#sk-container-id-1 div.sk-container {/* jupyter's `normalize.less` sets `[hidden] { display: none; }` but bootstrap.min.css set `[hidden] { display: none !important; }` so we also need the `!important` here to be able to override the default hidden behavior on the sphinx rendered scikit-learn.org. See: https://github.com/scikit-learn/scikit-learn/issues/21755 */display: inline-block !important;position: relative;}#sk-container-id-1 div.sk-text-repr-fallback {display: none;}</style><div id=\"sk-container-id-1\" class=\"sk-top-container\"><div class=\"sk-text-repr-fallback\"><pre>RidgeCV(alphas=[100, 500, 700], cv=10)</pre><b>In a Jupyter environment, please rerun this cell to show the HTML representation or trust the notebook. <br />On GitHub, the HTML representation is unable to render, please try loading this page with nbviewer.org.</b></div><div class=\"sk-container\" hidden><div class=\"sk-item\"><div class=\"sk-estimator sk-toggleable\"><input class=\"sk-toggleable__control sk-hidden--visually\" id=\"sk-estimator-id-1\" type=\"checkbox\" checked><label for=\"sk-estimator-id-1\" class=\"sk-toggleable__label sk-toggleable__label-arrow\">RidgeCV</label><div class=\"sk-toggleable__content\"><pre>RidgeCV(alphas=[100, 500, 700], cv=10)</pre></div></div></div></div></div>"
      ],
      "text/plain": [
       "RidgeCV(alphas=[100, 500, 700], cv=10)"
      ]
     },
     "execution_count": 36,
     "metadata": {},
     "output_type": "execute_result"
    }
   ],
   "source": [
    "ridge_model.fit(X, y)"
   ]
  },
  {
   "cell_type": "code",
   "execution_count": 37,
   "id": "2822db7a",
   "metadata": {},
   "outputs": [],
   "source": [
    "model_cols = ['team_one_rankadjtempo','team_one_adjoe',\n",
    "              'team_one_implied_proba', 'team_two_adjoe','team_two_adjde',\n",
    "              'team_two_implied_proba', 'pred_diff', 'grand_elo_pred']\n",
    "\n",
    "target = 'team_one_win'"
   ]
  },
  {
   "cell_type": "code",
   "execution_count": 38,
   "id": "f11bb5e6",
   "metadata": {},
   "outputs": [],
   "source": [
    "# identifying rank columns and converting them to categories\n",
    "# the goal was to take advantage of native cat handling\n",
    "rank_cols = [x for x in tourney_df.columns if 'rank' in x]\n",
    "m_tourney_df[rank_cols] = m_tourney_df[rank_cols].astype('category')\n",
    "\n",
    "# predicting the game spread to use as an input to the win probability\n",
    "# model\n",
    "m_tourney_df['pred_diff'] = ridge_model.predict(m_tourney_df[linear_model])\n",
    "model_cols.extend(['pred_diff'])"
   ]
  },
  {
   "cell_type": "code",
   "execution_count": 39,
   "id": "bf3c5a6c",
   "metadata": {},
   "outputs": [
    {
     "name": "stdout",
     "output_type": "stream",
     "text": [
      "gbm log loss: 0.5346743668484419\n",
      "gridsearch loss: -0.5525967409394816\n"
     ]
    }
   ],
   "source": [
    "gbm_cl_model = GradientBoostingClassifier(random_state=35,\n",
    "                                          max_depth=3,\n",
    "                                          n_estimators=45,\n",
    "                                          min_samples_leaf=40,\n",
    "                                          n_iter_no_change=5)\n",
    "\n",
    "X = m_tourney_df[model_cols].copy()\n",
    "y = m_tourney_df[target].values\n",
    "\n",
    "X_train, X_test, y_train, y_test = train_test_split(X, y, test_size=0.2, random_state=94)\n",
    "\n",
    "gbm_cl_model.fit(X_train, y_train)\n",
    "\n",
    "params = {\n",
    "    'max_depth' : [2, 3],\n",
    "    'n_estimators' : [40, 45],\n",
    "    'min_samples_leaf' : [25, 28, 31, 40, 50]\n",
    "}\n",
    "\n",
    "gridsearch_model = GridSearchCV(estimator=gbm_cl_model, cv=15, param_grid=params, scoring='neg_log_loss')\n",
    "gridsearch_model.fit(X, y)\n",
    "\n",
    "print(\"gbm log loss:\", log_loss(y_test, gbm_cl_model.predict_proba(X_test)[:,1]))\n",
    "print(\"gridsearch loss:\", gridsearch_model.best_score_)"
   ]
  },
  {
   "cell_type": "code",
   "execution_count": null,
   "id": "c7cf9cf5",
   "metadata": {},
   "outputs": [],
   "source": []
  },
  {
   "cell_type": "code",
   "execution_count": 44,
   "id": "da24b93c",
   "metadata": {},
   "outputs": [
    {
     "name": "stdout",
     "output_type": "stream",
     "text": [
      "calibrated log loss: 0.5286863397232794\n",
      "calibrated brier loss: 0.1758805298804781\n"
     ]
    }
   ],
   "source": [
    "# creating a calibrated classifier\n",
    "cal_model = CalibratedClassifierCV(estimator=gbm_cl_model, cv=12)\n",
    "cal_model.fit(X_train, y_train)\n",
    "\n",
    "print(\"calibrated log loss:\", log_loss(y_test, cal_model.predict_proba(X_test)[:,1]))\n",
    "print(\"calibrated brier loss:\", brier_score_loss(y_test, cal_model.predict_proba(X_test).round(3)[:,1]))"
   ]
  },
  {
   "cell_type": "code",
   "execution_count": 42,
   "id": "10227ee6",
   "metadata": {},
   "outputs": [
    {
     "data": {
      "text/plain": [
       "<sklearn.calibration.CalibrationDisplay at 0x21200909070>"
      ]
     },
     "execution_count": 42,
     "metadata": {},
     "output_type": "execute_result"
    },
    {
     "data": {
      "image/png": "[encoded data removed]",
      "text/plain": [
       "<Figure size 640x480 with 1 Axes>"
      ]
     },
     "metadata": {},
     "output_type": "display_data"
    }
   ],
   "source": [
    "y_probs = cal_model.predict_proba(X_test).round(3)[:,1]\n",
    "\n",
    "prob_true, prob_pred = calibration_curve(y_test, y_probs, n_bins=22)\n",
    "\n",
    "disp = CalibrationDisplay(prob_true, prob_pred, y_probs)\n",
    "\n",
    "disp.plot()"
   ]
  },
  {
   "cell_type": "code",
   "execution_count": 45,
   "id": "3fe5ce2d",
   "metadata": {},
   "outputs": [
    {
     "data": {
      "text/html": [
       "<style>#sk-container-id-2 {color: black;background-color: white;}#sk-container-id-2 pre{padding: 0;}#sk-container-id-2 div.sk-toggleable {background-color: white;}#sk-container-id-2 label.sk-toggleable__label {cursor: pointer;display: block;width: 100%;margin-bottom: 0;padding: 0.3em;box-sizing: border-box;text-align: center;}#sk-container-id-2 label.sk-toggleable__label-arrow:before {content: \"▸\";float: left;margin-right: 0.25em;color: #696969;}#sk-container-id-2 label.sk-toggleable__label-arrow:hover:before {color: black;}#sk-container-id-2 div.sk-estimator:hover label.sk-toggleable__label-arrow:before {color: black;}#sk-container-id-2 div.sk-toggleable__content {max-height: 0;max-width: 0;overflow: hidden;text-align: left;background-color: #f0f8ff;}#sk-container-id-2 div.sk-toggleable__content pre {margin: 0.2em;color: black;border-radius: 0.25em;background-color: #f0f8ff;}#sk-container-id-2 input.sk-toggleable__control:checked~div.sk-toggleable__content {max-height: 200px;max-width: 100%;overflow: auto;}#sk-container-id-2 input.sk-toggleable__control:checked~label.sk-toggleable__label-arrow:before {content: \"▾\";}#sk-container-id-2 div.sk-estimator input.sk-toggleable__control:checked~label.sk-toggleable__label {background-color: #d4ebff;}#sk-container-id-2 div.sk-label input.sk-toggleable__control:checked~label.sk-toggleable__label {background-color: #d4ebff;}#sk-container-id-2 input.sk-hidden--visually {border: 0;clip: rect(1px 1px 1px 1px);clip: rect(1px, 1px, 1px, 1px);height: 1px;margin: -1px;overflow: hidden;padding: 0;position: absolute;width: 1px;}#sk-container-id-2 div.sk-estimator {font-family: monospace;background-color: #f0f8ff;border: 1px dotted black;border-radius: 0.25em;box-sizing: border-box;margin-bottom: 0.5em;}#sk-container-id-2 div.sk-estimator:hover {background-color: #d4ebff;}#sk-container-id-2 div.sk-parallel-item::after {content: \"\";width: 100%;border-bottom: 1px solid gray;flex-grow: 1;}#sk-container-id-2 div.sk-label:hover label.sk-toggleable__label {background-color: #d4ebff;}#sk-container-id-2 div.sk-serial::before {content: \"\";position: absolute;border-left: 1px solid gray;box-sizing: border-box;top: 0;bottom: 0;left: 50%;z-index: 0;}#sk-container-id-2 div.sk-serial {display: flex;flex-direction: column;align-items: center;background-color: white;padding-right: 0.2em;padding-left: 0.2em;position: relative;}#sk-container-id-2 div.sk-item {position: relative;z-index: 1;}#sk-container-id-2 div.sk-parallel {display: flex;align-items: stretch;justify-content: center;background-color: white;position: relative;}#sk-container-id-2 div.sk-item::before, #sk-container-id-2 div.sk-parallel-item::before {content: \"\";position: absolute;border-left: 1px solid gray;box-sizing: border-box;top: 0;bottom: 0;left: 50%;z-index: -1;}#sk-container-id-2 div.sk-parallel-item {display: flex;flex-direction: column;z-index: 1;position: relative;background-color: white;}#sk-container-id-2 div.sk-parallel-item:first-child::after {align-self: flex-end;width: 50%;}#sk-container-id-2 div.sk-parallel-item:last-child::after {align-self: flex-start;width: 50%;}#sk-container-id-2 div.sk-parallel-item:only-child::after {width: 0;}#sk-container-id-2 div.sk-dashed-wrapped {border: 1px dashed gray;margin: 0 0.4em 0.5em 0.4em;box-sizing: border-box;padding-bottom: 0.4em;background-color: white;}#sk-container-id-2 div.sk-label label {font-family: monospace;font-weight: bold;display: inline-block;line-height: 1.2em;}#sk-container-id-2 div.sk-label-container {text-align: center;}#sk-container-id-2 div.sk-container {/* jupyter's `normalize.less` sets `[hidden] { display: none; }` but bootstrap.min.css set `[hidden] { display: none !important; }` so we also need the `!important` here to be able to override the default hidden behavior on the sphinx rendered scikit-learn.org. See: https://github.com/scikit-learn/scikit-learn/issues/21755 */display: inline-block !important;position: relative;}#sk-container-id-2 div.sk-text-repr-fallback {display: none;}</style><div id=\"sk-container-id-2\" class=\"sk-top-container\"><div class=\"sk-text-repr-fallback\"><pre>CalibratedClassifierCV(cv=12,\n",
       "                       estimator=GradientBoostingClassifier(min_samples_leaf=40,\n",
       "                                                            n_estimators=45,\n",
       "                                                            n_iter_no_change=5,\n",
       "                                                            random_state=35))</pre><b>In a Jupyter environment, please rerun this cell to show the HTML representation or trust the notebook. <br />On GitHub, the HTML representation is unable to render, please try loading this page with nbviewer.org.</b></div><div class=\"sk-container\" hidden><div class=\"sk-item sk-dashed-wrapped\"><div class=\"sk-label-container\"><div class=\"sk-label sk-toggleable\"><input class=\"sk-toggleable__control sk-hidden--visually\" id=\"sk-estimator-id-2\" type=\"checkbox\" ><label for=\"sk-estimator-id-2\" class=\"sk-toggleable__label sk-toggleable__label-arrow\">CalibratedClassifierCV</label><div class=\"sk-toggleable__content\"><pre>CalibratedClassifierCV(cv=12,\n",
       "                       estimator=GradientBoostingClassifier(min_samples_leaf=40,\n",
       "                                                            n_estimators=45,\n",
       "                                                            n_iter_no_change=5,\n",
       "                                                            random_state=35))</pre></div></div></div><div class=\"sk-parallel\"><div class=\"sk-parallel-item\"><div class=\"sk-item\"><div class=\"sk-label-container\"><div class=\"sk-label sk-toggleable\"><input class=\"sk-toggleable__control sk-hidden--visually\" id=\"sk-estimator-id-3\" type=\"checkbox\" ><label for=\"sk-estimator-id-3\" class=\"sk-toggleable__label sk-toggleable__label-arrow\">estimator: GradientBoostingClassifier</label><div class=\"sk-toggleable__content\"><pre>GradientBoostingClassifier(min_samples_leaf=40, n_estimators=45,\n",
       "                           n_iter_no_change=5, random_state=35)</pre></div></div></div><div class=\"sk-serial\"><div class=\"sk-item\"><div class=\"sk-estimator sk-toggleable\"><input class=\"sk-toggleable__control sk-hidden--visually\" id=\"sk-estimator-id-4\" type=\"checkbox\" ><label for=\"sk-estimator-id-4\" class=\"sk-toggleable__label sk-toggleable__label-arrow\">GradientBoostingClassifier</label><div class=\"sk-toggleable__content\"><pre>GradientBoostingClassifier(min_samples_leaf=40, n_estimators=45,\n",
       "                           n_iter_no_change=5, random_state=35)</pre></div></div></div></div></div></div></div></div></div></div>"
      ],
      "text/plain": [
       "CalibratedClassifierCV(cv=12,\n",
       "                       estimator=GradientBoostingClassifier(min_samples_leaf=40,\n",
       "                                                            n_estimators=45,\n",
       "                                                            n_iter_no_change=5,\n",
       "                                                            random_state=35))"
      ]
     },
     "execution_count": 45,
     "metadata": {},
     "output_type": "execute_result"
    }
   ],
   "source": [
    "# fitting the chosen model on the entire dataset \n",
    "\n",
    "cal_model.fit(X, y)"
   ]
  },
  {
   "cell_type": "code",
   "execution_count": 46,
   "id": "b1559c54",
   "metadata": {},
   "outputs": [],
   "source": [
    "X_test['preds'] = cal_model.predict_proba(X_test).round(3)[:,1]\n",
    "X_test['result'] = y_test"
   ]
  },
  {
   "cell_type": "code",
   "execution_count": 116,
   "id": "9c5d84ee",
   "metadata": {},
   "outputs": [],
   "source": [
    "# from sklearn.inspection import permutation_importance\n",
    "\n",
    "# pi = permutation_importance(gbm_cl_model, X_test[model_cols], y_test, scoring=['neg_log_loss', 'neg_brier_score'], n_repeats=8)\n",
    "\n",
    "# useful_features = []\n",
    "\n",
    "# for f, i in zip(model_cols, pi['neg_log_loss']['importances_mean']):\n",
    "#     if i.round(3) >= 0.001:\n",
    "#         useful_features.append(f)\n",
    "#     print(f, i.round(3))"
   ]
  },
  {
   "cell_type": "code",
   "execution_count": 52,
   "id": "cbbef821",
   "metadata": {},
   "outputs": [],
   "source": [
    "mens_submission = pd.read_csv(f'{data_folder}SampleSubmission2023.csv')\n",
    "\n",
    "mens_submission['team_one'] = [int(x[5:9]) for x in mens_submission.ID]\n",
    "mens_submission['team_two'] = [int(x[10:15]) for x in mens_submission.ID]\n",
    "mens_submission['season'] = 2023\n",
    "\n",
    "# creating a dict of this year's seeds\n",
    "mens_seeds = mens_seeds.query(\"Season == 2023\").copy()\n",
    "mens_seeds['Seed'] = [int(x[1:3]) for x in mens_seeds['Seed']]\n",
    "\n",
    "mens_seeds_dict = mens_seeds.set_index('TeamID')['Seed'].to_dict()\n",
    "\n",
    "# limiting the pool to this year's teams\n",
    "condition = ((mens_submission['team_one'].isin(mens_seeds_dict.keys())) & \n",
    "             (mens_submission['team_two'].isin(mens_seeds_dict.keys()))\n",
    "            )\n",
    "\n",
    "mens_submission = mens_submission[condition].copy()\n",
    "\n",
    "# getting Elo predictions\n",
    "\n",
    "grand_elo_sub_preds = []\n",
    "\n",
    "for t1, t2 in zip(mens_submission['team_one'], mens_submission['team_two']):\n",
    "\n",
    "        proba_ = elo_predict(season_end_elo_dict[(2023, t1)], season_end_elo_dict[(2023, t2)])\n",
    "        grand_elo_sub_preds.append(proba_)\n",
    "        \n",
    "mens_submission['grand_elo_pred'] = grand_elo_sub_preds\n",
    "\n",
    "# getting seeds\n",
    "\n",
    "mens_submission['team_one_seed'] = [mens_seeds_dict[team] for team in mens_submission['team_one']]\n",
    "mens_submission['team_two_seed'] = [mens_seeds_dict[team] for team in mens_submission['team_two']]"
   ]
  },
  {
   "cell_type": "code",
   "execution_count": 53,
   "id": "432c3896",
   "metadata": {},
   "outputs": [],
   "source": [
    "# creating a dictionary of teamid -> implied probs. note that if a team does not appear\n",
    "# i assign a negligible probability. teams without vegas odds won't be contenders\n",
    "\n",
    "thisyr_oddsdict = this_yr_odds.set_index('teamid')['implied_probability'].to_dict()\n",
    "\n",
    "mens_submission['team_one_implied_proba'] = (\n",
    "    [thisyr_oddsdict[x] if x in thisyr_oddsdict else 0.0025 for x in mens_submission['team_one']]\n",
    ")\n",
    "\n",
    "mens_submission['team_two_implied_proba'] = (\n",
    "    [thisyr_oddsdict[x] if x in thisyr_oddsdict else 0.0025 for x in mens_submission['team_two']]\n",
    ")"
   ]
  },
  {
   "cell_type": "code",
   "execution_count": 54,
   "id": "74a72b73",
   "metadata": {},
   "outputs": [],
   "source": [
    "# lists of columns from ken pom's df and my own stats that were used\n",
    "# to train the model\n",
    "\n",
    "pom_cols = ['season', 'teamid', 'ranktempo', 'adjtempo', 'rankadjtempo', 'rankoe', \n",
    "            'adjoe', 'adjde', 'rankadjde', 'adjem', 'rankadjem', 'adjtempo',\n",
    "            'rankadjtempo', 'rankadjoe']\n",
    "\n",
    "my_cols = ['team_one_my_total', 'team_two_my_total']"
   ]
  },
  {
   "cell_type": "code",
   "execution_count": 55,
   "id": "83658dbc",
   "metadata": {},
   "outputs": [],
   "source": [
    "# limiting the pom_cols to non-duplicates because i made an error earlier\n",
    "\n",
    "pom_cols = list(set(pom_cols))\n",
    "pom_model_df = pomdf[pom_cols].copy()\n",
    "\n",
    "mens_submission = (\n",
    "    mens_submission\n",
    "    .merge(pom_model_df,\n",
    "           how='left',\n",
    "           left_on=['season', 'team_one'],\n",
    "           right_on=['season', 'teamid'],)\n",
    "    .drop(columns=['teamid'])\n",
    ")\n",
    "\n",
    "mens_submission.columns = ['team_one_' + x if x in pom_model_df.columns else x for x in mens_submission.columns]\n",
    "mens_submission.rename(columns={'team_one_season' : 'season'}, inplace=True)\n",
    "\n",
    "mens_submission = (\n",
    "    mens_submission\n",
    "    .merge(pom_model_df,\n",
    "           how='left',\n",
    "           left_on=['season', 'team_two'],\n",
    "           right_on=['season', 'teamid'])\n",
    "    .drop(columns=['teamid'])\n",
    ")\n",
    "\n",
    "mens_submission.columns = ['team_two_' + x if x in pom_model_df.columns else x for x in mens_submission.columns]\n",
    "mens_submission.rename(columns={'team_two_season' : 'season'}, inplace=True)"
   ]
  },
  {
   "cell_type": "code",
   "execution_count": 56,
   "id": "53ba2770",
   "metadata": {},
   "outputs": [],
   "source": [
    "my_season_stats = mens_season_eff_dict[2023].reset_index()\n",
    "my_season_stats['my_total'] = my_season_stats['coef'] + (-1 * my_season_stats['coef_def'])\n",
    "my_season_stats.drop(columns=['coef', 'coef_def'], inplace=True)"
   ]
  },
  {
   "cell_type": "code",
   "execution_count": 57,
   "id": "69996114",
   "metadata": {},
   "outputs": [],
   "source": [
    "mens_submission = (\n",
    "    mens_submission\n",
    "    .merge(my_season_stats,\n",
    "           how='left',\n",
    "           left_on=['season', 'team_one'],\n",
    "           right_on=['season', 'teamid'])\n",
    "    .drop(columns=['teamid'])\n",
    ")\n",
    "\n",
    "mens_submission.columns = ['team_one_' + x if x in my_season_stats.columns else x for x in mens_submission.columns]\n",
    "mens_submission.rename(columns={'team_one_season' : 'season'}, inplace=True)\n",
    "\n",
    "mens_submission = (\n",
    "    mens_submission\n",
    "    .merge(my_season_stats,\n",
    "           how='left',\n",
    "           left_on=['season', 'team_two'],\n",
    "           right_on=['season', 'teamid'])\n",
    "    .drop(columns=['teamid'])\n",
    ")\n",
    "\n",
    "mens_submission.columns = ['team_two_' + x if x in my_season_stats.columns else x for x in mens_submission.columns]\n",
    "mens_submission.rename(columns={'team_two_season' : 'season'}, inplace=True)"
   ]
  },
  {
   "cell_type": "code",
   "execution_count": 58,
   "id": "d4336360",
   "metadata": {},
   "outputs": [
    {
     "name": "stderr",
     "output_type": "stream",
     "text": [
      "C:\\Users\\yaobv\\AppData\\Local\\Temp\\ipykernel_15312\\1700174904.py:8: FutureWarning: The default value of numeric_only in DataFrame.quantile is deprecated. In a future version, it will default to False. Select only valid columns or specify the value of numeric_only to silence this warning.\n",
      "  non_ranked_quan_vals = mens_submission[not_ranked_cols].quantile(0.2)\n"
     ]
    }
   ],
   "source": [
    "# filling in nan values using column quantiles. in the rank columns \n",
    "# i use 0.8, and in the numeric columns 0.2\n",
    "\n",
    "ranked_cols = [x for x in mens_submission.columns if 'rank' in x]\n",
    "not_ranked_cols = [x for x in mens_submission.columns if x not in ranked_cols]\n",
    "\n",
    "quan_vals = mens_submission[ranked_cols].quantile(0.8)\n",
    "non_ranked_quan_vals = mens_submission[not_ranked_cols].quantile(0.2)\n",
    "\n",
    "mens_submission[ranked_cols] = mens_submission[ranked_cols].fillna(quan_vals)\n",
    "mens_submission[not_ranked_cols] = mens_submission[not_ranked_cols].fillna(non_ranked_quan_vals)"
   ]
  },
  {
   "cell_type": "code",
   "execution_count": 73,
   "id": "09b14e6a",
   "metadata": {},
   "outputs": [],
   "source": [
    "mens_submission['pred_diff'] = ridge_model.predict(mens_submission[linear_model])\n",
    "mens_submission['model_pred'] = gbm_cl_model.predict_proba(mens_submission[model_cols])[:,1]\n",
    "\n",
    "mens_submission['Pred'] = mens_submission['model_pred']"
   ]
  },
  {
   "cell_type": "code",
   "execution_count": 78,
   "id": "ab9d304e",
   "metadata": {},
   "outputs": [
    {
     "data": {
      "text/plain": [
       "<Axes: >"
      ]
     },
     "execution_count": 78,
     "metadata": {},
     "output_type": "execute_result"
    },
    {
     "data": {
      "image/png": "[encoded data removed]",
      "text/plain": [
       "<Figure size 640x480 with 1 Axes>"
      ]
     },
     "metadata": {},
     "output_type": "display_data"
    }
   ],
   "source": [
    "mens_submission['Pred'].hist(bins=25)"
   ]
  },
  {
   "cell_type": "code",
   "execution_count": 115,
   "id": "df4e50f5",
   "metadata": {},
   "outputs": [],
   "source": [
    "womens_teams = pd.read_csv(f'{data_folder}WTeams.csv')\n",
    "womens_conf = pd.read_csv(f'{data_folder}WTeamConferences.csv')\n",
    "womens_reg = pd.read_csv(f'{data_folder}WRegularSeasonCompactResults.csv')\n",
    "womens_det = pd.read_csv(f'{data_folder}WRegularSeasonDetailedResults.csv')\n",
    "womens_seeds = pd.read_csv(f'{data_folder}WNCAATourneySeeds.csv')\n",
    "womens_tourn = pd.read_csv(f'{data_folder}WNCAATourneyCompactResults.csv')\n",
    "\n",
    "# creating a dictionary of womens team ids to be used later\n",
    "womens_tourn_teams = list(set(pd.concat([womens_tourn['WTeamID'], womens_tourn['LTeamID']])))\n",
    "womens_team_dict = womens_teams.set_index('TeamID')['TeamName'].to_dict()"
   ]
  },
  {
   "cell_type": "code",
   "execution_count": 87,
   "id": "64927c9c",
   "metadata": {},
   "outputs": [],
   "source": [
    "# computing ELO for every game from 1985 until the present. \n",
    "# this requires stacking and sorting all of the women's games\n",
    "\n",
    "elo_columns = ['Season', 'DayNum', 'WTeamID', 'LTeamID', 'WLoc']\n",
    "\n",
    "Welo_games = (\n",
    "    pd.concat([womens_reg[elo_columns], womens_tourn[elo_columns]])\n",
    "    .sort_values(by=['Season', 'DayNum'], ascending=True)\n",
    "    .reset_index(drop=True)\n",
    ")\n",
    "\n",
    "# instantiating the ELO class\n",
    "Wall_games_elo = NCAAElo(Welo_games).process_elo()\n",
    "\n",
    "Welo_games['winner_elo_prob'] = Wall_games_elo.winner_probs\n",
    "Welo_games['winner_elo'] = Wall_games_elo.winner_elo\n",
    "Welo_games['loser_elo'] = Wall_games_elo.loser_elo"
   ]
  },
  {
   "cell_type": "code",
   "execution_count": 90,
   "id": "ef3e6e79",
   "metadata": {},
   "outputs": [],
   "source": [
    "# the difficulty is that we need the ELO *after* the last game of the season to\n",
    "# use as the ELO throughout the NCAA tournament. it's possible to do conditional\n",
    "# updates, but i haven't implemented it - cost/benefit seems low right now.\n",
    "# in any case, i use shift(-1) to get the nxt and create a dictionary with\n",
    "# that value for each team\n",
    "\n",
    "winners = (\n",
    "    Welo_games[['Season', 'DayNum', 'WTeamID', 'winner_elo']]\n",
    "    .rename(columns={'WTeamID' : 'teamid', 'winner_elo' : 'team_elo'})\n",
    ")\n",
    "\n",
    "losers = (\n",
    "    Welo_games[['Season', 'DayNum', 'LTeamID', 'loser_elo']]\n",
    "    .rename(columns={'LTeamID' : 'teamid', 'loser_elo' : 'team_elo'})\n",
    ")\n",
    "\n",
    "Wtotal_elo = (\n",
    "    pd.concat([winners, losers])\n",
    "    .sort_values(by=['Season', 'DayNum'])\n",
    ")\n",
    "\n",
    "Wtotal_elo['next_elo'] = total_elo.groupby('teamid')['team_elo'].transform(lambda x: x.shift(-1))\n",
    "\n",
    "Wteam_elo_dict = Wtotal_elo.set_index(['Season', 'DayNum', 'teamid'])['next_elo'].to_dict()"
   ]
  },
  {
   "cell_type": "code",
   "execution_count": 92,
   "id": "1d402628",
   "metadata": {},
   "outputs": [],
   "source": [
    "# simple template for grabbing game by game *next game* elos\n",
    "Wwin_ratings = []\n",
    "Wlose_ratings = []\n",
    "\n",
    "for s, dn, w, l in zip(womens_reg.Season, womens_reg.DayNum, womens_reg.WTeamID, womens_reg.LTeamID):\n",
    "    win_rating_ = Wteam_elo_dict[(s, dn, w)]\n",
    "    lose_rating_ = Wteam_elo_dict[(s, dn, l)]\n",
    "    \n",
    "    Wwin_ratings.append(win_rating_)\n",
    "    Wlose_ratings.append(lose_rating_)\n",
    "\n",
    "womens_reg['winner_elo_post_game'] = Wwin_ratings\n",
    "womens_reg['loser_elo_post_game'] = Wlose_ratings"
   ]
  },
  {
   "cell_type": "code",
   "execution_count": 93,
   "id": "d7671606",
   "metadata": {},
   "outputs": [],
   "source": [
    "# separating the winners and losers again in order to concat them\n",
    "# with compatible column names\n",
    "\n",
    "womens_reg_winners = (\n",
    "    womens_reg\n",
    "    .groupby(['Season', 'WTeamID'])[['DayNum', 'winner_elo_post_game']]\n",
    "    .last()\n",
    "    .reset_index()\n",
    "    .rename(columns={'WTeamID' : 'teamid', 'winner_elo_post_game' : 'elo_post_game'})\n",
    ")\n",
    "\n",
    "womens_reg_losers = (\n",
    "    womens_reg\n",
    "    .groupby(['Season', 'LTeamID'])[['DayNum', 'loser_elo_post_game']]\n",
    "    .last()\n",
    "    .reset_index()\n",
    "    .rename(columns={'LTeamID' : 'teamid', 'loser_elo_post_game' : 'elo_post_game'})\n",
    ")"
   ]
  },
  {
   "cell_type": "code",
   "execution_count": 94,
   "id": "07f78898",
   "metadata": {},
   "outputs": [],
   "source": [
    "# getting the final ELO rating for each Season-Team in the dataset and\n",
    "# putting those ratings into a dictionary for easy access \n",
    "\n",
    "Wseason_end_elo = (\n",
    "    pd.concat([womens_reg_winners, womens_reg_losers])\n",
    "    .sort_values(by=['Season', 'teamid', 'DayNum'])\n",
    ")\n",
    "\n",
    "Wseason_end_elo_dict = (\n",
    "    Wseason_end_elo\n",
    "    .groupby(['Season', 'teamid'])['elo_post_game']\n",
    "    .last()\n",
    "    .to_dict()\n",
    ")"
   ]
  },
  {
   "cell_type": "code",
   "execution_count": 75,
   "id": "0aaa2853",
   "metadata": {},
   "outputs": [],
   "source": [
    "womens_season_ff = get_season_four_factors(df=womens_det)"
   ]
  },
  {
   "cell_type": "markdown",
   "id": "b328225d",
   "metadata": {},
   "source": [
    "Possessions = FGA-OR+TO+.475*FTA"
   ]
  },
  {
   "cell_type": "code",
   "execution_count": 95,
   "id": "a85b0612",
   "metadata": {},
   "outputs": [],
   "source": [
    "womens_det['WPoss'] = womens_det['WFGA'] - womens_det['WOR'] + womens_det['WTO'] + (0.475 * womens_det['WFTA'])\n",
    "womens_det['LPoss'] = womens_det['LFGA'] - womens_det['LOR'] + womens_det['LTO'] + (0.475 * womens_det['LFTA'])\n",
    "womens_det['WPer100'] = (womens_det['WScore'] / womens_det['WPoss']) * 100\n",
    "womens_det['LPer100'] = (womens_det['LScore'] / womens_det['LPoss']) * 100"
   ]
  },
  {
   "cell_type": "code",
   "execution_count": 78,
   "id": "982c8618",
   "metadata": {},
   "outputs": [],
   "source": [
    "# # filtering out overtime games to build season-team level models\n",
    "# womens_det = womens_det[womens_det['NumOT'] == 0].copy()"
   ]
  },
  {
   "cell_type": "code",
   "execution_count": 96,
   "id": "aa278d31",
   "metadata": {},
   "outputs": [],
   "source": [
    "womens_team_filter = ((womens_det['WTeamID'].isin(womens_tourn_teams) & \n",
    "                       (womens_det['LTeamID'].isin(womens_tourn_teams)))\n",
    "                     )\n",
    "\n",
    "womens_det = womens_det[womens_team_filter].copy()"
   ]
  },
  {
   "cell_type": "code",
   "execution_count": 97,
   "id": "567a2978",
   "metadata": {},
   "outputs": [],
   "source": [
    "womens_reg_filter = (\n",
    "    ((womens_reg['WTeamID'].isin(womens_tourn_teams)) & (womens_reg['LTeamID'].isin(womens_tourn_teams)))\n",
    ")\n",
    "\n",
    "womens_reg_filtered = womens_reg[womens_reg_filter].copy()\n",
    "womens_reg_filtered.reset_index(inplace=True, drop=True)"
   ]
  },
  {
   "cell_type": "code",
   "execution_count": 98,
   "id": "5aceb703",
   "metadata": {},
   "outputs": [],
   "source": [
    "womens_season_eff_dict = {}\n",
    "\n",
    "for s in womens_det.Season.unique():\n",
    "    df_ = get_season_eff(season=s, df=womens_det, teams_dict=womens_team_dict)\n",
    "    df_['off_eff_rank'] = df_['coef'].rank(ascending=False)\n",
    "    df_['def_eff_rank'] = df_['coef_def'].rank(ascending=False)\n",
    "    df_['my_total'] = df_['coef'] + (-1 * df_['coef_def'])\n",
    "    womens_season_eff_dict[s] = df_"
   ]
  },
  {
   "cell_type": "code",
   "execution_count": 99,
   "id": "29b038e5",
   "metadata": {},
   "outputs": [],
   "source": [
    "womens_season_pace_dict = {}\n",
    "\n",
    "for s in womens_det.Season.unique():\n",
    "    df_ = get_season_pace(season=s, df=womens_det)\n",
    "    df_['pace_rank'] = df_['pace'].rank(ascending=False)\n",
    "    womens_season_pace_dict[s] = df_"
   ]
  },
  {
   "cell_type": "code",
   "execution_count": 116,
   "id": "1d51411c",
   "metadata": {},
   "outputs": [],
   "source": [
    "# reorganizing womens tourney data\n",
    "\n",
    "team_pairs = womens_tourn[['WTeamID', 'LTeamID']].values\n",
    "idx = np.random.randint(0, team_pairs.shape[1], team_pairs.shape[0])\n",
    "\n",
    "womens_tourn['team_one'] = [x[0] for x in np.take_along_axis(team_pairs, idx[:, None], 1)]\n",
    "womens_tourn['team_two'] = (\n",
    "    np.where(womens_tourn['team_one'] == womens_tourn['WTeamID'],\n",
    "             womens_tourn['LTeamID'],\n",
    "             womens_tourn['WTeamID']\n",
    "            )\n",
    ")\n",
    "\n",
    "womens_tourn['team_one_score'] = (\n",
    "    np.where(womens_tourn['team_one'] == womens_tourn['WTeamID'],\n",
    "             womens_tourn['WScore'],\n",
    "             womens_tourn['LScore']\n",
    "            )\n",
    ")\n",
    "\n",
    "womens_tourn['team_two_score'] = (\n",
    "    np.where(womens_tourn['team_two'] == womens_tourn['WTeamID'],\n",
    "             womens_tourn['WScore'],\n",
    "             womens_tourn['LScore']\n",
    "            )\n",
    ")\n",
    "\n",
    "\n",
    "womens_tourn['score_diff'] = womens_tourn['team_one_score'].sub(womens_tourn['team_two_score'])\n",
    "womens_tourn['team_one_win'] = (\n",
    "    np.where(womens_tourn['team_one_score'] > womens_tourn['team_two_score'],\n",
    "             1,\n",
    "             0)\n",
    ")"
   ]
  },
  {
   "cell_type": "code",
   "execution_count": 118,
   "id": "c7829d23",
   "metadata": {},
   "outputs": [],
   "source": [
    "t1_ratings = []\n",
    "t2_ratings = []\n",
    "grand_elo_pred = []\n",
    "\n",
    "for s, t1, t2 in zip(womens_tourn['Season'], womens_tourn['team_one'], womens_tourn['team_two']):\n",
    "    t1_elo = Wseason_end_elo_dict[(s, t1)]\n",
    "    t2_elo = Wseason_end_elo_dict[(s, t2)]\n",
    "    \n",
    "    elo_pred_ = elo_predict(t1_elo, t2_elo)\n",
    "    \n",
    "    t1_ratings.append(t1_elo)\n",
    "    t2_ratings.append(t2_elo)\n",
    "    grand_elo_pred.append(elo_pred_)\n",
    "    \n",
    "womens_tourn['t1_grand_elo'] = t1_ratings\n",
    "womens_tourn['t2_grand_elo'] = t2_ratings\n",
    "womens_tourn['grand_elo_pred'] = grand_elo_pred"
   ]
  },
  {
   "cell_type": "code",
   "execution_count": 119,
   "id": "2f06e9c1",
   "metadata": {},
   "outputs": [
    {
     "data": {
      "text/html": [
       "<div>\n",
       "<style scoped>\n",
       "    .dataframe tbody tr th:only-of-type {\n",
       "        vertical-align: middle;\n",
       "    }\n",
       "\n",
       "    .dataframe tbody tr th {\n",
       "        vertical-align: top;\n",
       "    }\n",
       "\n",
       "    .dataframe thead th {\n",
       "        text-align: right;\n",
       "    }\n",
       "</style>\n",
       "<table border=\"1\" class=\"dataframe\">\n",
       "  <thead>\n",
       "    <tr style=\"text-align: right;\">\n",
       "      <th></th>\n",
       "      <th>Season</th>\n",
       "      <th>DayNum</th>\n",
       "      <th>WTeamID</th>\n",
       "      <th>WScore</th>\n",
       "      <th>LTeamID</th>\n",
       "      <th>LScore</th>\n",
       "      <th>WLoc</th>\n",
       "      <th>NumOT</th>\n",
       "      <th>team_one</th>\n",
       "      <th>team_two</th>\n",
       "      <th>team_one_score</th>\n",
       "      <th>team_two_score</th>\n",
       "      <th>score_diff</th>\n",
       "      <th>team_one_win</th>\n",
       "      <th>t1_grand_elo</th>\n",
       "      <th>t2_grand_elo</th>\n",
       "      <th>grand_elo_pred</th>\n",
       "    </tr>\n",
       "  </thead>\n",
       "  <tbody>\n",
       "    <tr>\n",
       "      <th>0</th>\n",
       "      <td>1998</td>\n",
       "      <td>137</td>\n",
       "      <td>3104</td>\n",
       "      <td>94</td>\n",
       "      <td>3422</td>\n",
       "      <td>46</td>\n",
       "      <td>H</td>\n",
       "      <td>0</td>\n",
       "      <td>3422</td>\n",
       "      <td>3104</td>\n",
       "      <td>46</td>\n",
       "      <td>94</td>\n",
       "      <td>-48</td>\n",
       "      <td>0</td>\n",
       "      <td>1661.233675</td>\n",
       "      <td>1764.559639</td>\n",
       "      <td>0.355536</td>\n",
       "    </tr>\n",
       "    <tr>\n",
       "      <th>1</th>\n",
       "      <td>1998</td>\n",
       "      <td>137</td>\n",
       "      <td>3112</td>\n",
       "      <td>75</td>\n",
       "      <td>3365</td>\n",
       "      <td>63</td>\n",
       "      <td>H</td>\n",
       "      <td>0</td>\n",
       "      <td>3112</td>\n",
       "      <td>3365</td>\n",
       "      <td>75</td>\n",
       "      <td>63</td>\n",
       "      <td>12</td>\n",
       "      <td>1</td>\n",
       "      <td>1714.012061</td>\n",
       "      <td>1677.111051</td>\n",
       "      <td>0.552906</td>\n",
       "    </tr>\n",
       "    <tr>\n",
       "      <th>2</th>\n",
       "      <td>1998</td>\n",
       "      <td>137</td>\n",
       "      <td>3163</td>\n",
       "      <td>93</td>\n",
       "      <td>3193</td>\n",
       "      <td>52</td>\n",
       "      <td>H</td>\n",
       "      <td>0</td>\n",
       "      <td>3193</td>\n",
       "      <td>3163</td>\n",
       "      <td>52</td>\n",
       "      <td>93</td>\n",
       "      <td>-41</td>\n",
       "      <td>0</td>\n",
       "      <td>1667.115348</td>\n",
       "      <td>1843.319724</td>\n",
       "      <td>0.266136</td>\n",
       "    </tr>\n",
       "    <tr>\n",
       "      <th>3</th>\n",
       "      <td>1998</td>\n",
       "      <td>137</td>\n",
       "      <td>3198</td>\n",
       "      <td>59</td>\n",
       "      <td>3266</td>\n",
       "      <td>45</td>\n",
       "      <td>H</td>\n",
       "      <td>0</td>\n",
       "      <td>3266</td>\n",
       "      <td>3198</td>\n",
       "      <td>45</td>\n",
       "      <td>59</td>\n",
       "      <td>-14</td>\n",
       "      <td>0</td>\n",
       "      <td>1654.009697</td>\n",
       "      <td>1815.153905</td>\n",
       "      <td>0.283408</td>\n",
       "    </tr>\n",
       "    <tr>\n",
       "      <th>4</th>\n",
       "      <td>1998</td>\n",
       "      <td>137</td>\n",
       "      <td>3203</td>\n",
       "      <td>74</td>\n",
       "      <td>3208</td>\n",
       "      <td>72</td>\n",
       "      <td>A</td>\n",
       "      <td>0</td>\n",
       "      <td>3203</td>\n",
       "      <td>3208</td>\n",
       "      <td>74</td>\n",
       "      <td>72</td>\n",
       "      <td>2</td>\n",
       "      <td>1</td>\n",
       "      <td>1617.471156</td>\n",
       "      <td>1630.820638</td>\n",
       "      <td>0.480798</td>\n",
       "    </tr>\n",
       "    <tr>\n",
       "      <th>...</th>\n",
       "      <td>...</td>\n",
       "      <td>...</td>\n",
       "      <td>...</td>\n",
       "      <td>...</td>\n",
       "      <td>...</td>\n",
       "      <td>...</td>\n",
       "      <td>...</td>\n",
       "      <td>...</td>\n",
       "      <td>...</td>\n",
       "      <td>...</td>\n",
       "      <td>...</td>\n",
       "      <td>...</td>\n",
       "      <td>...</td>\n",
       "      <td>...</td>\n",
       "      <td>...</td>\n",
       "      <td>...</td>\n",
       "      <td>...</td>\n",
       "    </tr>\n",
       "    <tr>\n",
       "      <th>1511</th>\n",
       "      <td>2022</td>\n",
       "      <td>147</td>\n",
       "      <td>3163</td>\n",
       "      <td>91</td>\n",
       "      <td>3301</td>\n",
       "      <td>87</td>\n",
       "      <td>N</td>\n",
       "      <td>2</td>\n",
       "      <td>3301</td>\n",
       "      <td>3163</td>\n",
       "      <td>87</td>\n",
       "      <td>91</td>\n",
       "      <td>-4</td>\n",
       "      <td>0</td>\n",
       "      <td>2134.977880</td>\n",
       "      <td>2094.384349</td>\n",
       "      <td>0.558154</td>\n",
       "    </tr>\n",
       "    <tr>\n",
       "      <th>1512</th>\n",
       "      <td>2022</td>\n",
       "      <td>147</td>\n",
       "      <td>3257</td>\n",
       "      <td>62</td>\n",
       "      <td>3276</td>\n",
       "      <td>50</td>\n",
       "      <td>N</td>\n",
       "      <td>0</td>\n",
       "      <td>3276</td>\n",
       "      <td>3257</td>\n",
       "      <td>50</td>\n",
       "      <td>62</td>\n",
       "      <td>-12</td>\n",
       "      <td>0</td>\n",
       "      <td>1932.339001</td>\n",
       "      <td>2056.996633</td>\n",
       "      <td>0.327925</td>\n",
       "    </tr>\n",
       "    <tr>\n",
       "      <th>1513</th>\n",
       "      <td>2022</td>\n",
       "      <td>151</td>\n",
       "      <td>3163</td>\n",
       "      <td>63</td>\n",
       "      <td>3390</td>\n",
       "      <td>58</td>\n",
       "      <td>N</td>\n",
       "      <td>0</td>\n",
       "      <td>3390</td>\n",
       "      <td>3163</td>\n",
       "      <td>58</td>\n",
       "      <td>63</td>\n",
       "      <td>-5</td>\n",
       "      <td>0</td>\n",
       "      <td>2222.080807</td>\n",
       "      <td>2094.384349</td>\n",
       "      <td>0.675919</td>\n",
       "    </tr>\n",
       "    <tr>\n",
       "      <th>1514</th>\n",
       "      <td>2022</td>\n",
       "      <td>151</td>\n",
       "      <td>3376</td>\n",
       "      <td>72</td>\n",
       "      <td>3257</td>\n",
       "      <td>59</td>\n",
       "      <td>N</td>\n",
       "      <td>0</td>\n",
       "      <td>3376</td>\n",
       "      <td>3257</td>\n",
       "      <td>72</td>\n",
       "      <td>59</td>\n",
       "      <td>13</td>\n",
       "      <td>1</td>\n",
       "      <td>2179.315671</td>\n",
       "      <td>2056.996633</td>\n",
       "      <td>0.669102</td>\n",
       "    </tr>\n",
       "    <tr>\n",
       "      <th>1515</th>\n",
       "      <td>2022</td>\n",
       "      <td>153</td>\n",
       "      <td>3376</td>\n",
       "      <td>64</td>\n",
       "      <td>3163</td>\n",
       "      <td>49</td>\n",
       "      <td>N</td>\n",
       "      <td>0</td>\n",
       "      <td>3163</td>\n",
       "      <td>3376</td>\n",
       "      <td>49</td>\n",
       "      <td>64</td>\n",
       "      <td>-15</td>\n",
       "      <td>0</td>\n",
       "      <td>2094.384349</td>\n",
       "      <td>2179.315671</td>\n",
       "      <td>0.380152</td>\n",
       "    </tr>\n",
       "  </tbody>\n",
       "</table>\n",
       "<p>1516 rows × 17 columns</p>\n",
       "</div>"
      ],
      "text/plain": [
       "      Season  DayNum  WTeamID  WScore  LTeamID  LScore WLoc  NumOT  team_one  \\\n",
       "0       1998     137     3104      94     3422      46    H      0      3422   \n",
       "1       1998     137     3112      75     3365      63    H      0      3112   \n",
       "2       1998     137     3163      93     3193      52    H      0      3193   \n",
       "3       1998     137     3198      59     3266      45    H      0      3266   \n",
       "4       1998     137     3203      74     3208      72    A      0      3203   \n",
       "...      ...     ...      ...     ...      ...     ...  ...    ...       ...   \n",
       "1511    2022     147     3163      91     3301      87    N      2      3301   \n",
       "1512    2022     147     3257      62     3276      50    N      0      3276   \n",
       "1513    2022     151     3163      63     3390      58    N      0      3390   \n",
       "1514    2022     151     3376      72     3257      59    N      0      3376   \n",
       "1515    2022     153     3376      64     3163      49    N      0      3163   \n",
       "\n",
       "      team_two  team_one_score  team_two_score  score_diff  team_one_win  \\\n",
       "0         3104              46              94         -48             0   \n",
       "1         3365              75              63          12             1   \n",
       "2         3163              52              93         -41             0   \n",
       "3         3198              45              59         -14             0   \n",
       "4         3208              74              72           2             1   \n",
       "...        ...             ...             ...         ...           ...   \n",
       "1511      3163              87              91          -4             0   \n",
       "1512      3257              50              62         -12             0   \n",
       "1513      3163              58              63          -5             0   \n",
       "1514      3257              72              59          13             1   \n",
       "1515      3376              49              64         -15             0   \n",
       "\n",
       "      t1_grand_elo  t2_grand_elo  grand_elo_pred  \n",
       "0      1661.233675   1764.559639        0.355536  \n",
       "1      1714.012061   1677.111051        0.552906  \n",
       "2      1667.115348   1843.319724        0.266136  \n",
       "3      1654.009697   1815.153905        0.283408  \n",
       "4      1617.471156   1630.820638        0.480798  \n",
       "...            ...           ...             ...  \n",
       "1511   2134.977880   2094.384349        0.558154  \n",
       "1512   1932.339001   2056.996633        0.327925  \n",
       "1513   2222.080807   2094.384349        0.675919  \n",
       "1514   2179.315671   2056.996633        0.669102  \n",
       "1515   2094.384349   2179.315671        0.380152  \n",
       "\n",
       "[1516 rows x 17 columns]"
      ]
     },
     "execution_count": 119,
     "metadata": {},
     "output_type": "execute_result"
    }
   ],
   "source": [
    "womens_tourn"
   ]
  },
  {
   "cell_type": "code",
   "execution_count": 120,
   "id": "b0c9c6dd",
   "metadata": {},
   "outputs": [],
   "source": [
    "\n",
    "team_1_paces = []    \n",
    "team_2_paces = []\n",
    "\n",
    "team_1_totals = []\n",
    "team_2_totals = []\n",
    "\n",
    "for s, o, t in zip(womens_tourn['Season'], womens_tourn['team_one'], womens_tourn['team_two']):\n",
    "\n",
    "    try:\n",
    "        team_1_pace = womens_season_pace_dict[s].loc[o]['pace']    \n",
    "        team_2_pace = womens_season_pace_dict[s].loc[t]['pace']           \n",
    "\n",
    "        team_1_my_total = womens_season_eff_dict[s].loc[o]['my_total']\n",
    "        team_2_my_total = womens_season_eff_dict[s].loc[t]['my_total']\n",
    "\n",
    "        team_1_paces.append(team_1_pace)         \n",
    "        team_2_paces.append(team_2_pace)\n",
    "\n",
    "        team_1_totals.append(team_1_my_total)\n",
    "        team_2_totals.append(team_2_my_total)\n",
    "\n",
    "    except:\n",
    "        team_1_paces.append(np.nan)            \n",
    "        team_2_paces.append(np.nan)            \n",
    "        team_1_totals.append(np.nan)\n",
    "        team_2_totals.append(np.nan)"
   ]
  },
  {
   "cell_type": "code",
   "execution_count": 121,
   "id": "81b8022a",
   "metadata": {},
   "outputs": [],
   "source": [
    "womens_tourn['team_one_pace'] = team_1_paces\n",
    "womens_tourn['team_one_my_total'] = team_1_totals\n",
    "\n",
    "womens_tourn['team_two_pace'] = team_2_paces\n",
    "womens_tourn['team_two_my_total'] = team_2_totals"
   ]
  },
  {
   "cell_type": "code",
   "execution_count": 123,
   "id": "9c113c23",
   "metadata": {},
   "outputs": [],
   "source": [
    "womens_tourn.dropna(subset=['team_one_my_total'], inplace=True)"
   ]
  },
  {
   "cell_type": "code",
   "execution_count": 127,
   "id": "bc1be5a0",
   "metadata": {},
   "outputs": [
    {
     "name": "stdout",
     "output_type": "stream",
     "text": [
      "alpha of model: 1000\n",
      "mae of womens diff model: 9.867815635786576\n"
     ]
    }
   ],
   "source": [
    "w_linear_model = ['team_one_my_total', 'team_two_my_total', 'team_one_pace', 'team_two_pace',\n",
    "                  'grand_elo_pred']\n",
    "\n",
    "womens_diff_model = RidgeCV(alphas=[100, 500, 1000], cv=12)\n",
    "\n",
    "X = womens_tourn[w_linear_model]\n",
    "y = womens_tourn['score_diff']\n",
    "\n",
    "X_train, X_test, y_train, y_test = train_test_split(X, y, test_size=0.2, random_state=32)\n",
    "\n",
    "womens_diff_model.fit(X_train, y_train)\n",
    "\n",
    "print('alpha of model:', womens_diff_model.alpha_)\n",
    "print('mae of womens diff model:', mean_absolute_error(y_test, womens_diff_model.predict(X_test)))"
   ]
  },
  {
   "cell_type": "code",
   "execution_count": 128,
   "id": "3edadac5",
   "metadata": {},
   "outputs": [
    {
     "data": {
      "text/html": [
       "<style>#sk-container-id-3 {color: black;background-color: white;}#sk-container-id-3 pre{padding: 0;}#sk-container-id-3 div.sk-toggleable {background-color: white;}#sk-container-id-3 label.sk-toggleable__label {cursor: pointer;display: block;width: 100%;margin-bottom: 0;padding: 0.3em;box-sizing: border-box;text-align: center;}#sk-container-id-3 label.sk-toggleable__label-arrow:before {content: \"▸\";float: left;margin-right: 0.25em;color: #696969;}#sk-container-id-3 label.sk-toggleable__label-arrow:hover:before {color: black;}#sk-container-id-3 div.sk-estimator:hover label.sk-toggleable__label-arrow:before {color: black;}#sk-container-id-3 div.sk-toggleable__content {max-height: 0;max-width: 0;overflow: hidden;text-align: left;background-color: #f0f8ff;}#sk-container-id-3 div.sk-toggleable__content pre {margin: 0.2em;color: black;border-radius: 0.25em;background-color: #f0f8ff;}#sk-container-id-3 input.sk-toggleable__control:checked~div.sk-toggleable__content {max-height: 200px;max-width: 100%;overflow: auto;}#sk-container-id-3 input.sk-toggleable__control:checked~label.sk-toggleable__label-arrow:before {content: \"▾\";}#sk-container-id-3 div.sk-estimator input.sk-toggleable__control:checked~label.sk-toggleable__label {background-color: #d4ebff;}#sk-container-id-3 div.sk-label input.sk-toggleable__control:checked~label.sk-toggleable__label {background-color: #d4ebff;}#sk-container-id-3 input.sk-hidden--visually {border: 0;clip: rect(1px 1px 1px 1px);clip: rect(1px, 1px, 1px, 1px);height: 1px;margin: -1px;overflow: hidden;padding: 0;position: absolute;width: 1px;}#sk-container-id-3 div.sk-estimator {font-family: monospace;background-color: #f0f8ff;border: 1px dotted black;border-radius: 0.25em;box-sizing: border-box;margin-bottom: 0.5em;}#sk-container-id-3 div.sk-estimator:hover {background-color: #d4ebff;}#sk-container-id-3 div.sk-parallel-item::after {content: \"\";width: 100%;border-bottom: 1px solid gray;flex-grow: 1;}#sk-container-id-3 div.sk-label:hover label.sk-toggleable__label {background-color: #d4ebff;}#sk-container-id-3 div.sk-serial::before {content: \"\";position: absolute;border-left: 1px solid gray;box-sizing: border-box;top: 0;bottom: 0;left: 50%;z-index: 0;}#sk-container-id-3 div.sk-serial {display: flex;flex-direction: column;align-items: center;background-color: white;padding-right: 0.2em;padding-left: 0.2em;position: relative;}#sk-container-id-3 div.sk-item {position: relative;z-index: 1;}#sk-container-id-3 div.sk-parallel {display: flex;align-items: stretch;justify-content: center;background-color: white;position: relative;}#sk-container-id-3 div.sk-item::before, #sk-container-id-3 div.sk-parallel-item::before {content: \"\";position: absolute;border-left: 1px solid gray;box-sizing: border-box;top: 0;bottom: 0;left: 50%;z-index: -1;}#sk-container-id-3 div.sk-parallel-item {display: flex;flex-direction: column;z-index: 1;position: relative;background-color: white;}#sk-container-id-3 div.sk-parallel-item:first-child::after {align-self: flex-end;width: 50%;}#sk-container-id-3 div.sk-parallel-item:last-child::after {align-self: flex-start;width: 50%;}#sk-container-id-3 div.sk-parallel-item:only-child::after {width: 0;}#sk-container-id-3 div.sk-dashed-wrapped {border: 1px dashed gray;margin: 0 0.4em 0.5em 0.4em;box-sizing: border-box;padding-bottom: 0.4em;background-color: white;}#sk-container-id-3 div.sk-label label {font-family: monospace;font-weight: bold;display: inline-block;line-height: 1.2em;}#sk-container-id-3 div.sk-label-container {text-align: center;}#sk-container-id-3 div.sk-container {/* jupyter's `normalize.less` sets `[hidden] { display: none; }` but bootstrap.min.css set `[hidden] { display: none !important; }` so we also need the `!important` here to be able to override the default hidden behavior on the sphinx rendered scikit-learn.org. See: https://github.com/scikit-learn/scikit-learn/issues/21755 */display: inline-block !important;position: relative;}#sk-container-id-3 div.sk-text-repr-fallback {display: none;}</style><div id=\"sk-container-id-3\" class=\"sk-top-container\"><div class=\"sk-text-repr-fallback\"><pre>RidgeCV(alphas=[100, 500, 1000], cv=12)</pre><b>In a Jupyter environment, please rerun this cell to show the HTML representation or trust the notebook. <br />On GitHub, the HTML representation is unable to render, please try loading this page with nbviewer.org.</b></div><div class=\"sk-container\" hidden><div class=\"sk-item\"><div class=\"sk-estimator sk-toggleable\"><input class=\"sk-toggleable__control sk-hidden--visually\" id=\"sk-estimator-id-5\" type=\"checkbox\" checked><label for=\"sk-estimator-id-5\" class=\"sk-toggleable__label sk-toggleable__label-arrow\">RidgeCV</label><div class=\"sk-toggleable__content\"><pre>RidgeCV(alphas=[100, 500, 1000], cv=12)</pre></div></div></div></div></div>"
      ],
      "text/plain": [
       "RidgeCV(alphas=[100, 500, 1000], cv=12)"
      ]
     },
     "execution_count": 128,
     "metadata": {},
     "output_type": "execute_result"
    }
   ],
   "source": [
    "womens_diff_model.fit(X, y)"
   ]
  },
  {
   "cell_type": "code",
   "execution_count": 129,
   "id": "63bbee03",
   "metadata": {},
   "outputs": [],
   "source": [
    "womens_tourn['pred_diff'] = womens_diff_model.predict(womens_tourn[w_linear_model])"
   ]
  },
  {
   "cell_type": "code",
   "execution_count": 130,
   "id": "e9f98383",
   "metadata": {},
   "outputs": [],
   "source": [
    "womens_model_cols = ['grand_elo_pred', 'team_one_pace', \n",
    "                     'team_one_my_total', 'team_two_pace', \n",
    "                     'team_two_my_total', 'pred_diff']"
   ]
  },
  {
   "cell_type": "code",
   "execution_count": 160,
   "id": "ec6d96d8",
   "metadata": {},
   "outputs": [
    {
     "data": {
      "text/html": [
       "<style>#sk-container-id-14 {color: black;background-color: white;}#sk-container-id-14 pre{padding: 0;}#sk-container-id-14 div.sk-toggleable {background-color: white;}#sk-container-id-14 label.sk-toggleable__label {cursor: pointer;display: block;width: 100%;margin-bottom: 0;padding: 0.3em;box-sizing: border-box;text-align: center;}#sk-container-id-14 label.sk-toggleable__label-arrow:before {content: \"▸\";float: left;margin-right: 0.25em;color: #696969;}#sk-container-id-14 label.sk-toggleable__label-arrow:hover:before {color: black;}#sk-container-id-14 div.sk-estimator:hover label.sk-toggleable__label-arrow:before {color: black;}#sk-container-id-14 div.sk-toggleable__content {max-height: 0;max-width: 0;overflow: hidden;text-align: left;background-color: #f0f8ff;}#sk-container-id-14 div.sk-toggleable__content pre {margin: 0.2em;color: black;border-radius: 0.25em;background-color: #f0f8ff;}#sk-container-id-14 input.sk-toggleable__control:checked~div.sk-toggleable__content {max-height: 200px;max-width: 100%;overflow: auto;}#sk-container-id-14 input.sk-toggleable__control:checked~label.sk-toggleable__label-arrow:before {content: \"▾\";}#sk-container-id-14 div.sk-estimator input.sk-toggleable__control:checked~label.sk-toggleable__label {background-color: #d4ebff;}#sk-container-id-14 div.sk-label input.sk-toggleable__control:checked~label.sk-toggleable__label {background-color: #d4ebff;}#sk-container-id-14 input.sk-hidden--visually {border: 0;clip: rect(1px 1px 1px 1px);clip: rect(1px, 1px, 1px, 1px);height: 1px;margin: -1px;overflow: hidden;padding: 0;position: absolute;width: 1px;}#sk-container-id-14 div.sk-estimator {font-family: monospace;background-color: #f0f8ff;border: 1px dotted black;border-radius: 0.25em;box-sizing: border-box;margin-bottom: 0.5em;}#sk-container-id-14 div.sk-estimator:hover {background-color: #d4ebff;}#sk-container-id-14 div.sk-parallel-item::after {content: \"\";width: 100%;border-bottom: 1px solid gray;flex-grow: 1;}#sk-container-id-14 div.sk-label:hover label.sk-toggleable__label {background-color: #d4ebff;}#sk-container-id-14 div.sk-serial::before {content: \"\";position: absolute;border-left: 1px solid gray;box-sizing: border-box;top: 0;bottom: 0;left: 50%;z-index: 0;}#sk-container-id-14 div.sk-serial {display: flex;flex-direction: column;align-items: center;background-color: white;padding-right: 0.2em;padding-left: 0.2em;position: relative;}#sk-container-id-14 div.sk-item {position: relative;z-index: 1;}#sk-container-id-14 div.sk-parallel {display: flex;align-items: stretch;justify-content: center;background-color: white;position: relative;}#sk-container-id-14 div.sk-item::before, #sk-container-id-14 div.sk-parallel-item::before {content: \"\";position: absolute;border-left: 1px solid gray;box-sizing: border-box;top: 0;bottom: 0;left: 50%;z-index: -1;}#sk-container-id-14 div.sk-parallel-item {display: flex;flex-direction: column;z-index: 1;position: relative;background-color: white;}#sk-container-id-14 div.sk-parallel-item:first-child::after {align-self: flex-end;width: 50%;}#sk-container-id-14 div.sk-parallel-item:last-child::after {align-self: flex-start;width: 50%;}#sk-container-id-14 div.sk-parallel-item:only-child::after {width: 0;}#sk-container-id-14 div.sk-dashed-wrapped {border: 1px dashed gray;margin: 0 0.4em 0.5em 0.4em;box-sizing: border-box;padding-bottom: 0.4em;background-color: white;}#sk-container-id-14 div.sk-label label {font-family: monospace;font-weight: bold;display: inline-block;line-height: 1.2em;}#sk-container-id-14 div.sk-label-container {text-align: center;}#sk-container-id-14 div.sk-container {/* jupyter's `normalize.less` sets `[hidden] { display: none; }` but bootstrap.min.css set `[hidden] { display: none !important; }` so we also need the `!important` here to be able to override the default hidden behavior on the sphinx rendered scikit-learn.org. See: https://github.com/scikit-learn/scikit-learn/issues/21755 */display: inline-block !important;position: relative;}#sk-container-id-14 div.sk-text-repr-fallback {display: none;}</style><div id=\"sk-container-id-14\" class=\"sk-top-container\"><div class=\"sk-text-repr-fallback\"><pre>GridSearchCV(cv=15,\n",
       "             estimator=GradientBoostingClassifier(max_depth=2, n_estimators=40,\n",
       "                                                  n_iter_no_change=3),\n",
       "             param_grid={&#x27;max_depth&#x27;: [2, 3], &#x27;n_estimators&#x27;: [25, 40, 60],\n",
       "                         &#x27;n_iter_no_change&#x27;: [3, 5, 8]},\n",
       "             scoring=&#x27;neg_log_loss&#x27;)</pre><b>In a Jupyter environment, please rerun this cell to show the HTML representation or trust the notebook. <br />On GitHub, the HTML representation is unable to render, please try loading this page with nbviewer.org.</b></div><div class=\"sk-container\" hidden><div class=\"sk-item sk-dashed-wrapped\"><div class=\"sk-label-container\"><div class=\"sk-label sk-toggleable\"><input class=\"sk-toggleable__control sk-hidden--visually\" id=\"sk-estimator-id-18\" type=\"checkbox\" ><label for=\"sk-estimator-id-18\" class=\"sk-toggleable__label sk-toggleable__label-arrow\">GridSearchCV</label><div class=\"sk-toggleable__content\"><pre>GridSearchCV(cv=15,\n",
       "             estimator=GradientBoostingClassifier(max_depth=2, n_estimators=40,\n",
       "                                                  n_iter_no_change=3),\n",
       "             param_grid={&#x27;max_depth&#x27;: [2, 3], &#x27;n_estimators&#x27;: [25, 40, 60],\n",
       "                         &#x27;n_iter_no_change&#x27;: [3, 5, 8]},\n",
       "             scoring=&#x27;neg_log_loss&#x27;)</pre></div></div></div><div class=\"sk-parallel\"><div class=\"sk-parallel-item\"><div class=\"sk-item\"><div class=\"sk-label-container\"><div class=\"sk-label sk-toggleable\"><input class=\"sk-toggleable__control sk-hidden--visually\" id=\"sk-estimator-id-19\" type=\"checkbox\" ><label for=\"sk-estimator-id-19\" class=\"sk-toggleable__label sk-toggleable__label-arrow\">estimator: GradientBoostingClassifier</label><div class=\"sk-toggleable__content\"><pre>GradientBoostingClassifier(max_depth=2, n_estimators=40, n_iter_no_change=3)</pre></div></div></div><div class=\"sk-serial\"><div class=\"sk-item\"><div class=\"sk-estimator sk-toggleable\"><input class=\"sk-toggleable__control sk-hidden--visually\" id=\"sk-estimator-id-20\" type=\"checkbox\" ><label for=\"sk-estimator-id-20\" class=\"sk-toggleable__label sk-toggleable__label-arrow\">GradientBoostingClassifier</label><div class=\"sk-toggleable__content\"><pre>GradientBoostingClassifier(max_depth=2, n_estimators=40, n_iter_no_change=3)</pre></div></div></div></div></div></div></div></div></div></div>"
      ],
      "text/plain": [
       "GridSearchCV(cv=15,\n",
       "             estimator=GradientBoostingClassifier(max_depth=2, n_estimators=40,\n",
       "                                                  n_iter_no_change=3),\n",
       "             param_grid={'max_depth': [2, 3], 'n_estimators': [25, 40, 60],\n",
       "                         'n_iter_no_change': [3, 5, 8]},\n",
       "             scoring='neg_log_loss')"
      ]
     },
     "execution_count": 160,
     "metadata": {},
     "output_type": "execute_result"
    }
   ],
   "source": [
    "womens_gbm = GradientBoostingClassifier(n_iter_no_change=3, max_depth=2, n_estimators=40)\n",
    "\n",
    "w_params = {\n",
    "    'n_estimators' : [25, 40, 60],\n",
    "    'max_depth' : [2, 3],\n",
    "    'n_iter_no_change' : [3, 5, 8]\n",
    "}\n",
    "gridsearch_model = GridSearchCV(estimator=womens_gbm, param_grid=w_params, cv=15, scoring='neg_log_loss')\n",
    "\n",
    "womens_X = womens_tourn[womens_model_cols].copy()\n",
    "womens_y = womens_tourn['team_one_win'].values\n",
    "\n",
    "X_train, X_test, y_train, y_test = train_test_split(womens_X, womens_y, test_size=0.2, random_state=88)\n",
    "\n",
    "womens_gbm.fit(X_train, y_train)\n",
    "gridsearch_model.fit(womens_X, womens_y)"
   ]
  },
  {
   "cell_type": "code",
   "execution_count": 163,
   "id": "fb2696b3",
   "metadata": {},
   "outputs": [
    {
     "data": {
      "text/plain": [
       "-0.4380939838577104"
      ]
     },
     "execution_count": 163,
     "metadata": {},
     "output_type": "execute_result"
    }
   ],
   "source": [
    "gridsearch_model.best_score_"
   ]
  },
  {
   "cell_type": "code",
   "execution_count": 164,
   "id": "121237c2",
   "metadata": {},
   "outputs": [
    {
     "data": {
      "text/plain": [
       "0.26212858669102335"
      ]
     },
     "execution_count": 164,
     "metadata": {},
     "output_type": "execute_result"
    }
   ],
   "source": [
    "log_loss(y_test, womens_model.predict_proba(X_test)[:,1])\n",
    "# brier_score_loss(y_test, womens_model.predict_proba(X_test)[:,1])"
   ]
  },
  {
   "cell_type": "code",
   "execution_count": 166,
   "id": "03438344",
   "metadata": {},
   "outputs": [],
   "source": [
    "womens_submission = pd.read_csv(f'{data_folder}SampleSubmission2023.csv')\n",
    "womens_seeds = pd.read_csv(f'{data_folder}WNCAATourneySeeds.csv')\n",
    "\n",
    "# getting a list of this year's teams\n",
    "womens_teams_thisyr = list(womens_seeds[womens_seeds['Season'] == 2023]['TeamID'].unique())\n",
    "\n",
    "womens_submission['team_one'] = [int(x[5:9]) for x in womens_submission.ID]\n",
    "womens_submission['team_two'] = [int(x[10:15]) for x in womens_submission.ID]\n",
    "womens_submission['season'] = 2023\n",
    "\n",
    "# limiting the pool to this year's teams\n",
    "condition = ((womens_submission['team_one'].isin(womens_teams_thisyr)) & \n",
    "             (womens_submission['team_two'].isin(womens_teams_thisyr))\n",
    "            )\n",
    "\n",
    "womens_submission = womens_submission[condition].copy()"
   ]
  },
  {
   "cell_type": "code",
   "execution_count": 174,
   "id": "7ae2233b",
   "metadata": {},
   "outputs": [],
   "source": [
    "Wgrand_elo_preds = []\n",
    "\n",
    "for t1, t2 in zip(womens_submission.team_one, womens_submission.team_two):\n",
    "    \n",
    "    t1_rating = Wseason_end_elo_dict[(2023, t1)]\n",
    "    t2_rating = Wseason_end_elo_dict[(2023, t2)]\n",
    "    \n",
    "    elo_pred_ = elo_predict(t1_rating, t2_rating)\n",
    "    Wgrand_elo_preds.append(elo_pred_)\n",
    "    \n",
    "womens_submission['grand_elo_pred'] = Wgrand_elo_preds"
   ]
  },
  {
   "cell_type": "code",
   "execution_count": 169,
   "id": "19f84dca",
   "metadata": {},
   "outputs": [],
   "source": [
    "t1_pace = []\n",
    "t2_pace = []\n",
    "t1_eff = []\n",
    "t2_eff = []\n",
    "\n",
    "\n",
    "\n",
    "for t1, t2 in zip(womens_submission['team_one'], womens_submission['team_two']):\n",
    "    \n",
    "    try:\n",
    "    \n",
    "        t1_pace_ = womens_season_pace_dict[2023].loc[t1]['pace']\n",
    "        t2_pace_ = womens_season_pace_dict[2023].loc[t2]['pace']\n",
    "        t1_eff_ = womens_season_eff_dict[2023].loc[t1]['my_total']\n",
    "        t2_eff_ = womens_season_eff_dict[2023].loc[t2]['my_total']\n",
    "\n",
    "        t1_pace.append(t1_pace_)\n",
    "        t2_pace.append(t2_pace_)\n",
    "        t1_eff.append(t1_eff_)\n",
    "        t2_eff.append(t2_eff_)\n",
    "        \n",
    "    except:\n",
    "        \n",
    "        t1_pace.append(55)\n",
    "        t2_pace.append(55)\n",
    "        t1_eff.append(-5)\n",
    "        t2_eff.append(-5)\n",
    "\n",
    "womens_submission['team_one_pace'] = t1_pace\n",
    "womens_submission['team_two_pace'] = t2_pace\n",
    "womens_submission['team_one_my_total'] = t1_eff\n",
    "womens_submission['team_two_my_total'] = t2_eff"
   ]
  },
  {
   "cell_type": "code",
   "execution_count": 175,
   "id": "528bb006",
   "metadata": {},
   "outputs": [],
   "source": [
    "womens_submission['pred_diff'] = womens_diff_model.predict(womens_submission[w_linear_model])"
   ]
  },
  {
   "cell_type": "code",
   "execution_count": 176,
   "id": "8f675c2f",
   "metadata": {},
   "outputs": [],
   "source": [
    "womens_submission['model_pred'] = gridsearch_model.predict_proba(womens_submission[womens_model_cols])[:,1]"
   ]
  },
  {
   "cell_type": "code",
   "execution_count": 177,
   "id": "87c762a1",
   "metadata": {},
   "outputs": [],
   "source": [
    "womens_submission['Pred'] = womens_submission['model_pred']"
   ]
  },
  {
   "cell_type": "code",
   "execution_count": 178,
   "id": "d4b63a3d",
   "metadata": {},
   "outputs": [
    {
     "name": "stderr",
     "output_type": "stream",
     "text": [
      "C:\\Users\\yaobv\\AppData\\Local\\Temp\\ipykernel_15312\\3358348523.py:3: UserWarning: Boolean Series key will be reindexed to match DataFrame index.\n",
      "  Wone_seeds = womens_seeds_2023[womens_seeds['Seed'].str.contains('01')]['TeamID'].to_list()\n",
      "C:\\Users\\yaobv\\AppData\\Local\\Temp\\ipykernel_15312\\3358348523.py:4: UserWarning: Boolean Series key will be reindexed to match DataFrame index.\n",
      "  Wsixteen_seeds = womens_seeds_2023[womens_seeds['Seed'].str.contains('16')]['TeamID'].to_list()\n"
     ]
    }
   ],
   "source": [
    "womens_seeds_2023 = womens_seeds[womens_seeds['Season'] == 2023].copy()\n",
    "\n",
    "Wone_seeds = womens_seeds_2023[womens_seeds['Seed'].str.contains('01')]['TeamID'].to_list()\n",
    "Wsixteen_seeds = womens_seeds_2023[womens_seeds['Seed'].str.contains('16')]['TeamID'].to_list()\n",
    "\n",
    "womens_submission['Pred'] = (\n",
    "    np.where(womens_submission['team_one'].isin(Wsixteen_seeds),\n",
    "             0,\n",
    "             womens_submission['Pred'])\n",
    ")\n",
    "\n",
    "womens_submission['Pred'] = (\n",
    "    np.where(womens_submission['team_two'].isin(Wsixteen_seeds),\n",
    "             1,\n",
    "             womens_submission['Pred'])\n",
    ")"
   ]
  },
  {
   "cell_type": "code",
   "execution_count": 179,
   "id": "1dd2ebbf",
   "metadata": {},
   "outputs": [
    {
     "data": {
      "text/plain": [
       "<Axes: >"
      ]
     },
     "execution_count": 179,
     "metadata": {},
     "output_type": "execute_result"
    },
    {
     "data": {
      "image/png": "[encoded data removed]",
      "text/plain": [
       "<Figure size 640x480 with 1 Axes>"
      ]
     },
     "metadata": {},
     "output_type": "display_data"
    }
   ],
   "source": [
    "womens_submission['Pred'].hist()"
   ]
  },
  {
   "cell_type": "code",
   "execution_count": 190,
   "id": "1d1c37e5",
   "metadata": {},
   "outputs": [],
   "source": [
    "# loading the sample to populate it \n",
    "\n",
    "full_submission = pd.read_csv(f'{data_folder}SampleSubmission2023.csv')\n",
    "\n",
    "# limiting men's and women's submission df's\n",
    "mens_submission_compact = mens_submission[['ID', 'Pred']].copy()\n",
    "womens_submission_compact = womens_submission[['ID', 'Pred']].copy()"
   ]
  },
  {
   "cell_type": "code",
   "execution_count": 194,
   "id": "f0a3c0c1",
   "metadata": {},
   "outputs": [],
   "source": [
    "men_women_sub = pd.concat([mens_submission_compact, womens_submission_compact])\n",
    "\n",
    "mwsubdict = men_women_sub.set_index('ID')['Pred'].to_dict()\n",
    "\n",
    "full_submission['Pred'] = [mwsubdict[x] if x in mwsubdict else 0.5 for x in full_submission['ID']]"
   ]
  },
  {
   "cell_type": "code",
   "execution_count": 195,
   "id": "4bd21f98",
   "metadata": {},
   "outputs": [],
   "source": [
    "full_submission.to_csv('late_sub_03_28.csv', index=False)"
   ]
  },
  {
   "cell_type": "code",
   "execution_count": 192,
   "id": "4fc56a6b",
   "metadata": {},
   "outputs": [
    {
     "data": {
      "text/plain": [
       "array([[<Axes: title={'center': 'Pred'}>]], dtype=object)"
      ]
     },
     "execution_count": 192,
     "metadata": {},
     "output_type": "execute_result"
    },
    {
     "data": {
      "image/png": "[encoded data removed]",
      "text/plain": [
       "<Figure size 640x480 with 1 Axes>"
      ]
     },
     "metadata": {},
     "output_type": "display_data"
    }
   ],
   "source": [
    "full_submission[full_submission['Pred'] != 0.5].hist(bins=25)"
   ]
  },
  {
   "cell_type": "code",
   "execution_count": 196,
   "id": "c02349b2",
   "metadata": {},
   "outputs": [],
   "source": [
    "results_so_far = r\"C:\\Users\\yaobv\\Downloads\\2023_03_26_20.18.36  scoring 116 games total.csv\"\n",
    "\n",
    "rsf_df = pd.read_csv(results_so_far)\n",
    "\n",
    "so_far = rsf_df[rsf_df['Usage'] == 'Public'].copy()"
   ]
  },
  {
   "cell_type": "code",
   "execution_count": 197,
   "id": "f865d7b1",
   "metadata": {},
   "outputs": [],
   "source": [
    "full_dict = full_submission.set_index('ID')['Pred'].to_dict()\n",
    "\n",
    "so_far['my_pred'] = [full_dict[id_] if id_ in full_dict else 0.5 for id_ in so_far.ID]"
   ]
  },
  {
   "cell_type": "code",
   "execution_count": 199,
   "id": "44624f08",
   "metadata": {},
   "outputs": [
    {
     "data": {
      "text/plain": [
       "0.20260468819889332"
      ]
     },
     "execution_count": 199,
     "metadata": {},
     "output_type": "execute_result"
    }
   ],
   "source": [
    "brier_score_loss(so_far['Pred'], so_far['my_pred'])"
   ]
  }
 ],
 "metadata": {
  "kernelspec": {
   "display_name": "Python 3 (ipykernel)",
   "language": "python",
   "name": "python3"
  },
  "language_info": {
   "codemirror_mode": {
    "name": "ipython",
    "version": 3
   },
   "file_extension": ".py",
   "mimetype": "text/x-python",
   "name": "python",
   "nbconvert_exporter": "python",
   "pygments_lexer": "ipython3",
   "version": "3.9.16"
  }
 },
 "nbformat": 4,
 "nbformat_minor": 5
}
